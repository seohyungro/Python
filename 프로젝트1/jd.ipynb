{
 "cells": [
  {
   "cell_type": "code",
   "execution_count": 289,
   "metadata": {},
   "outputs": [],
   "source": [
    "import pandas as pd"
   ]
  },
  {
   "cell_type": "code",
   "execution_count": 290,
   "metadata": {},
   "outputs": [],
   "source": [
    "kospi_1 = pd.read_csv(\"./거시경제변수데이터/1분기 연결 ifrs.csv\", encoding = \"euc-kr\")\n",
    "kospi_1_ = pd.read_csv(\"./거시경제변수데이터/1분기 개별 ifrs.csv\", encoding = \"euc-kr\")\n",
    "kospi_3 = pd.read_csv(\"./거시경제변수데이터/3분기 연결 ifrs.csv\", encoding = \"euc-kr\")\n",
    "kospi_3_ = pd.read_csv(\"./거시경제변수데이터/3분기 개별 ifrs.csv\", encoding = \"euc-kr\")\n",
    "kospi_2i = pd.read_csv(\"./거시경제변수데이터/반기 연결 ifrs.csv\", encoding = \"euc-kr\")\n",
    "kospi_2i_ = pd.read_csv(\"./거시경제변수데이터/반기 개별 ifrs.csv\", encoding = \"euc-kr\")\n",
    "kospi_2g = pd.read_csv(\"./거시경제변수데이터/반기 연결 gaap.csv\", encoding = \"euc-kr\")\n",
    "kospi_2g_ = pd.read_csv(\"./거시경제변수데이터/반기 개별 gaap.csv\", encoding = \"euc-kr\")\n",
    "kospi_4i = pd.read_csv(\"./거시경제변수데이터/사업 연결 ifrs.csv\", encoding = \"euc-kr\")\n",
    "kospi_4i_ = pd.read_csv(\"./거시경제변수데이터/사업 개별 ifrs.csv\", encoding = \"euc-kr\")\n",
    "kospi_4g = pd.read_csv(\"./거시경제변수데이터/사업 연결 GAAP.csv\", encoding = \"euc-kr\")\n",
    "kospi_4g_ = pd.read_csv(\"./거시경제변수데이터/사업 개별 gaap.csv\", encoding = \"euc-kr\")"
   ]
  },
  {
   "cell_type": "code",
   "execution_count": 291,
   "metadata": {},
   "outputs": [],
   "source": [
    "kospi_2i.columns = ['회사명', '거래소코드', '회계년도', '당기순이익', '영업손익', '매출액']\n",
    "kospi_2i_.columns = ['회사명', '거래소코드', '회계년도', '당기순이익', '영업손익', '매출액']\n",
    "kospi_2g.columns = ['회사명', '거래소코드', '회계년도', '당기순이익', '영업손익', '매출액']\n",
    "kospi_2g_.columns = ['회사명', '거래소코드', '회계년도', '당기순이익', '영업손익', '매출액']\n",
    "kospi_4i.columns = ['회사명', '거래소코드', '회계년도', '당기순이익', '영업손익', '매출액']\n",
    "kospi_4i_.columns = ['회사명', '거래소코드', '회계년도', '당기순이익', '영업손익', '매출액']\n",
    "kospi_4g.columns = ['회사명', '거래소코드', '회계년도', '당기순이익', '영업손익', '매출액']\n",
    "kospi_4g_.columns = ['회사명', '거래소코드', '회계년도', '당기순이익', '영업손익', '매출액']"
   ]
  },
  {
   "cell_type": "code",
   "execution_count": 292,
   "metadata": {},
   "outputs": [],
   "source": [
    "kospi_1.columns = ['회사명', '거래소코드', '회계년도', '당기순이익', '주당순손익', '부채', '매출액(수익)', '자본', '(정상)영업손익']\n",
    "kospi_1_.columns = ['회사명', '거래소코드', '회계년도', '당기순이익', '주당순손익', '부채', '매출액(수익)', '자본', '(정상)영업손익']\n",
    "kospi_3.columns = ['회사명', '거래소코드', '회계년도', '당기순이익', '주당순손익', '부채', '매출액(수익)', '자본', '(정상)영업손익']\n",
    "kospi_3_.columns = ['회사명', '거래소코드', '회계년도', '당기순이익', '주당순손익', '부채', '매출액(수익)', '자본', '(정상)영업손익']"
   ]
  },
  {
   "cell_type": "code",
   "execution_count": 293,
   "metadata": {},
   "outputs": [],
   "source": [
    "kospi2i = kospi_2i.fillna(kospi_2i_)\n",
    "kospi2g = kospi_2g.fillna(kospi_2g_)\n",
    "kospi4i = kospi_4i.fillna(kospi_4i_)\n",
    "kospi4g = kospi_4g.fillna(kospi_4g_)\n",
    "kospi2 = kospi_2i.fillna(kospi_2g)\n",
    "kospi4 = kospi_4i.fillna(kospi_4g)"
   ]
  },
  {
   "cell_type": "code",
   "execution_count": 294,
   "metadata": {},
   "outputs": [
    {
     "data": {
      "text/plain": [
       "회사명        0\n",
       "거래소코드      0\n",
       "회계년도       0\n",
       "당기순이익    426\n",
       "영업손익     426\n",
       "매출액      426\n",
       "dtype: int64"
      ]
     },
     "execution_count": 294,
     "metadata": {},
     "output_type": "execute_result"
    }
   ],
   "source": [
    "kospi2i.isnull().sum()"
   ]
  },
  {
   "cell_type": "code",
   "execution_count": 295,
   "metadata": {},
   "outputs": [
    {
     "data": {
      "text/plain": [
       "회사명         0\n",
       "거래소코드       0\n",
       "회계년도        0\n",
       "당기순이익    1042\n",
       "영업손익     1042\n",
       "매출액      1042\n",
       "dtype: int64"
      ]
     },
     "execution_count": 295,
     "metadata": {},
     "output_type": "execute_result"
    }
   ],
   "source": [
    "kospi2.isnull().sum()"
   ]
  },
  {
   "cell_type": "code",
   "execution_count": 296,
   "metadata": {},
   "outputs": [],
   "source": [
    "kospi1 = kospi_1.fillna(kospi_1_)\n",
    "kospi3 = kospi_3.fillna(kospi_3_)"
   ]
  },
  {
   "cell_type": "code",
   "execution_count": 297,
   "metadata": {},
   "outputs": [
    {
     "data": {
      "text/html": [
       "<div>\n",
       "<style scoped>\n",
       "    .dataframe tbody tr th:only-of-type {\n",
       "        vertical-align: middle;\n",
       "    }\n",
       "\n",
       "    .dataframe tbody tr th {\n",
       "        vertical-align: top;\n",
       "    }\n",
       "\n",
       "    .dataframe thead th {\n",
       "        text-align: right;\n",
       "    }\n",
       "</style>\n",
       "<table border=\"1\" class=\"dataframe\">\n",
       "  <thead>\n",
       "    <tr style=\"text-align: right;\">\n",
       "      <th></th>\n",
       "      <th>회사명</th>\n",
       "      <th>거래소코드</th>\n",
       "      <th>회계년도</th>\n",
       "      <th>당기순이익</th>\n",
       "      <th>주당순손익</th>\n",
       "      <th>부채</th>\n",
       "      <th>매출액(수익)</th>\n",
       "      <th>자본</th>\n",
       "      <th>(정상)영업손익</th>\n",
       "    </tr>\n",
       "  </thead>\n",
       "  <tbody>\n",
       "    <tr>\n",
       "      <th>0</th>\n",
       "      <td>(주)BNK금융지주</td>\n",
       "      <td>138930</td>\n",
       "      <td>2011/03</td>\n",
       "      <td>NaN</td>\n",
       "      <td>NaN</td>\n",
       "      <td>NaN</td>\n",
       "      <td>NaN</td>\n",
       "      <td>NaN</td>\n",
       "      <td>NaN</td>\n",
       "    </tr>\n",
       "    <tr>\n",
       "      <th>1</th>\n",
       "      <td>(주)BNK금융지주</td>\n",
       "      <td>138930</td>\n",
       "      <td>2012/03</td>\n",
       "      <td>NaN</td>\n",
       "      <td>NaN</td>\n",
       "      <td>NaN</td>\n",
       "      <td>NaN</td>\n",
       "      <td>NaN</td>\n",
       "      <td>NaN</td>\n",
       "    </tr>\n",
       "    <tr>\n",
       "      <th>2</th>\n",
       "      <td>(주)BNK금융지주</td>\n",
       "      <td>138930</td>\n",
       "      <td>2013/03</td>\n",
       "      <td>NaN</td>\n",
       "      <td>NaN</td>\n",
       "      <td>NaN</td>\n",
       "      <td>NaN</td>\n",
       "      <td>NaN</td>\n",
       "      <td>NaN</td>\n",
       "    </tr>\n",
       "    <tr>\n",
       "      <th>3</th>\n",
       "      <td>(주)BNK금융지주</td>\n",
       "      <td>138930</td>\n",
       "      <td>2014/03</td>\n",
       "      <td>NaN</td>\n",
       "      <td>NaN</td>\n",
       "      <td>NaN</td>\n",
       "      <td>NaN</td>\n",
       "      <td>NaN</td>\n",
       "      <td>NaN</td>\n",
       "    </tr>\n",
       "    <tr>\n",
       "      <th>4</th>\n",
       "      <td>(주)BNK금융지주</td>\n",
       "      <td>138930</td>\n",
       "      <td>2015/03</td>\n",
       "      <td>NaN</td>\n",
       "      <td>NaN</td>\n",
       "      <td>NaN</td>\n",
       "      <td>NaN</td>\n",
       "      <td>NaN</td>\n",
       "      <td>NaN</td>\n",
       "    </tr>\n",
       "    <tr>\n",
       "      <th>...</th>\n",
       "      <td>...</td>\n",
       "      <td>...</td>\n",
       "      <td>...</td>\n",
       "      <td>...</td>\n",
       "      <td>...</td>\n",
       "      <td>...</td>\n",
       "      <td>...</td>\n",
       "      <td>...</td>\n",
       "      <td>...</td>\n",
       "    </tr>\n",
       "    <tr>\n",
       "      <th>2628</th>\n",
       "      <td>효성첨단소재(주)</td>\n",
       "      <td>298050</td>\n",
       "      <td>2022/03</td>\n",
       "      <td>70792812.0</td>\n",
       "      <td>0.0</td>\n",
       "      <td>2.299693e+09</td>\n",
       "      <td>1.003317e+09</td>\n",
       "      <td>7.014988e+08</td>\n",
       "      <td>101649692.0</td>\n",
       "    </tr>\n",
       "    <tr>\n",
       "      <th>2629</th>\n",
       "      <td>효성티앤씨(주)</td>\n",
       "      <td>298020</td>\n",
       "      <td>2019/03</td>\n",
       "      <td>31640199.0</td>\n",
       "      <td>0.0</td>\n",
       "      <td>2.760249e+09</td>\n",
       "      <td>1.410360e+09</td>\n",
       "      <td>5.172060e+08</td>\n",
       "      <td>54719110.0</td>\n",
       "    </tr>\n",
       "    <tr>\n",
       "      <th>2630</th>\n",
       "      <td>효성티앤씨(주)</td>\n",
       "      <td>298020</td>\n",
       "      <td>2020/03</td>\n",
       "      <td>26286643.0</td>\n",
       "      <td>0.0</td>\n",
       "      <td>2.683382e+09</td>\n",
       "      <td>1.387682e+09</td>\n",
       "      <td>6.020744e+08</td>\n",
       "      <td>78499133.0</td>\n",
       "    </tr>\n",
       "    <tr>\n",
       "      <th>2631</th>\n",
       "      <td>효성티앤씨(주)</td>\n",
       "      <td>298020</td>\n",
       "      <td>2021/03</td>\n",
       "      <td>180114270.0</td>\n",
       "      <td>0.0</td>\n",
       "      <td>2.302708e+09</td>\n",
       "      <td>1.618201e+09</td>\n",
       "      <td>8.869733e+08</td>\n",
       "      <td>246796651.0</td>\n",
       "    </tr>\n",
       "    <tr>\n",
       "      <th>2632</th>\n",
       "      <td>효성티앤씨(주)</td>\n",
       "      <td>298020</td>\n",
       "      <td>2022/03</td>\n",
       "      <td>105372231.0</td>\n",
       "      <td>0.0</td>\n",
       "      <td>3.395294e+09</td>\n",
       "      <td>2.340843e+09</td>\n",
       "      <td>1.616927e+09</td>\n",
       "      <td>190141271.0</td>\n",
       "    </tr>\n",
       "  </tbody>\n",
       "</table>\n",
       "<p>2633 rows × 9 columns</p>\n",
       "</div>"
      ],
      "text/plain": [
       "             회사명   거래소코드     회계년도        당기순이익  주당순손익            부채   \n",
       "0     (주)BNK금융지주  138930  2011/03          NaN    NaN           NaN  \\\n",
       "1     (주)BNK금융지주  138930  2012/03          NaN    NaN           NaN   \n",
       "2     (주)BNK금융지주  138930  2013/03          NaN    NaN           NaN   \n",
       "3     (주)BNK금융지주  138930  2014/03          NaN    NaN           NaN   \n",
       "4     (주)BNK금융지주  138930  2015/03          NaN    NaN           NaN   \n",
       "...          ...     ...      ...          ...    ...           ...   \n",
       "2628   효성첨단소재(주)  298050  2022/03   70792812.0    0.0  2.299693e+09   \n",
       "2629    효성티앤씨(주)  298020  2019/03   31640199.0    0.0  2.760249e+09   \n",
       "2630    효성티앤씨(주)  298020  2020/03   26286643.0    0.0  2.683382e+09   \n",
       "2631    효성티앤씨(주)  298020  2021/03  180114270.0    0.0  2.302708e+09   \n",
       "2632    효성티앤씨(주)  298020  2022/03  105372231.0    0.0  3.395294e+09   \n",
       "\n",
       "           매출액(수익)            자본     (정상)영업손익  \n",
       "0              NaN           NaN          NaN  \n",
       "1              NaN           NaN          NaN  \n",
       "2              NaN           NaN          NaN  \n",
       "3              NaN           NaN          NaN  \n",
       "4              NaN           NaN          NaN  \n",
       "...            ...           ...          ...  \n",
       "2628  1.003317e+09  7.014988e+08  101649692.0  \n",
       "2629  1.410360e+09  5.172060e+08   54719110.0  \n",
       "2630  1.387682e+09  6.020744e+08   78499133.0  \n",
       "2631  1.618201e+09  8.869733e+08  246796651.0  \n",
       "2632  2.340843e+09  1.616927e+09  190141271.0  \n",
       "\n",
       "[2633 rows x 9 columns]"
      ]
     },
     "execution_count": 297,
     "metadata": {},
     "output_type": "execute_result"
    }
   ],
   "source": [
    "kospi1"
   ]
  },
  {
   "cell_type": "code",
   "execution_count": 298,
   "metadata": {},
   "outputs": [],
   "source": [
    "kospi1['부채비율'] = kospi1['부채'] / kospi1['자본'] * 100\n",
    "kospi1['매출액정상영업이익률'] = (kospi1['(정상)영업손익'] /kospi1['매출액(수익)']) * 100"
   ]
  },
  {
   "cell_type": "code",
   "execution_count": 299,
   "metadata": {},
   "outputs": [
    {
     "data": {
      "text/plain": [
       "회사명             0\n",
       "거래소코드           0\n",
       "회계년도            0\n",
       "당기순이익         306\n",
       "주당순손익         306\n",
       "부채            306\n",
       "매출액(수익)       306\n",
       "자본            306\n",
       "(정상)영업손익      306\n",
       "부채비율          306\n",
       "매출액정상영업이익률    306\n",
       "dtype: int64"
      ]
     },
     "execution_count": 299,
     "metadata": {},
     "output_type": "execute_result"
    }
   ],
   "source": [
    "kospi1.isna().sum()"
   ]
  },
  {
   "cell_type": "code",
   "execution_count": null,
   "metadata": {},
   "outputs": [],
   "source": []
  }
 ],
 "metadata": {
  "kernelspec": {
   "display_name": "Python 3",
   "language": "python",
   "name": "python3"
  },
  "language_info": {
   "codemirror_mode": {
    "name": "ipython",
    "version": 3
   },
   "file_extension": ".py",
   "mimetype": "text/x-python",
   "name": "python",
   "nbconvert_exporter": "python",
   "pygments_lexer": "ipython3",
   "version": "3.9.6"
  },
  "orig_nbformat": 4
 },
 "nbformat": 4,
 "nbformat_minor": 2
}
