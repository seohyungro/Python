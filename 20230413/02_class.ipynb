{
 "cells": [
  {
   "attachments": {},
   "cell_type": "markdown",
   "metadata": {},
   "source": [
    "# class 생성\n",
    "1. class 이름은 user\n",
    "2. 생성자 함수(\\__init__)에서 유저의 이름, 휴대폰 번호, 생년월일 매개변수를 이용하여 self변수 만들어서 저장\n",
    "3. info() 함수를 생성하여 유저의 정보를 출력하는 함수 생성"
   ]
  },
  {
   "cell_type": "code",
   "execution_count": 1,
   "metadata": {},
   "outputs": [],
   "source": [
    "# class 선언\n",
    "class User:\n",
    "    # 생성자 함수 생성 : 매개변수는 4개 (self포함해서)\n",
    "    def __init__(self, name, phone, birth):\n",
    "        self.name = name\n",
    "        self.phone = phone\n",
    "        self.birth = birth\n",
    "    \n",
    "    def info(self):\n",
    "        return(self.name, self.phone, self.birth)"
   ]
  },
  {
   "cell_type": "code",
   "execution_count": 2,
   "metadata": {},
   "outputs": [],
   "source": [
    "# 클래스 생성\n",
    "# test\n",
    "test = User('test', '01012345678', '900101')"
   ]
  },
  {
   "cell_type": "code",
   "execution_count": 3,
   "metadata": {},
   "outputs": [
    {
     "data": {
      "text/plain": [
       "'test'"
      ]
     },
     "execution_count": 3,
     "metadata": {},
     "output_type": "execute_result"
    }
   ],
   "source": [
    "test.name"
   ]
  },
  {
   "cell_type": "code",
   "execution_count": 4,
   "metadata": {},
   "outputs": [
    {
     "data": {
      "text/plain": [
       "'01012345678'"
      ]
     },
     "execution_count": 4,
     "metadata": {},
     "output_type": "execute_result"
    }
   ],
   "source": [
    "test.phone"
   ]
  },
  {
   "cell_type": "code",
   "execution_count": 5,
   "metadata": {},
   "outputs": [
    {
     "data": {
      "text/plain": [
       "'900101'"
      ]
     },
     "execution_count": 5,
     "metadata": {},
     "output_type": "execute_result"
    }
   ],
   "source": [
    "test.birth"
   ]
  },
  {
   "cell_type": "code",
   "execution_count": 6,
   "metadata": {},
   "outputs": [
    {
     "data": {
      "text/plain": [
       "('test', '01012345678', '900101')"
      ]
     },
     "execution_count": 6,
     "metadata": {},
     "output_type": "execute_result"
    }
   ],
   "source": [
    "test.info()"
   ]
  },
  {
   "attachments": {},
   "cell_type": "markdown",
   "metadata": {},
   "source": [
    "# 지갑 클래스 선언\n",
    "1. 클래스의 이름은 wallet\n",
    "2. 생성자 함수에는 소유자의 이름, 지갑의 브랜드, 지갑의 가치, 잔액\n",
    "3. 잔액의 기본값은 0\n",
    "4. work() 함수 생성 : 매개변수에 일의 종류, 일의 종류가 'TM'이면 지갑의 잔액은 500증가, alba 이면 지갑의 잔액을 300 증가, serving이면 잔액을 400증가\n",
    "5. wallet_info() 함수를 생성 : 지갑의 정보(소유자의 이름, 지갑의 브랜드, 지갑의 가치, 잔액)를 출력"
   ]
  },
  {
   "cell_type": "code",
   "execution_count": 7,
   "metadata": {},
   "outputs": [],
   "source": [
    "class wallet(User): # 상속\n",
    "\n",
    "    # 클래스 변수 \n",
    "    work_type = {\n",
    "        'TM' : 500,\n",
    "        'alba' : 300,\n",
    "        'serving' : 400\n",
    "    }\n",
    "\n",
    "    item_type = {\n",
    "        'cach' : 200,\n",
    "        'food' : 300,\n",
    "        'clothes' : 500\n",
    "    }\n",
    "\n",
    "    # 생성자 함수\n",
    "    def __init__(self, name, phone, birth, brand, value, balence = 0):\n",
    "        # 부모 클래스의 __init__ 함수 실행\n",
    "        super().__init__(name, phone, birth,)\n",
    "        self.brand = brand\n",
    "        self.value = value\n",
    "        self.balence = balence\n",
    "\n",
    "    def work(self, job_type):\n",
    "        # if job_type == 'TM':\n",
    "        #     self.balence += 500\n",
    "        # elif job_type == 'alba':\n",
    "        #     self.balence += 300\n",
    "        # elif job_type == 'serving':\n",
    "        #     self.balence += 400\n",
    "        # else :\n",
    "        #     return '일의 타입이 맞지 않습니다'\n",
    "        # return f\"{job_type}의 일을 완료하였습니다. 현재잔액은 {self.balence}입니다\"\n",
    "        if job_type in self.work_type.keys():\n",
    "            self.balence += self.work_type[job_type]\n",
    "        else:\n",
    "            return '일의 타입이 맞지 않습니다'\n",
    "        return f\"{job_type}의 일을 완료하였습니다. 현재잔액은 {self.balence}입니다\"\n",
    "\n",
    "\n",
    "    # 구매하는 함수 생성\n",
    "    def buy(self, item):\n",
    "        # if item == 'cash':\n",
    "        #     self.cost = 200\n",
    "        # elif item == 'food':\n",
    "        #     self.cost = 300\n",
    "        # elif item == 'clothes':\n",
    "        #     self.cost = 500\n",
    "        # else:\n",
    "        #     return \"item의 타입이 맞지 않습니다\"\n",
    "\n",
    "        if item in item_type.keys():    \n",
    "            if self.balence >= self.item_type[item]:\n",
    "                self.balence -= self.item_type[item]\n",
    "            else:\n",
    "                return \"지갑의 잔액이 부족합니다\"\n",
    "        else:\n",
    "            return \"item의 타입이 맞지 않습니다\"\n",
    "        return f\"{item}을(를) 구매하였습니다. 현재의 잔액은 {self.balence}입니다\"\n",
    "    \n",
    "    # 일과 구매의 목록을 추가하는 함수 생성\n",
    "    def add_type(self, choose, key, value):\n",
    "        # choose : 일이냐 아니면 구매\n",
    "        # key : dict의 키 값\n",
    "        # value : dict의 value 값\n",
    "        if choose == \"work\":\n",
    "            if key not in self.work_type.keys():\n",
    "                self.work_type[key] = value\n",
    "            else:\n",
    "                return \"일 목록이 존재합니다\"\n",
    "        elif choose == 'buy':\n",
    "            if key not in self.work_type.keys():\n",
    "                self.item_type[key] = value\n",
    "            else:\n",
    "                return \"구매목록이 존재합니다\"\n",
    "        else:\n",
    "            return \"choose의 값이 잘못되었습니다\"\n",
    "        return f\"{choose}의 목록이 추가되었습니다\"\n",
    "\n",
    "    \n",
    "    def info(self):\n",
    "        return(self.brand, self.value, self.balence)"
   ]
  },
  {
   "cell_type": "code",
   "execution_count": 8,
   "metadata": {},
   "outputs": [],
   "source": [
    "test = wallet('seohyung','01028640152', '900101', 'chanel', '5000') # 잔액은 기본값이 있어서 안넣어도 됨"
   ]
  },
  {
   "cell_type": "code",
   "execution_count": 9,
   "metadata": {},
   "outputs": [
    {
     "data": {
      "text/plain": [
       "('chanel', '5000', 0)"
      ]
     },
     "execution_count": 9,
     "metadata": {},
     "output_type": "execute_result"
    }
   ],
   "source": [
    "test.info()"
   ]
  },
  {
   "cell_type": "code",
   "execution_count": 10,
   "metadata": {},
   "outputs": [],
   "source": [
    "test2 = User('test2', '01028437847', '000101')"
   ]
  },
  {
   "cell_type": "code",
   "execution_count": 11,
   "metadata": {},
   "outputs": [
    {
     "data": {
      "text/plain": [
       "('test2', '01028437847', '000101')"
      ]
     },
     "execution_count": 11,
     "metadata": {},
     "output_type": "execute_result"
    }
   ],
   "source": [
    "test2.info()"
   ]
  },
  {
   "cell_type": "code",
   "execution_count": 12,
   "metadata": {},
   "outputs": [
    {
     "data": {
      "text/plain": [
       "'TM의 일을 완료하였습니다. 현재잔액은 500입니다'"
      ]
     },
     "execution_count": 12,
     "metadata": {},
     "output_type": "execute_result"
    }
   ],
   "source": [
    "test.work('TM')"
   ]
  },
  {
   "cell_type": "code",
   "execution_count": 13,
   "metadata": {},
   "outputs": [
    {
     "data": {
      "text/plain": [
       "<__main__.wallet at 0x10b756550>"
      ]
     },
     "execution_count": 13,
     "metadata": {},
     "output_type": "execute_result"
    }
   ],
   "source": [
    "test"
   ]
  },
  {
   "cell_type": "code",
   "execution_count": 15,
   "metadata": {},
   "outputs": [
    {
     "ename": "AttributeError",
     "evalue": "'wallet' object has no attribute 'wallet_info'",
     "output_type": "error",
     "traceback": [
      "\u001b[0;31m---------------------------------------------------------------------------\u001b[0m",
      "\u001b[0;31mAttributeError\u001b[0m                            Traceback (most recent call last)",
      "Cell \u001b[0;32mIn[15], line 1\u001b[0m\n\u001b[0;32m----> 1\u001b[0m test\u001b[39m.\u001b[39;49mwallet_info()\n",
      "\u001b[0;31mAttributeError\u001b[0m: 'wallet' object has no attribute 'wallet_info'"
     ]
    }
   ],
   "source": [
    "test.wallet_info()"
   ]
  },
  {
   "cell_type": "code",
   "execution_count": null,
   "metadata": {},
   "outputs": [],
   "source": [
    "test2 = wallet(\"test2\", \"gucci\", \"100000\")"
   ]
  },
  {
   "cell_type": "code",
   "execution_count": null,
   "metadata": {},
   "outputs": [
    {
     "data": {
      "text/plain": [
       "'alba의 일을 완료하였습니다. 현재잔액은 300입니다'"
      ]
     },
     "execution_count": 253,
     "metadata": {},
     "output_type": "execute_result"
    }
   ],
   "source": [
    "test2.work('alba')"
   ]
  },
  {
   "cell_type": "code",
   "execution_count": null,
   "metadata": {},
   "outputs": [
    {
     "data": {
      "text/plain": [
       "'일의 타입이 맞지 않습니다'"
      ]
     },
     "execution_count": 254,
     "metadata": {},
     "output_type": "execute_result"
    }
   ],
   "source": [
    "test.work('teach')"
   ]
  },
  {
   "cell_type": "code",
   "execution_count": null,
   "metadata": {},
   "outputs": [
    {
     "data": {
      "text/plain": [
       "'work의 목록이 추가되었습니다'"
      ]
     },
     "execution_count": 255,
     "metadata": {},
     "output_type": "execute_result"
    }
   ],
   "source": [
    "test.add_type('work', 'teach', 200)"
   ]
  },
  {
   "cell_type": "code",
   "execution_count": null,
   "metadata": {},
   "outputs": [
    {
     "data": {
      "text/plain": [
       "'buy의 목록이 추가되었습니다'"
      ]
     },
     "execution_count": 256,
     "metadata": {},
     "output_type": "execute_result"
    }
   ],
   "source": [
    "test.add_type('buy', 'coffee', 100)"
   ]
  },
  {
   "cell_type": "code",
   "execution_count": null,
   "metadata": {},
   "outputs": [],
   "source": []
  }
 ],
 "metadata": {
  "kernelspec": {
   "display_name": "Python 3",
   "language": "python",
   "name": "python3"
  },
  "language_info": {
   "codemirror_mode": {
    "name": "ipython",
    "version": 3
   },
   "file_extension": ".py",
   "mimetype": "text/x-python",
   "name": "python",
   "nbconvert_exporter": "python",
   "pygments_lexer": "ipython3",
   "version": "3.9.6"
  },
  "orig_nbformat": 4
 },
 "nbformat": 4,
 "nbformat_minor": 2
}
