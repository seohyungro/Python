{
 "cells": [
  {
   "cell_type": "code",
   "execution_count": 2,
   "metadata": {},
   "outputs": [
    {
     "name": "stdout",
     "output_type": "stream",
     "text": [
      "Defaulting to user installation because normal site-packages is not writeable\n",
      "Collecting xmltodict\n",
      "  Downloading xmltodict-0.13.0-py2.py3-none-any.whl (10.0 kB)\n",
      "Installing collected packages: xmltodict\n",
      "Successfully installed xmltodict-0.13.0\n",
      "\u001b[33mWARNING: You are using pip version 21.2.4; however, version 23.0.1 is available.\n",
      "You should consider upgrading via the '/Library/Developer/CommandLineTools/usr/bin/python3 -m pip install --upgrade pip' command.\u001b[0m\n"
     ]
    }
   ],
   "source": [
    "!pip3 install xmltodict"
   ]
  },
  {
   "cell_type": "code",
   "execution_count": 3,
   "metadata": {},
   "outputs": [
    {
     "name": "stdout",
     "output_type": "stream",
     "text": [
      "Defaulting to user installation because normal site-packages is not writeable\n",
      "Collecting requests\n",
      "  Downloading requests-2.28.2-py3-none-any.whl (62 kB)\n",
      "\u001b[K     |████████████████████████████████| 62 kB 3.6 MB/s  eta 0:00:01\n",
      "\u001b[?25hCollecting charset-normalizer<4,>=2\n",
      "  Downloading charset_normalizer-3.1.0-cp39-cp39-macosx_10_9_x86_64.whl (124 kB)\n",
      "\u001b[K     |████████████████████████████████| 124 kB 26.2 MB/s eta 0:00:01\n",
      "\u001b[?25hCollecting idna<4,>=2.5\n",
      "  Downloading idna-3.4-py3-none-any.whl (61 kB)\n",
      "\u001b[K     |████████████████████████████████| 61 kB 341 kB/s  eta 0:00:01\n",
      "\u001b[?25hCollecting certifi>=2017.4.17\n",
      "  Downloading certifi-2022.12.7-py3-none-any.whl (155 kB)\n",
      "\u001b[K     |████████████████████████████████| 155 kB 42.6 MB/s eta 0:00:01\n",
      "\u001b[?25hCollecting urllib3<1.27,>=1.21.1\n",
      "  Downloading urllib3-1.26.15-py2.py3-none-any.whl (140 kB)\n",
      "\u001b[K     |████████████████████████████████| 140 kB 52.6 MB/s eta 0:00:01\n",
      "\u001b[?25hInstalling collected packages: urllib3, idna, charset-normalizer, certifi, requests\n",
      "Successfully installed certifi-2022.12.7 charset-normalizer-3.1.0 idna-3.4 requests-2.28.2 urllib3-1.26.15\n",
      "\u001b[33mWARNING: You are using pip version 21.2.4; however, version 23.0.1 is available.\n",
      "You should consider upgrading via the '/Library/Developer/CommandLineTools/usr/bin/python3 -m pip install --upgrade pip' command.\u001b[0m\n"
     ]
    }
   ],
   "source": [
    "!pip3 install requests"
   ]
  },
  {
   "cell_type": "code",
   "execution_count": 4,
   "metadata": {},
   "outputs": [
    {
     "name": "stdout",
     "output_type": "stream",
     "text": [
      "Defaulting to user installation because normal site-packages is not writeable\n",
      "\u001b[31mERROR: Could not find a version that satisfies the requirement urllib (from versions: none)\u001b[0m\n",
      "\u001b[31mERROR: No matching distribution found for urllib\u001b[0m\n",
      "\u001b[33mWARNING: You are using pip version 21.2.4; however, version 23.0.1 is available.\n",
      "You should consider upgrading via the '/Library/Developer/CommandLineTools/usr/bin/python3 -m pip install --upgrade pip' command.\u001b[0m\n"
     ]
    }
   ],
   "source": [
    "!pip3 install urllib "
   ]
  },
  {
   "cell_type": "code",
   "execution_count": 5,
   "metadata": {},
   "outputs": [],
   "source": [
    "import requests\n",
    "import xmltodict\n",
    "import pandas as pd\n",
    "from urllib import parse"
   ]
  },
  {
   "cell_type": "code",
   "execution_count": 7,
   "metadata": {},
   "outputs": [
    {
     "name": "stdout",
     "output_type": "stream",
     "text": [
      "b'<?xml version=\"1.0\" encoding=\"UTF-8\" standalone=\"yes\"?>\\n<response>\\n    <header>\\n        <resultCode>00</resultCode>\\n        <resultMsg>NORMAL SERVICE.</resultMsg>\\n    </header>\\n    <body>\\n        <numOfRows>10</numOfRows>\\n        <pageNo>1</pageNo>\\n        <totalCount>1</totalCount>\\n        <items>\\n            <item>\\n                <actnAudpnNm></actnAudpnNm>\\n                <audtRptOpnnCtt></audtRptOpnnCtt>\\n                <basDt>20200408</basDt>\\n                <bzno>1078708658</bzno>\\n                <corpRegMrktDcd>E</corpRegMrktDcd>\\n                <corpRegMrktDcdNm>\\xea\\xb8\\xb0\\xed\\x83\\x80</corpRegMrktDcdNm>\\n                <crno>1101113892240</crno>\\n                <empeAvgCnwkTermCtt></empeAvgCnwkTermCtt>\\n                <fncoAdr>\\xec\\x84\\x9c\\xec\\x9a\\xb8\\xed\\x8a\\xb9\\xeb\\xb3\\x84\\xec\\x8b\\x9c \\xec\\xa2\\x85\\xeb\\xa1\\x9c\\xea\\xb5\\xac \\xeb\\xb6\\x81\\xec\\xb4\\x8c\\xeb\\xa1\\x9c 104 \\xea\\xb3\\x84\\xeb\\x8f\\x99\\xeb\\xb9\\x8c\\xeb\\x94\\xa9</fncoAdr>\\n                <fncoEmpeAvgSlryAmt>0</fncoEmpeAvgSlryAmt>\\n                <fncoEmpeCnt>0</fncoEmpeCnt>\\n                <fncoEnsnNm>Meritz Asset Management</fncoEnsnNm>\\n                <fncoEstbDt>20080506</fncoEstbDt>\\n                <fncoFxno>02-6320-3009</fncoFxno>\\n                <fncoHmpgUrl></fncoHmpgUrl>\\n                <fncoKosdaqLstgAbolDt></fncoKosdaqLstgAbolDt>\\n                <fncoKosdaqLstgDt></fncoKosdaqLstgDt>\\n                <fncoKrxLstgAbolDt></fncoKrxLstgAbolDt>\\n                <fncoKrxLstgDt></fncoKrxLstgDt>\\n                <fncoMainBizNm></fncoMainBizNm>\\n                <fncoNm>\\xeb\\xa9\\x94\\xeb\\xa6\\xac\\xec\\xb8\\xa0\\xec\\x9e\\x90\\xec\\x82\\xb0\\xec\\x9a\\xb4\\xec\\x9a\\xa9</fncoNm>\\n                <fncoRprNm>John Lee(\\xec\\x9d\\xb4\\xec\\xa0\\x95\\xeb\\xb3\\xb5)</fncoRprNm>\\n                <fncoSmenpYn></fncoSmenpYn>\\n                <fncoStacMm>12</fncoStacMm>\\n                <fncoTlno>02-6320-3000</fncoTlno>\\n                <fncoXchgLstgAbolDt></fncoXchgLstgAbolDt>\\n                <fncoXchgLstgDt></fncoXchgLstgDt>\\n                <fncoZpcd>03051</fncoZpcd>\\n                <fssCorpChgDtm>2020/03/23</fssCorpChgDtm>\\n                <fssCorpUnqNo>00685935</fssCorpUnqNo>\\n                <isinCd></isinCd>\\n                <isinCdNm></isinCdNm>\\n                <mntrFcnFncoCd></mntrFcnFncoCd>\\n                <mntrFcnFncoCdNm></mntrFcnFncoCdNm>\\n                <sicCd></sicCd>\\n                <sicNm>64201</sicNm>\\n            </item>\\n        </items>\\n    </body>\\n</response>\\n'\n"
     ]
    }
   ],
   "source": [
    "url = 'http://apis.data.go.kr/1160100/service/GetFnCoBasiInfoService/getFnCoOutl'\n",
    "params ={'serviceKey' : 'c9cKsD8ojhiH90JBH6KGLT0hTvJlV/ze8cOJCbj0u8IKvHqU8Ce+/blE8unghOYvVyEHMAaZpGbOtOzL7PtmNQ==', 'pageNo' : '1', 'numOfRows' : '10', 'resultType' : 'xml', 'basDt' : '20200408', 'crno' : '1101113892240', 'fncoNm' : '메리츠자산운용' }\n",
    "\n",
    "response = requests.get(url, params=params)\n",
    "print(response.content)"
   ]
  },
  {
   "cell_type": "code",
   "execution_count": 10,
   "metadata": {},
   "outputs": [
    {
     "data": {
      "text/plain": [
       "{'response': {'header': {'resultCode': '00', 'resultMsg': 'NORMAL SERVICE.'},\n",
       "  'body': {'numOfRows': '10',\n",
       "   'pageNo': '1',\n",
       "   'totalCount': '1',\n",
       "   'items': {'item': {'actnAudpnNm': None,\n",
       "     'audtRptOpnnCtt': None,\n",
       "     'basDt': '20200408',\n",
       "     'bzno': '1078708658',\n",
       "     'corpRegMrktDcd': 'E',\n",
       "     'corpRegMrktDcdNm': '기타',\n",
       "     'crno': '1101113892240',\n",
       "     'empeAvgCnwkTermCtt': None,\n",
       "     'fncoAdr': '서울특별시 종로구 북촌로 104 계동빌딩',\n",
       "     'fncoEmpeAvgSlryAmt': '0',\n",
       "     'fncoEmpeCnt': '0',\n",
       "     'fncoEnsnNm': 'Meritz Asset Management',\n",
       "     'fncoEstbDt': '20080506',\n",
       "     'fncoFxno': '02-6320-3009',\n",
       "     'fncoHmpgUrl': None,\n",
       "     'fncoKosdaqLstgAbolDt': None,\n",
       "     'fncoKosdaqLstgDt': None,\n",
       "     'fncoKrxLstgAbolDt': None,\n",
       "     'fncoKrxLstgDt': None,\n",
       "     'fncoMainBizNm': None,\n",
       "     'fncoNm': '메리츠자산운용',\n",
       "     'fncoRprNm': 'John Lee(이정복)',\n",
       "     'fncoSmenpYn': None,\n",
       "     'fncoStacMm': '12',\n",
       "     'fncoTlno': '02-6320-3000',\n",
       "     'fncoXchgLstgAbolDt': None,\n",
       "     'fncoXchgLstgDt': None,\n",
       "     'fncoZpcd': '03051',\n",
       "     'fssCorpChgDtm': '2020/03/23',\n",
       "     'fssCorpUnqNo': '00685935',\n",
       "     'isinCd': None,\n",
       "     'isinCdNm': None,\n",
       "     'mntrFcnFncoCd': None,\n",
       "     'mntrFcnFncoCdNm': None,\n",
       "     'sicCd': None,\n",
       "     'sicNm': '64201'}}}}}"
      ]
     },
     "execution_count": 10,
     "metadata": {},
     "output_type": "execute_result"
    }
   ],
   "source": [
    "# xml 데이터를 dict 형태의 데이터로 변환\n",
    "data = xmltodict.parse(response.content)\n",
    "data"
   ]
  },
  {
   "cell_type": "code",
   "execution_count": 15,
   "metadata": {},
   "outputs": [
    {
     "data": {
      "text/plain": [
       "{'actnAudpnNm': None,\n",
       " 'audtRptOpnnCtt': None,\n",
       " 'basDt': '20200408',\n",
       " 'bzno': '1078708658',\n",
       " 'corpRegMrktDcd': 'E',\n",
       " 'corpRegMrktDcdNm': '기타',\n",
       " 'crno': '1101113892240',\n",
       " 'empeAvgCnwkTermCtt': None,\n",
       " 'fncoAdr': '서울특별시 종로구 북촌로 104 계동빌딩',\n",
       " 'fncoEmpeAvgSlryAmt': '0',\n",
       " 'fncoEmpeCnt': '0',\n",
       " 'fncoEnsnNm': 'Meritz Asset Management',\n",
       " 'fncoEstbDt': '20080506',\n",
       " 'fncoFxno': '02-6320-3009',\n",
       " 'fncoHmpgUrl': None,\n",
       " 'fncoKosdaqLstgAbolDt': None,\n",
       " 'fncoKosdaqLstgDt': None,\n",
       " 'fncoKrxLstgAbolDt': None,\n",
       " 'fncoKrxLstgDt': None,\n",
       " 'fncoMainBizNm': None,\n",
       " 'fncoNm': '메리츠자산운용',\n",
       " 'fncoRprNm': 'John Lee(이정복)',\n",
       " 'fncoSmenpYn': None,\n",
       " 'fncoStacMm': '12',\n",
       " 'fncoTlno': '02-6320-3000',\n",
       " 'fncoXchgLstgAbolDt': None,\n",
       " 'fncoXchgLstgDt': None,\n",
       " 'fncoZpcd': '03051',\n",
       " 'fssCorpChgDtm': '2020/03/23',\n",
       " 'fssCorpUnqNo': '00685935',\n",
       " 'isinCd': None,\n",
       " 'isinCdNm': None,\n",
       " 'mntrFcnFncoCd': None,\n",
       " 'mntrFcnFncoCdNm': None,\n",
       " 'sicCd': None,\n",
       " 'sicNm': '64201'}"
      ]
     },
     "execution_count": 15,
     "metadata": {},
     "output_type": "execute_result"
    }
   ],
   "source": [
    "dict_data = data['response']['body']['items']['item']\n",
    "data['response']['body']['items']['item']"
   ]
  },
  {
   "cell_type": "code",
   "execution_count": 16,
   "metadata": {},
   "outputs": [
    {
     "data": {
      "text/plain": [
       "dict_keys(['actnAudpnNm', 'audtRptOpnnCtt', 'basDt', 'bzno', 'corpRegMrktDcd', 'corpRegMrktDcdNm', 'crno', 'empeAvgCnwkTermCtt', 'fncoAdr', 'fncoEmpeAvgSlryAmt', 'fncoEmpeCnt', 'fncoEnsnNm', 'fncoEstbDt', 'fncoFxno', 'fncoHmpgUrl', 'fncoKosdaqLstgAbolDt', 'fncoKosdaqLstgDt', 'fncoKrxLstgAbolDt', 'fncoKrxLstgDt', 'fncoMainBizNm', 'fncoNm', 'fncoRprNm', 'fncoSmenpYn', 'fncoStacMm', 'fncoTlno', 'fncoXchgLstgAbolDt', 'fncoXchgLstgDt', 'fncoZpcd', 'fssCorpChgDtm', 'fssCorpUnqNo', 'isinCd', 'isinCdNm', 'mntrFcnFncoCd', 'mntrFcnFncoCdNm', 'sicCd', 'sicNm'])"
      ]
     },
     "execution_count": 16,
     "metadata": {},
     "output_type": "execute_result"
    }
   ],
   "source": [
    "# 딕셔너리 하나짜리를 데이터 프레임으로 바꿀려면\n",
    "dict_data.keys()"
   ]
  },
  {
   "cell_type": "code",
   "execution_count": 17,
   "metadata": {},
   "outputs": [
    {
     "data": {
      "text/plain": [
       "dict_values([None, None, '20200408', '1078708658', 'E', '기타', '1101113892240', None, '서울특별시 종로구 북촌로 104 계동빌딩', '0', '0', 'Meritz Asset Management', '20080506', '02-6320-3009', None, None, None, None, None, None, '메리츠자산운용', 'John Lee(이정복)', None, '12', '02-6320-3000', None, None, '03051', '2020/03/23', '00685935', None, None, None, None, None, '64201'])"
      ]
     },
     "execution_count": 17,
     "metadata": {},
     "output_type": "execute_result"
    }
   ],
   "source": [
    "dict_data.values()"
   ]
  },
  {
   "cell_type": "code",
   "execution_count": 19,
   "metadata": {},
   "outputs": [
    {
     "data": {
      "text/html": [
       "<div>\n",
       "<style scoped>\n",
       "    .dataframe tbody tr th:only-of-type {\n",
       "        vertical-align: middle;\n",
       "    }\n",
       "\n",
       "    .dataframe tbody tr th {\n",
       "        vertical-align: top;\n",
       "    }\n",
       "\n",
       "    .dataframe thead th {\n",
       "        text-align: right;\n",
       "    }\n",
       "</style>\n",
       "<table border=\"1\" class=\"dataframe\">\n",
       "  <thead>\n",
       "    <tr style=\"text-align: right;\">\n",
       "      <th></th>\n",
       "      <th>0</th>\n",
       "    </tr>\n",
       "  </thead>\n",
       "  <tbody>\n",
       "    <tr>\n",
       "      <th>actnAudpnNm</th>\n",
       "      <td>None</td>\n",
       "    </tr>\n",
       "    <tr>\n",
       "      <th>audtRptOpnnCtt</th>\n",
       "      <td>None</td>\n",
       "    </tr>\n",
       "    <tr>\n",
       "      <th>basDt</th>\n",
       "      <td>20200408</td>\n",
       "    </tr>\n",
       "    <tr>\n",
       "      <th>bzno</th>\n",
       "      <td>1078708658</td>\n",
       "    </tr>\n",
       "    <tr>\n",
       "      <th>corpRegMrktDcd</th>\n",
       "      <td>E</td>\n",
       "    </tr>\n",
       "    <tr>\n",
       "      <th>corpRegMrktDcdNm</th>\n",
       "      <td>기타</td>\n",
       "    </tr>\n",
       "    <tr>\n",
       "      <th>crno</th>\n",
       "      <td>1101113892240</td>\n",
       "    </tr>\n",
       "    <tr>\n",
       "      <th>empeAvgCnwkTermCtt</th>\n",
       "      <td>None</td>\n",
       "    </tr>\n",
       "    <tr>\n",
       "      <th>fncoAdr</th>\n",
       "      <td>서울특별시 종로구 북촌로 104 계동빌딩</td>\n",
       "    </tr>\n",
       "    <tr>\n",
       "      <th>fncoEmpeAvgSlryAmt</th>\n",
       "      <td>0</td>\n",
       "    </tr>\n",
       "    <tr>\n",
       "      <th>fncoEmpeCnt</th>\n",
       "      <td>0</td>\n",
       "    </tr>\n",
       "    <tr>\n",
       "      <th>fncoEnsnNm</th>\n",
       "      <td>Meritz Asset Management</td>\n",
       "    </tr>\n",
       "    <tr>\n",
       "      <th>fncoEstbDt</th>\n",
       "      <td>20080506</td>\n",
       "    </tr>\n",
       "    <tr>\n",
       "      <th>fncoFxno</th>\n",
       "      <td>02-6320-3009</td>\n",
       "    </tr>\n",
       "    <tr>\n",
       "      <th>fncoHmpgUrl</th>\n",
       "      <td>None</td>\n",
       "    </tr>\n",
       "    <tr>\n",
       "      <th>fncoKosdaqLstgAbolDt</th>\n",
       "      <td>None</td>\n",
       "    </tr>\n",
       "    <tr>\n",
       "      <th>fncoKosdaqLstgDt</th>\n",
       "      <td>None</td>\n",
       "    </tr>\n",
       "    <tr>\n",
       "      <th>fncoKrxLstgAbolDt</th>\n",
       "      <td>None</td>\n",
       "    </tr>\n",
       "    <tr>\n",
       "      <th>fncoKrxLstgDt</th>\n",
       "      <td>None</td>\n",
       "    </tr>\n",
       "    <tr>\n",
       "      <th>fncoMainBizNm</th>\n",
       "      <td>None</td>\n",
       "    </tr>\n",
       "    <tr>\n",
       "      <th>fncoNm</th>\n",
       "      <td>메리츠자산운용</td>\n",
       "    </tr>\n",
       "    <tr>\n",
       "      <th>fncoRprNm</th>\n",
       "      <td>John Lee(이정복)</td>\n",
       "    </tr>\n",
       "    <tr>\n",
       "      <th>fncoSmenpYn</th>\n",
       "      <td>None</td>\n",
       "    </tr>\n",
       "    <tr>\n",
       "      <th>fncoStacMm</th>\n",
       "      <td>12</td>\n",
       "    </tr>\n",
       "    <tr>\n",
       "      <th>fncoTlno</th>\n",
       "      <td>02-6320-3000</td>\n",
       "    </tr>\n",
       "    <tr>\n",
       "      <th>fncoXchgLstgAbolDt</th>\n",
       "      <td>None</td>\n",
       "    </tr>\n",
       "    <tr>\n",
       "      <th>fncoXchgLstgDt</th>\n",
       "      <td>None</td>\n",
       "    </tr>\n",
       "    <tr>\n",
       "      <th>fncoZpcd</th>\n",
       "      <td>03051</td>\n",
       "    </tr>\n",
       "    <tr>\n",
       "      <th>fssCorpChgDtm</th>\n",
       "      <td>2020/03/23</td>\n",
       "    </tr>\n",
       "    <tr>\n",
       "      <th>fssCorpUnqNo</th>\n",
       "      <td>00685935</td>\n",
       "    </tr>\n",
       "    <tr>\n",
       "      <th>isinCd</th>\n",
       "      <td>None</td>\n",
       "    </tr>\n",
       "    <tr>\n",
       "      <th>isinCdNm</th>\n",
       "      <td>None</td>\n",
       "    </tr>\n",
       "    <tr>\n",
       "      <th>mntrFcnFncoCd</th>\n",
       "      <td>None</td>\n",
       "    </tr>\n",
       "    <tr>\n",
       "      <th>mntrFcnFncoCdNm</th>\n",
       "      <td>None</td>\n",
       "    </tr>\n",
       "    <tr>\n",
       "      <th>sicCd</th>\n",
       "      <td>None</td>\n",
       "    </tr>\n",
       "    <tr>\n",
       "      <th>sicNm</th>\n",
       "      <td>64201</td>\n",
       "    </tr>\n",
       "  </tbody>\n",
       "</table>\n",
       "</div>"
      ],
      "text/plain": [
       "                                            0\n",
       "actnAudpnNm                              None\n",
       "audtRptOpnnCtt                           None\n",
       "basDt                                20200408\n",
       "bzno                               1078708658\n",
       "corpRegMrktDcd                              E\n",
       "corpRegMrktDcdNm                           기타\n",
       "crno                            1101113892240\n",
       "empeAvgCnwkTermCtt                       None\n",
       "fncoAdr                서울특별시 종로구 북촌로 104 계동빌딩\n",
       "fncoEmpeAvgSlryAmt                          0\n",
       "fncoEmpeCnt                                 0\n",
       "fncoEnsnNm            Meritz Asset Management\n",
       "fncoEstbDt                           20080506\n",
       "fncoFxno                         02-6320-3009\n",
       "fncoHmpgUrl                              None\n",
       "fncoKosdaqLstgAbolDt                     None\n",
       "fncoKosdaqLstgDt                         None\n",
       "fncoKrxLstgAbolDt                        None\n",
       "fncoKrxLstgDt                            None\n",
       "fncoMainBizNm                            None\n",
       "fncoNm                                메리츠자산운용\n",
       "fncoRprNm                       John Lee(이정복)\n",
       "fncoSmenpYn                              None\n",
       "fncoStacMm                                 12\n",
       "fncoTlno                         02-6320-3000\n",
       "fncoXchgLstgAbolDt                       None\n",
       "fncoXchgLstgDt                           None\n",
       "fncoZpcd                                03051\n",
       "fssCorpChgDtm                      2020/03/23\n",
       "fssCorpUnqNo                         00685935\n",
       "isinCd                                   None\n",
       "isinCdNm                                 None\n",
       "mntrFcnFncoCd                            None\n",
       "mntrFcnFncoCdNm                          None\n",
       "sicCd                                    None\n",
       "sicNm                                   64201"
      ]
     },
     "execution_count": 19,
     "metadata": {},
     "output_type": "execute_result"
    }
   ],
   "source": [
    "# 위 두개로 데이터 프레임 만들기\n",
    "pd.DataFrame(dict_data.values(), index =  dict_data.keys())"
   ]
  },
  {
   "cell_type": "code",
   "execution_count": null,
   "metadata": {},
   "outputs": [],
   "source": []
  }
 ],
 "metadata": {
  "kernelspec": {
   "display_name": "Python 3",
   "language": "python",
   "name": "python3"
  },
  "language_info": {
   "codemirror_mode": {
    "name": "ipython",
    "version": 3
   },
   "file_extension": ".py",
   "mimetype": "text/x-python",
   "name": "python",
   "nbconvert_exporter": "python",
   "pygments_lexer": "ipython3",
   "version": "3.9.6"
  },
  "orig_nbformat": 4
 },
 "nbformat": 4,
 "nbformat_minor": 2
}
