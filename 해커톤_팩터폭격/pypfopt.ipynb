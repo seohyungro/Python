{
 "cells": [
  {
   "cell_type": "code",
   "execution_count": null,
   "metadata": {},
   "outputs": [],
   "source": [
    "import pandas as pd\n",
    "import numpy as np\n",
    "from pypfopt.efficient_frontier import EfficientFrontier\n",
    "from pypfopt import risk_models\n",
    "from pypfopt import expected_returns\n",
    "\n",
    "# 주식 가격 데이터를 읽어옵니다. \n",
    "# 가정: CSV 파일에 각 종목의 일별 가격이 저장되어 있습니다.\n",
    "prices = pd.read_csv('stock_prices.csv', parse_dates=True, index_col='date')\n",
    "\n",
    "# 각 주식의 예상 수익률과 공분산 행렬을 계산합니다.\n",
    "mu = expected_returns.mean_historical_return(prices)\n",
    "S = risk_models.sample_cov(prices)\n",
    "\n",
    "# MVO를 실행합니다.\n",
    "ef = EfficientFrontier(mu, S)\n",
    "raw_weights = ef.max_sharpe() # Sharpe ratio가 최대가 되는 가중치를 구합니다.\n",
    "cleaned_weights = ef.clean_weights() # 소수점 2자리 이하를 반올림합니다.\n",
    "\n",
    "print(cleaned_weights)\n",
    "\n",
    "ef.portfolio_performance(verbose=True) # 포트폴리오의 성능을 출력합니다."
   ]
  }
 ],
 "metadata": {
  "language_info": {
   "name": "python"
  },
  "orig_nbformat": 4
 },
 "nbformat": 4,
 "nbformat_minor": 2
}
