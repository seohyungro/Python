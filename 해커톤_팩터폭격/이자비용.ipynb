{
 "cells": [
  {
   "attachments": {},
   "cell_type": "markdown",
   "metadata": {},
   "source": [
    "1. 티커 리스트를 불러온다.\n",
    "2. 티커 리스트에 맞는 "
   ]
  },
  {
   "cell_type": "code",
   "execution_count": 39,
   "metadata": {},
   "outputs": [],
   "source": [
    "import pandas as pd\n",
    "import requests as rq\n",
    "from io import BytesIO\n",
    "import zipfile"
   ]
  },
  {
   "cell_type": "code",
   "execution_count": 40,
   "metadata": {},
   "outputs": [],
   "source": [
    "api_key = \"d435e3001b6f5c73238e222815178a4d77953e7b\""
   ]
  },
  {
   "cell_type": "code",
   "execution_count": 41,
   "metadata": {},
   "outputs": [
    {
     "data": {
      "text/plain": [
       "{'Cache-Control': 'no-cache, no-store', 'Connection': 'keep-alive', 'Set-Cookie': 'WMONID=QkmrLR-FKrb; Expires=Wed, 29-May-2024 9:30:47 GMT; Path=/', 'Pragma': 'no-cache', 'Expires': '0', 'Content-Transfer-Encoding': 'binary', 'Content-Disposition': ': attachment; filename=CORPCODE.zip', 'Date': 'Tue, 30 May 2023 00:30:47 GMT', 'Content-Type': 'application/x-msdownload;charset=UTF-8', 'Content-Length': '1710152'}"
      ]
     },
     "execution_count": 41,
     "metadata": {},
     "output_type": "execute_result"
    }
   ],
   "source": [
    "codezip_url = f'''https://opendart.fss.or.kr/api/corpCode.xml?crtfc_key={api_key}'''\n",
    "codezip_data = rq.get(codezip_url)\n",
    "codezip_data.headers"
   ]
  },
  {
   "cell_type": "code",
   "execution_count": 42,
   "metadata": {},
   "outputs": [
    {
     "data": {
      "text/plain": [
       "': attachment; filename=CORPCODE.zip'"
      ]
     },
     "execution_count": 42,
     "metadata": {},
     "output_type": "execute_result"
    }
   ],
   "source": [
    "codezip_data.headers['Content-Disposition']"
   ]
  },
  {
   "cell_type": "code",
   "execution_count": 43,
   "metadata": {},
   "outputs": [
    {
     "data": {
      "text/plain": [
       "['CORPCODE.xml']"
      ]
     },
     "execution_count": 43,
     "metadata": {},
     "output_type": "execute_result"
    }
   ],
   "source": [
    "codezip_file = zipfile.ZipFile(BytesIO(codezip_data.content))\n",
    "codezip_file.namelist()"
   ]
  },
  {
   "cell_type": "code",
   "execution_count": 44,
   "metadata": {},
   "outputs": [],
   "source": [
    "code_data = codezip_file.read('CORPCODE.xml').decode('utf-8')"
   ]
  },
  {
   "cell_type": "code",
   "execution_count": 45,
   "metadata": {},
   "outputs": [],
   "source": [
    "import xmltodict\n",
    "import json\n",
    "\n",
    "data_odict = xmltodict.parse(code_data)\n",
    "data_dict = json.loads(json.dumps(data_odict))\n",
    "data = data_dict.get('result').get('list')\n",
    "corp_list = pd.DataFrame(data)"
   ]
  },
  {
   "cell_type": "code",
   "execution_count": 46,
   "metadata": {},
   "outputs": [
    {
     "data": {
      "text/html": [
       "<div>\n",
       "<style scoped>\n",
       "    .dataframe tbody tr th:only-of-type {\n",
       "        vertical-align: middle;\n",
       "    }\n",
       "\n",
       "    .dataframe tbody tr th {\n",
       "        vertical-align: top;\n",
       "    }\n",
       "\n",
       "    .dataframe thead th {\n",
       "        text-align: right;\n",
       "    }\n",
       "</style>\n",
       "<table border=\"1\" class=\"dataframe\">\n",
       "  <thead>\n",
       "    <tr style=\"text-align: right;\">\n",
       "      <th></th>\n",
       "      <th>corp_code</th>\n",
       "      <th>corp_name</th>\n",
       "      <th>stock_code</th>\n",
       "      <th>modify_date</th>\n",
       "    </tr>\n",
       "  </thead>\n",
       "  <tbody>\n",
       "    <tr>\n",
       "      <th>0</th>\n",
       "      <td>00434003</td>\n",
       "      <td>다코</td>\n",
       "      <td>None</td>\n",
       "      <td>20170630</td>\n",
       "    </tr>\n",
       "    <tr>\n",
       "      <th>1</th>\n",
       "      <td>00434456</td>\n",
       "      <td>일산약품</td>\n",
       "      <td>None</td>\n",
       "      <td>20170630</td>\n",
       "    </tr>\n",
       "    <tr>\n",
       "      <th>2</th>\n",
       "      <td>00430964</td>\n",
       "      <td>굿앤엘에스</td>\n",
       "      <td>None</td>\n",
       "      <td>20170630</td>\n",
       "    </tr>\n",
       "    <tr>\n",
       "      <th>3</th>\n",
       "      <td>00432403</td>\n",
       "      <td>한라판지</td>\n",
       "      <td>None</td>\n",
       "      <td>20170630</td>\n",
       "    </tr>\n",
       "    <tr>\n",
       "      <th>4</th>\n",
       "      <td>00388953</td>\n",
       "      <td>크레디피아제이십오차유동화전문회사</td>\n",
       "      <td>None</td>\n",
       "      <td>20170630</td>\n",
       "    </tr>\n",
       "    <tr>\n",
       "      <th>5</th>\n",
       "      <td>00179984</td>\n",
       "      <td>연방건설산업</td>\n",
       "      <td>None</td>\n",
       "      <td>20170630</td>\n",
       "    </tr>\n",
       "    <tr>\n",
       "      <th>6</th>\n",
       "      <td>00420143</td>\n",
       "      <td>브룩스피알아이오토메이션잉크</td>\n",
       "      <td>None</td>\n",
       "      <td>20170630</td>\n",
       "    </tr>\n",
       "    <tr>\n",
       "      <th>7</th>\n",
       "      <td>00401111</td>\n",
       "      <td>매경아이비아이</td>\n",
       "      <td>None</td>\n",
       "      <td>20170630</td>\n",
       "    </tr>\n",
       "    <tr>\n",
       "      <th>8</th>\n",
       "      <td>00435534</td>\n",
       "      <td>캐드뱅크</td>\n",
       "      <td>None</td>\n",
       "      <td>20170630</td>\n",
       "    </tr>\n",
       "    <tr>\n",
       "      <th>9</th>\n",
       "      <td>00430186</td>\n",
       "      <td>엠와이오피삼차유동화전문유한회사</td>\n",
       "      <td>None</td>\n",
       "      <td>20170630</td>\n",
       "    </tr>\n",
       "  </tbody>\n",
       "</table>\n",
       "</div>"
      ],
      "text/plain": [
       "  corp_code          corp_name stock_code modify_date\n",
       "0  00434003                 다코       None    20170630\n",
       "1  00434456               일산약품       None    20170630\n",
       "2  00430964              굿앤엘에스       None    20170630\n",
       "3  00432403               한라판지       None    20170630\n",
       "4  00388953  크레디피아제이십오차유동화전문회사       None    20170630\n",
       "5  00179984             연방건설산업       None    20170630\n",
       "6  00420143     브룩스피알아이오토메이션잉크       None    20170630\n",
       "7  00401111            매경아이비아이       None    20170630\n",
       "8  00435534               캐드뱅크       None    20170630\n",
       "9  00430186   엠와이오피삼차유동화전문유한회사       None    20170630"
      ]
     },
     "execution_count": 46,
     "metadata": {},
     "output_type": "execute_result"
    }
   ],
   "source": [
    "corp_list.head(10)"
   ]
  },
  {
   "cell_type": "code",
   "execution_count": 47,
   "metadata": {},
   "outputs": [
    {
     "data": {
      "text/html": [
       "<div>\n",
       "<style scoped>\n",
       "    .dataframe tbody tr th:only-of-type {\n",
       "        vertical-align: middle;\n",
       "    }\n",
       "\n",
       "    .dataframe tbody tr th {\n",
       "        vertical-align: top;\n",
       "    }\n",
       "\n",
       "    .dataframe thead th {\n",
       "        text-align: right;\n",
       "    }\n",
       "</style>\n",
       "<table border=\"1\" class=\"dataframe\">\n",
       "  <thead>\n",
       "    <tr style=\"text-align: right;\">\n",
       "      <th></th>\n",
       "      <th>corp_code</th>\n",
       "      <th>corp_name</th>\n",
       "      <th>stock_code</th>\n",
       "      <th>modify_date</th>\n",
       "    </tr>\n",
       "  </thead>\n",
       "  <tbody>\n",
       "    <tr>\n",
       "      <th>0</th>\n",
       "      <td>00260985</td>\n",
       "      <td>한빛네트</td>\n",
       "      <td>036720</td>\n",
       "      <td>20170630</td>\n",
       "    </tr>\n",
       "    <tr>\n",
       "      <th>1</th>\n",
       "      <td>00264529</td>\n",
       "      <td>엔플렉스</td>\n",
       "      <td>040130</td>\n",
       "      <td>20170630</td>\n",
       "    </tr>\n",
       "    <tr>\n",
       "      <th>2</th>\n",
       "      <td>00358545</td>\n",
       "      <td>동서정보기술</td>\n",
       "      <td>055000</td>\n",
       "      <td>20170630</td>\n",
       "    </tr>\n",
       "    <tr>\n",
       "      <th>3</th>\n",
       "      <td>00231567</td>\n",
       "      <td>애드모바일</td>\n",
       "      <td>032600</td>\n",
       "      <td>20170630</td>\n",
       "    </tr>\n",
       "    <tr>\n",
       "      <th>4</th>\n",
       "      <td>00247939</td>\n",
       "      <td>씨모스</td>\n",
       "      <td>037600</td>\n",
       "      <td>20170630</td>\n",
       "    </tr>\n",
       "    <tr>\n",
       "      <th>5</th>\n",
       "      <td>00359614</td>\n",
       "      <td>리더컴</td>\n",
       "      <td>056140</td>\n",
       "      <td>20170630</td>\n",
       "    </tr>\n",
       "    <tr>\n",
       "      <th>6</th>\n",
       "      <td>00153551</td>\n",
       "      <td>허메스홀딩스</td>\n",
       "      <td>012400</td>\n",
       "      <td>20170630</td>\n",
       "    </tr>\n",
       "    <tr>\n",
       "      <th>7</th>\n",
       "      <td>00344746</td>\n",
       "      <td>유티엑스</td>\n",
       "      <td>045880</td>\n",
       "      <td>20170630</td>\n",
       "    </tr>\n",
       "    <tr>\n",
       "      <th>8</th>\n",
       "      <td>00261188</td>\n",
       "      <td>글로포스트</td>\n",
       "      <td>037830</td>\n",
       "      <td>20170630</td>\n",
       "    </tr>\n",
       "    <tr>\n",
       "      <th>9</th>\n",
       "      <td>00268020</td>\n",
       "      <td>쏠라엔텍</td>\n",
       "      <td>030390</td>\n",
       "      <td>20170630</td>\n",
       "    </tr>\n",
       "  </tbody>\n",
       "</table>\n",
       "</div>"
      ],
      "text/plain": [
       "  corp_code corp_name stock_code modify_date\n",
       "0  00260985      한빛네트     036720    20170630\n",
       "1  00264529      엔플렉스     040130    20170630\n",
       "2  00358545    동서정보기술     055000    20170630\n",
       "3  00231567     애드모바일     032600    20170630\n",
       "4  00247939       씨모스     037600    20170630\n",
       "5  00359614       리더컴     056140    20170630\n",
       "6  00153551    허메스홀딩스     012400    20170630\n",
       "7  00344746      유티엑스     045880    20170630\n",
       "8  00261188     글로포스트     037830    20170630\n",
       "9  00268020      쏠라엔텍     030390    20170630"
      ]
     },
     "execution_count": 47,
     "metadata": {},
     "output_type": "execute_result"
    }
   ],
   "source": [
    "corp_list = corp_list[~corp_list.stock_code.isin([None])].reset_index(drop=True)\n",
    "corp_list.head(10)"
   ]
  },
  {
   "cell_type": "code",
   "execution_count": 48,
   "metadata": {},
   "outputs": [],
   "source": [
    "corp_list.to_csv(\"./corp_codes.csv\")"
   ]
  },
  {
   "cell_type": "code",
   "execution_count": 49,
   "metadata": {},
   "outputs": [
    {
     "data": {
      "text/plain": [
       "'153195000000'"
      ]
     },
     "execution_count": 49,
     "metadata": {},
     "output_type": "execute_result"
    }
   ],
   "source": [
    "corp_code = '00126380'\n",
    "bsns_year = '2015'\n",
    "reprt_code = '11011'\n",
    "\n",
    "url_fs = f'''https://opendart.fss.or.kr/api/fnlttSinglAcntAll.json?crtfc_key={api_key}\n",
    "&corp_code={corp_code}&bsns_year={bsns_year}&reprt_code={reprt_code}&fs_div=OFS'''\n",
    "\n",
    "fs_data_ss = rq.get(url= url_fs)\n",
    "fs_data_ss_df = fs_data_ss.json().get('list')\n",
    "fs_data_ss_df = pd.DataFrame(fs_data_ss_df)\n",
    "fs_data_ss_df[fs_data_ss_df['account_nm']=='이자의 지급']['thstrm_amount'].values[0]"
   ]
  },
  {
   "cell_type": "code",
   "execution_count": 50,
   "metadata": {},
   "outputs": [
    {
     "name": "stdout",
     "output_type": "stream",
     "text": [
      "<class 'pandas.core.frame.DataFrame'>\n",
      "RangeIndex: 18345 entries, 0 to 18344\n",
      "Data columns (total 5 columns):\n",
      " #   Column  Non-Null Count  Dtype  \n",
      "---  ------  --------------  -----  \n",
      " 0   회사명     18345 non-null  object \n",
      " 1   종목코드    18345 non-null  int64  \n",
      " 2   회계년도    18345 non-null  object \n",
      " 3   거래월     18345 non-null  float64\n",
      " 4   종가      18345 non-null  float64\n",
      "dtypes: float64(2), int64(1), object(2)\n",
      "memory usage: 716.7+ KB\n"
     ]
    }
   ],
   "source": [
    "kospi = pd.read_csv('kospi.csv')\n",
    "columns_to_keep = ['회사명', '종목코드', '회계년도', '거래월', '종가']\n",
    "kospi = kospi[columns_to_keep]\n",
    "kospi.info()"
   ]
  },
  {
   "cell_type": "code",
   "execution_count": null,
   "metadata": {},
   "outputs": [],
   "source": []
  }
 ],
 "metadata": {
  "kernelspec": {
   "display_name": "Python 3",
   "language": "python",
   "name": "python3"
  },
  "language_info": {
   "codemirror_mode": {
    "name": "ipython",
    "version": 3
   },
   "file_extension": ".py",
   "mimetype": "text/x-python",
   "name": "python",
   "nbconvert_exporter": "python",
   "pygments_lexer": "ipython3",
   "version": "3.10.11"
  },
  "orig_nbformat": 4
 },
 "nbformat": 4,
 "nbformat_minor": 2
}
