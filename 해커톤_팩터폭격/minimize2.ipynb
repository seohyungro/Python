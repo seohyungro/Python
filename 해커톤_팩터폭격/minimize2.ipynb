{
 "cells": [
  {
   "cell_type": "code",
   "execution_count": null,
   "metadata": {},
   "outputs": [],
   "source": [
    "import numpy as np\n",
    "import pandas as pd\n",
    "from scipy.optimize import minimize\n",
    "import matplotlib.pyplot as plt\n",
    "\n",
    "# 미리 다운로드된 주식 데이터를 로드합니다.\n",
    "data = pd.read_csv('stock_prices.csv')\n",
    "\n",
    "# 수익률을 계산합니다.\n",
    "returns = data.pct_change()\n",
    "\n",
    "# 연간 평균 수익률을 계산합니다.\n",
    "mean_returns = returns.mean() * 252\n",
    "\n",
    "# 공분산 행렬을 계산합니다.\n",
    "cov_matrix = returns.cov() * 252\n",
    "\n",
    "# 가중치의 초기값을 설정합니다. 여기서는 동일 가중치를 사용합니다.\n",
    "weights = np.full(mean_returns.shape[0], 1/mean_returns.shape[0])\n",
    "\n",
    "# 샤프비율을 계산하는 함수를 정의합니다.\n",
    "def calculate_sharpe_ratio(weights):\n",
    "    portfolio_return = np.dot(weights, mean_returns)\n",
    "    portfolio_vol = np.sqrt(np.dot(weights.T, np.dot(cov_matrix, weights)))\n",
    "    sharpe_ratio = portfolio_return / portfolio_vol\n",
    "    return -sharpe_ratio  # 최적화를 위해 음수로 반환합니다.\n",
    "\n",
    "# 가중치의 합이 1이 되도록 제약 조건을 설정합니다.\n",
    "constraints = ({'type': 'eq', 'fun': lambda x: np.sum(x) - 1})\n",
    "\n",
    "# 가중치는 0과 1 사이의 값이 되도록 범위를 설정합니다.\n",
    "bounds = tuple((0, 1) for asset in range(len(mean_returns)))\n",
    "\n",
    "# 최적화 함수를 호출합니다.\n",
    "optimal_weights = minimize(calculate_sharpe_ratio, weights, method='SLSQP', bounds=bounds, constraints=constraints)\n",
    "\n",
    "# 최적화된 가중치를 출력합니다.\n",
    "print('Optimal weights:', optimal_weights['x'])\n",
    "\n",
    "# 최적화된 샤프비율을 출력합니다.\n",
    "print('Optimized Sharpe ratio:', -optimal_weights['fun'])"
   ]
  }
 ],
 "metadata": {
  "language_info": {
   "name": "python"
  },
  "orig_nbformat": 4
 },
 "nbformat": 4,
 "nbformat_minor": 2
}
