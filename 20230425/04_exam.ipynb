{
 "cells": [
  {
   "attachments": {},
   "cell_type": "markdown",
   "metadata": {},
   "source": [
    "# 문제\n",
    "1. corona.csv 파일 로드\n",
    "2. Unnamed: 0 컬럼을 삭제\n",
    "3. 컬럼을 첫번째부터 세번째까지 컬럼만 두고 전부 삭제\n",
    "4. 컬럼의 이름 변경 ['등록일시', '누적사망자', '누적확진자']\n",
    "5. 등록일시를 기준으로 오름차순 정렬\n",
    "6. 일일확진자와 일일사망자 파생변수 생성(결측치는 0으로 대체)\n",
    "7. 일일확진자가 음수인 값을 삭제\n",
    "8. 등록일시를 시계열로 변경하고 인덱스로 변경\n",
    "9. 요일이라는 파생변수를 만들어서 요일 대입\n",
    "10. 요일 컬럼 0 -> 월, 1 -> 화, .....6 -> 일 로 변경\n",
    "11. 요일별 일일 확진자의 평균을 바 그래프로 표시\n",
    "12. 요일별 일일 사망자의 평균을 바 그래프로 표시"
   ]
  },
  {
   "cell_type": "code",
   "execution_count": 1,
   "metadata": {},
   "outputs": [],
   "source": [
    "import pandas as pd"
   ]
  },
  {
   "cell_type": "code",
   "execution_count": 2,
   "metadata": {},
   "outputs": [],
   "source": [
    "df = pd.read_csv('../csv/corona.csv')"
   ]
  },
  {
   "cell_type": "code",
   "execution_count": 3,
   "metadata": {},
   "outputs": [
    {
     "data": {
      "text/html": [
       "<div>\n",
       "<style scoped>\n",
       "    .dataframe tbody tr th:only-of-type {\n",
       "        vertical-align: middle;\n",
       "    }\n",
       "\n",
       "    .dataframe tbody tr th {\n",
       "        vertical-align: top;\n",
       "    }\n",
       "\n",
       "    .dataframe thead th {\n",
       "        text-align: right;\n",
       "    }\n",
       "</style>\n",
       "<table border=\"1\" class=\"dataframe\">\n",
       "  <thead>\n",
       "    <tr style=\"text-align: right;\">\n",
       "      <th></th>\n",
       "      <th>Unnamed: 0</th>\n",
       "      <th>createDt</th>\n",
       "      <th>deathCnt</th>\n",
       "      <th>decideCnt</th>\n",
       "      <th>seq</th>\n",
       "      <th>stateDt</th>\n",
       "      <th>stateTime</th>\n",
       "      <th>updateDt</th>\n",
       "      <th>accExamCnt</th>\n",
       "      <th>accDefRate</th>\n",
       "    </tr>\n",
       "  </thead>\n",
       "  <tbody>\n",
       "    <tr>\n",
       "      <th>0</th>\n",
       "      <td>0</td>\n",
       "      <td>2022-06-08 09:09:05.982</td>\n",
       "      <td>24305</td>\n",
       "      <td>18188200</td>\n",
       "      <td>904</td>\n",
       "      <td>20220608</td>\n",
       "      <td>00:00</td>\n",
       "      <td>NaN</td>\n",
       "      <td>NaN</td>\n",
       "      <td>NaN</td>\n",
       "    </tr>\n",
       "    <tr>\n",
       "      <th>1</th>\n",
       "      <td>1</td>\n",
       "      <td>2022-06-07 09:09:00.897</td>\n",
       "      <td>24299</td>\n",
       "      <td>18174842</td>\n",
       "      <td>903</td>\n",
       "      <td>20220607</td>\n",
       "      <td>00:00</td>\n",
       "      <td>2022-06-08 09:10:36.846</td>\n",
       "      <td>NaN</td>\n",
       "      <td>NaN</td>\n",
       "    </tr>\n",
       "    <tr>\n",
       "      <th>2</th>\n",
       "      <td>2</td>\n",
       "      <td>2022-06-06 09:00:06.734</td>\n",
       "      <td>24279</td>\n",
       "      <td>18168670</td>\n",
       "      <td>902</td>\n",
       "      <td>20220606</td>\n",
       "      <td>00:00</td>\n",
       "      <td>2022-06-08 09:10:50.441</td>\n",
       "      <td>NaN</td>\n",
       "      <td>NaN</td>\n",
       "    </tr>\n",
       "    <tr>\n",
       "      <th>3</th>\n",
       "      <td>3</td>\n",
       "      <td>2022-06-05 08:53:19.426</td>\n",
       "      <td>24258</td>\n",
       "      <td>18163648</td>\n",
       "      <td>901</td>\n",
       "      <td>20220605</td>\n",
       "      <td>00:00</td>\n",
       "      <td>2022-06-08 09:11:04.758</td>\n",
       "      <td>NaN</td>\n",
       "      <td>NaN</td>\n",
       "    </tr>\n",
       "    <tr>\n",
       "      <th>4</th>\n",
       "      <td>4</td>\n",
       "      <td>2022-06-04 08:56:49.219</td>\n",
       "      <td>24238</td>\n",
       "      <td>18153814</td>\n",
       "      <td>900</td>\n",
       "      <td>20220604</td>\n",
       "      <td>00:00</td>\n",
       "      <td>2022-06-08 09:11:26.303</td>\n",
       "      <td>NaN</td>\n",
       "      <td>NaN</td>\n",
       "    </tr>\n",
       "    <tr>\n",
       "      <th>...</th>\n",
       "      <td>...</td>\n",
       "      <td>...</td>\n",
       "      <td>...</td>\n",
       "      <td>...</td>\n",
       "      <td>...</td>\n",
       "      <td>...</td>\n",
       "      <td>...</td>\n",
       "      <td>...</td>\n",
       "      <td>...</td>\n",
       "      <td>...</td>\n",
       "    </tr>\n",
       "    <tr>\n",
       "      <th>815</th>\n",
       "      <td>815</td>\n",
       "      <td>2020-03-14 00:00:00.000</td>\n",
       "      <td>72</td>\n",
       "      <td>8086</td>\n",
       "      <td>55</td>\n",
       "      <td>20200314</td>\n",
       "      <td>00:00</td>\n",
       "      <td>2021-10-07 10:30:51.51</td>\n",
       "      <td>261335.0</td>\n",
       "      <td>3.318000</td>\n",
       "    </tr>\n",
       "    <tr>\n",
       "      <th>816</th>\n",
       "      <td>816</td>\n",
       "      <td>2020-03-13 00:00:00.000</td>\n",
       "      <td>67</td>\n",
       "      <td>7979</td>\n",
       "      <td>54</td>\n",
       "      <td>20200313</td>\n",
       "      <td>00:00</td>\n",
       "      <td>2021-10-07 10:30:51.51</td>\n",
       "      <td>248647.0</td>\n",
       "      <td>3.458499</td>\n",
       "    </tr>\n",
       "    <tr>\n",
       "      <th>817</th>\n",
       "      <td>817</td>\n",
       "      <td>2020-03-12 00:00:00.000</td>\n",
       "      <td>66</td>\n",
       "      <td>7869</td>\n",
       "      <td>53</td>\n",
       "      <td>20200312</td>\n",
       "      <td>00:00</td>\n",
       "      <td>2021-10-07 10:30:51.51</td>\n",
       "      <td>234998.0</td>\n",
       "      <td>3.621744</td>\n",
       "    </tr>\n",
       "    <tr>\n",
       "      <th>818</th>\n",
       "      <td>818</td>\n",
       "      <td>2020-03-11 00:00:00.000</td>\n",
       "      <td>60</td>\n",
       "      <td>7755</td>\n",
       "      <td>52</td>\n",
       "      <td>20200311</td>\n",
       "      <td>00:00</td>\n",
       "      <td>2021-10-07 10:30:51.51</td>\n",
       "      <td>222395.0</td>\n",
       "      <td>3.804175</td>\n",
       "    </tr>\n",
       "    <tr>\n",
       "      <th>819</th>\n",
       "      <td>819</td>\n",
       "      <td>2020-03-10 00:00:00.000</td>\n",
       "      <td>54</td>\n",
       "      <td>7513</td>\n",
       "      <td>51</td>\n",
       "      <td>20200310</td>\n",
       "      <td>00:00</td>\n",
       "      <td>2021-10-07 10:30:51.51</td>\n",
       "      <td>210144.0</td>\n",
       "      <td>3.919308</td>\n",
       "    </tr>\n",
       "  </tbody>\n",
       "</table>\n",
       "<p>820 rows × 10 columns</p>\n",
       "</div>"
      ],
      "text/plain": [
       "     Unnamed: 0                 createDt  deathCnt  decideCnt  seq   stateDt   \n",
       "0             0  2022-06-08 09:09:05.982     24305   18188200  904  20220608  \\\n",
       "1             1  2022-06-07 09:09:00.897     24299   18174842  903  20220607   \n",
       "2             2  2022-06-06 09:00:06.734     24279   18168670  902  20220606   \n",
       "3             3  2022-06-05 08:53:19.426     24258   18163648  901  20220605   \n",
       "4             4  2022-06-04 08:56:49.219     24238   18153814  900  20220604   \n",
       "..          ...                      ...       ...        ...  ...       ...   \n",
       "815         815  2020-03-14 00:00:00.000        72       8086   55  20200314   \n",
       "816         816  2020-03-13 00:00:00.000        67       7979   54  20200313   \n",
       "817         817  2020-03-12 00:00:00.000        66       7869   53  20200312   \n",
       "818         818  2020-03-11 00:00:00.000        60       7755   52  20200311   \n",
       "819         819  2020-03-10 00:00:00.000        54       7513   51  20200310   \n",
       "\n",
       "    stateTime                 updateDt  accExamCnt  accDefRate  \n",
       "0       00:00                      NaN         NaN         NaN  \n",
       "1       00:00  2022-06-08 09:10:36.846         NaN         NaN  \n",
       "2       00:00  2022-06-08 09:10:50.441         NaN         NaN  \n",
       "3       00:00  2022-06-08 09:11:04.758         NaN         NaN  \n",
       "4       00:00  2022-06-08 09:11:26.303         NaN         NaN  \n",
       "..        ...                      ...         ...         ...  \n",
       "815     00:00   2021-10-07 10:30:51.51    261335.0    3.318000  \n",
       "816     00:00   2021-10-07 10:30:51.51    248647.0    3.458499  \n",
       "817     00:00   2021-10-07 10:30:51.51    234998.0    3.621744  \n",
       "818     00:00   2021-10-07 10:30:51.51    222395.0    3.804175  \n",
       "819     00:00   2021-10-07 10:30:51.51    210144.0    3.919308  \n",
       "\n",
       "[820 rows x 10 columns]"
      ]
     },
     "execution_count": 3,
     "metadata": {},
     "output_type": "execute_result"
    }
   ],
   "source": [
    "df"
   ]
  },
  {
   "cell_type": "code",
   "execution_count": 11,
   "metadata": {},
   "outputs": [],
   "source": [
    "df.drop('Unnamed: 0', axis= 1, inplace=True)"
   ]
  },
  {
   "cell_type": "code",
   "execution_count": 13,
   "metadata": {},
   "outputs": [],
   "source": [
    "df = df.iloc[:, 0:3]"
   ]
  },
  {
   "cell_type": "code",
   "execution_count": 14,
   "metadata": {},
   "outputs": [],
   "source": [
    "df.columns = ['등록일시', '누적사망자', '누적확진자']"
   ]
  },
  {
   "cell_type": "code",
   "execution_count": 22,
   "metadata": {},
   "outputs": [],
   "source": [
    "df = df.sort_values('등록일시').reset_index(drop=True)"
   ]
  },
  {
   "cell_type": "code",
   "execution_count": 23,
   "metadata": {},
   "outputs": [
    {
     "data": {
      "text/html": [
       "<div>\n",
       "<style scoped>\n",
       "    .dataframe tbody tr th:only-of-type {\n",
       "        vertical-align: middle;\n",
       "    }\n",
       "\n",
       "    .dataframe tbody tr th {\n",
       "        vertical-align: top;\n",
       "    }\n",
       "\n",
       "    .dataframe thead th {\n",
       "        text-align: right;\n",
       "    }\n",
       "</style>\n",
       "<table border=\"1\" class=\"dataframe\">\n",
       "  <thead>\n",
       "    <tr style=\"text-align: right;\">\n",
       "      <th></th>\n",
       "      <th>등록일시</th>\n",
       "      <th>누적사망자</th>\n",
       "      <th>누적확진자</th>\n",
       "    </tr>\n",
       "  </thead>\n",
       "  <tbody>\n",
       "    <tr>\n",
       "      <th>0</th>\n",
       "      <td>2020-03-10 00:00:00.000</td>\n",
       "      <td>54</td>\n",
       "      <td>7513</td>\n",
       "    </tr>\n",
       "    <tr>\n",
       "      <th>1</th>\n",
       "      <td>2020-03-11 00:00:00.000</td>\n",
       "      <td>60</td>\n",
       "      <td>7755</td>\n",
       "    </tr>\n",
       "    <tr>\n",
       "      <th>2</th>\n",
       "      <td>2020-03-12 00:00:00.000</td>\n",
       "      <td>66</td>\n",
       "      <td>7869</td>\n",
       "    </tr>\n",
       "    <tr>\n",
       "      <th>3</th>\n",
       "      <td>2020-03-13 00:00:00.000</td>\n",
       "      <td>67</td>\n",
       "      <td>7979</td>\n",
       "    </tr>\n",
       "    <tr>\n",
       "      <th>4</th>\n",
       "      <td>2020-03-14 00:00:00.000</td>\n",
       "      <td>72</td>\n",
       "      <td>8086</td>\n",
       "    </tr>\n",
       "    <tr>\n",
       "      <th>...</th>\n",
       "      <td>...</td>\n",
       "      <td>...</td>\n",
       "      <td>...</td>\n",
       "    </tr>\n",
       "    <tr>\n",
       "      <th>815</th>\n",
       "      <td>2022-06-04 08:56:49.219</td>\n",
       "      <td>24238</td>\n",
       "      <td>18153814</td>\n",
       "    </tr>\n",
       "    <tr>\n",
       "      <th>816</th>\n",
       "      <td>2022-06-05 08:53:19.426</td>\n",
       "      <td>24258</td>\n",
       "      <td>18163648</td>\n",
       "    </tr>\n",
       "    <tr>\n",
       "      <th>817</th>\n",
       "      <td>2022-06-06 09:00:06.734</td>\n",
       "      <td>24279</td>\n",
       "      <td>18168670</td>\n",
       "    </tr>\n",
       "    <tr>\n",
       "      <th>818</th>\n",
       "      <td>2022-06-07 09:09:00.897</td>\n",
       "      <td>24299</td>\n",
       "      <td>18174842</td>\n",
       "    </tr>\n",
       "    <tr>\n",
       "      <th>819</th>\n",
       "      <td>2022-06-08 09:09:05.982</td>\n",
       "      <td>24305</td>\n",
       "      <td>18188200</td>\n",
       "    </tr>\n",
       "  </tbody>\n",
       "</table>\n",
       "<p>820 rows × 3 columns</p>\n",
       "</div>"
      ],
      "text/plain": [
       "                        등록일시  누적사망자     누적확진자\n",
       "0    2020-03-10 00:00:00.000     54      7513\n",
       "1    2020-03-11 00:00:00.000     60      7755\n",
       "2    2020-03-12 00:00:00.000     66      7869\n",
       "3    2020-03-13 00:00:00.000     67      7979\n",
       "4    2020-03-14 00:00:00.000     72      8086\n",
       "..                       ...    ...       ...\n",
       "815  2022-06-04 08:56:49.219  24238  18153814\n",
       "816  2022-06-05 08:53:19.426  24258  18163648\n",
       "817  2022-06-06 09:00:06.734  24279  18168670\n",
       "818  2022-06-07 09:09:00.897  24299  18174842\n",
       "819  2022-06-08 09:09:05.982  24305  18188200\n",
       "\n",
       "[820 rows x 3 columns]"
      ]
     },
     "execution_count": 23,
     "metadata": {},
     "output_type": "execute_result"
    }
   ],
   "source": [
    "df"
   ]
  },
  {
   "cell_type": "code",
   "execution_count": 30,
   "metadata": {},
   "outputs": [],
   "source": [
    "df['일일확진자'] = df['누적확진자'].diff().fillna(0)\n",
    "df['일일사망자'] = df['누적사망자'].diff().fillna(0)"
   ]
  },
  {
   "cell_type": "code",
   "execution_count": 35,
   "metadata": {},
   "outputs": [
    {
     "data": {
      "text/plain": [
       "0          0.0\n",
       "1        242.0\n",
       "2        114.0\n",
       "3        110.0\n",
       "4        107.0\n",
       "        ...   \n",
       "815    12039.0\n",
       "816     9834.0\n",
       "817     5022.0\n",
       "818     6172.0\n",
       "819    13358.0\n",
       "Name: 일일확진자, Length: 820, dtype: float64"
      ]
     },
     "execution_count": 35,
     "metadata": {},
     "output_type": "execute_result"
    }
   ],
   "source": [
    "df['일일확진자']"
   ]
  },
  {
   "cell_type": "code",
   "execution_count": 37,
   "metadata": {},
   "outputs": [
    {
     "data": {
      "text/plain": [
       "446   -430.0\n",
       "Name: 일일확진자, dtype: float64"
      ]
     },
     "execution_count": 37,
     "metadata": {},
     "output_type": "execute_result"
    }
   ],
   "source": [
    "df.drop(df.loc[df['일일확진자'] < 0, '일일확진자'], )"
   ]
  },
  {
   "cell_type": "code",
   "execution_count": 41,
   "metadata": {},
   "outputs": [],
   "source": [
    "df = df.loc[df['일일확진자'] >= 0].reset_index(drop=True) # df.loc[~(df['일일확진자] < 0)]"
   ]
  },
  {
   "cell_type": "code",
   "execution_count": 42,
   "metadata": {},
   "outputs": [
    {
     "data": {
      "text/html": [
       "<div>\n",
       "<style scoped>\n",
       "    .dataframe tbody tr th:only-of-type {\n",
       "        vertical-align: middle;\n",
       "    }\n",
       "\n",
       "    .dataframe tbody tr th {\n",
       "        vertical-align: top;\n",
       "    }\n",
       "\n",
       "    .dataframe thead th {\n",
       "        text-align: right;\n",
       "    }\n",
       "</style>\n",
       "<table border=\"1\" class=\"dataframe\">\n",
       "  <thead>\n",
       "    <tr style=\"text-align: right;\">\n",
       "      <th></th>\n",
       "      <th>등록일시</th>\n",
       "      <th>누적사망자</th>\n",
       "      <th>누적확진자</th>\n",
       "      <th>일일확진자</th>\n",
       "      <th>일일사망자</th>\n",
       "    </tr>\n",
       "  </thead>\n",
       "  <tbody>\n",
       "    <tr>\n",
       "      <th>0</th>\n",
       "      <td>2020-03-10 00:00:00.000</td>\n",
       "      <td>54</td>\n",
       "      <td>7513</td>\n",
       "      <td>0.0</td>\n",
       "      <td>0.0</td>\n",
       "    </tr>\n",
       "    <tr>\n",
       "      <th>1</th>\n",
       "      <td>2020-03-11 00:00:00.000</td>\n",
       "      <td>60</td>\n",
       "      <td>7755</td>\n",
       "      <td>242.0</td>\n",
       "      <td>6.0</td>\n",
       "    </tr>\n",
       "    <tr>\n",
       "      <th>2</th>\n",
       "      <td>2020-03-12 00:00:00.000</td>\n",
       "      <td>66</td>\n",
       "      <td>7869</td>\n",
       "      <td>114.0</td>\n",
       "      <td>6.0</td>\n",
       "    </tr>\n",
       "    <tr>\n",
       "      <th>3</th>\n",
       "      <td>2020-03-13 00:00:00.000</td>\n",
       "      <td>67</td>\n",
       "      <td>7979</td>\n",
       "      <td>110.0</td>\n",
       "      <td>1.0</td>\n",
       "    </tr>\n",
       "    <tr>\n",
       "      <th>4</th>\n",
       "      <td>2020-03-14 00:00:00.000</td>\n",
       "      <td>72</td>\n",
       "      <td>8086</td>\n",
       "      <td>107.0</td>\n",
       "      <td>5.0</td>\n",
       "    </tr>\n",
       "    <tr>\n",
       "      <th>...</th>\n",
       "      <td>...</td>\n",
       "      <td>...</td>\n",
       "      <td>...</td>\n",
       "      <td>...</td>\n",
       "      <td>...</td>\n",
       "    </tr>\n",
       "    <tr>\n",
       "      <th>814</th>\n",
       "      <td>2022-06-04 08:56:49.219</td>\n",
       "      <td>24238</td>\n",
       "      <td>18153814</td>\n",
       "      <td>12039.0</td>\n",
       "      <td>9.0</td>\n",
       "    </tr>\n",
       "    <tr>\n",
       "      <th>815</th>\n",
       "      <td>2022-06-05 08:53:19.426</td>\n",
       "      <td>24258</td>\n",
       "      <td>18163648</td>\n",
       "      <td>9834.0</td>\n",
       "      <td>20.0</td>\n",
       "    </tr>\n",
       "    <tr>\n",
       "      <th>816</th>\n",
       "      <td>2022-06-06 09:00:06.734</td>\n",
       "      <td>24279</td>\n",
       "      <td>18168670</td>\n",
       "      <td>5022.0</td>\n",
       "      <td>21.0</td>\n",
       "    </tr>\n",
       "    <tr>\n",
       "      <th>817</th>\n",
       "      <td>2022-06-07 09:09:00.897</td>\n",
       "      <td>24299</td>\n",
       "      <td>18174842</td>\n",
       "      <td>6172.0</td>\n",
       "      <td>20.0</td>\n",
       "    </tr>\n",
       "    <tr>\n",
       "      <th>818</th>\n",
       "      <td>2022-06-08 09:09:05.982</td>\n",
       "      <td>24305</td>\n",
       "      <td>18188200</td>\n",
       "      <td>13358.0</td>\n",
       "      <td>6.0</td>\n",
       "    </tr>\n",
       "  </tbody>\n",
       "</table>\n",
       "<p>819 rows × 5 columns</p>\n",
       "</div>"
      ],
      "text/plain": [
       "                        등록일시  누적사망자     누적확진자    일일확진자  일일사망자\n",
       "0    2020-03-10 00:00:00.000     54      7513      0.0    0.0\n",
       "1    2020-03-11 00:00:00.000     60      7755    242.0    6.0\n",
       "2    2020-03-12 00:00:00.000     66      7869    114.0    6.0\n",
       "3    2020-03-13 00:00:00.000     67      7979    110.0    1.0\n",
       "4    2020-03-14 00:00:00.000     72      8086    107.0    5.0\n",
       "..                       ...    ...       ...      ...    ...\n",
       "814  2022-06-04 08:56:49.219  24238  18153814  12039.0    9.0\n",
       "815  2022-06-05 08:53:19.426  24258  18163648   9834.0   20.0\n",
       "816  2022-06-06 09:00:06.734  24279  18168670   5022.0   21.0\n",
       "817  2022-06-07 09:09:00.897  24299  18174842   6172.0   20.0\n",
       "818  2022-06-08 09:09:05.982  24305  18188200  13358.0    6.0\n",
       "\n",
       "[819 rows x 5 columns]"
      ]
     },
     "execution_count": 42,
     "metadata": {},
     "output_type": "execute_result"
    }
   ],
   "source": [
    "df"
   ]
  },
  {
   "cell_type": "code",
   "execution_count": 44,
   "metadata": {},
   "outputs": [],
   "source": [
    "df['등록일시'] = pd.to_datetime(df['등록일시'])"
   ]
  },
  {
   "cell_type": "code",
   "execution_count": 47,
   "metadata": {},
   "outputs": [],
   "source": [
    "df.set_index('등록일시', inplace=True)"
   ]
  },
  {
   "cell_type": "code",
   "execution_count": 49,
   "metadata": {},
   "outputs": [],
   "source": [
    "for i in df.index:\n",
    "    df.loc[i, '요일'] = i.weekday()"
   ]
  },
  {
   "cell_type": "code",
   "execution_count": 50,
   "metadata": {},
   "outputs": [
    {
     "data": {
      "text/plain": [
       "요일\n",
       "1.0    118\n",
       "2.0    118\n",
       "4.0    117\n",
       "5.0    117\n",
       "6.0    117\n",
       "3.0    116\n",
       "0.0    116\n",
       "Name: count, dtype: int64"
      ]
     },
     "execution_count": 50,
     "metadata": {},
     "output_type": "execute_result"
    }
   ],
   "source": [
    "df['요일'].value_counts()"
   ]
  },
  {
   "cell_type": "code",
   "execution_count": null,
   "metadata": {},
   "outputs": [],
   "source": [
    "week = {\n",
    "    0: '월',\n",
    "    1: '화',\n",
    "    2: '수',\n",
    "    3: '목',\n",
    "    4: '금',\n",
    "    5: '토',\n",
    "    6: '일'\n",
    "}\n",
    "df['요일'].replace(week)"
   ]
  },
  {
   "cell_type": "code",
   "execution_count": 51,
   "metadata": {},
   "outputs": [],
   "source": [
    "import platform\n",
    "import matplotlib.pyplot as plt\n",
    "\n",
    "if platform.system() == 'Darwin':\n",
    "    plt.rc('font',family ='AppleGothic')\n",
    "else:\n",
    "    plt.rc('font',family ='Malgun Gothic')"
   ]
  },
  {
   "cell_type": "code",
   "execution_count": 52,
   "metadata": {},
   "outputs": [
    {
     "data": {
      "text/plain": [
       "<Axes: xlabel='요일'>"
      ]
     },
     "execution_count": 52,
     "metadata": {},
     "output_type": "execute_result"
    },
    {
     "data": {
      "image/png": "[encoded data removed]",
      "text/plain": [
       "<Figure size 640x480 with 1 Axes>"
      ]
     },
     "metadata": {},
     "output_type": "display_data"
    }
   ],
   "source": [
    "df.groupby('요일')['일일확진자'].mean().plot.bar()"
   ]
  },
  {
   "cell_type": "code",
   "execution_count": 53,
   "metadata": {},
   "outputs": [
    {
     "data": {
      "text/plain": [
       "<Axes: xlabel='요일'>"
      ]
     },
     "execution_count": 53,
     "metadata": {},
     "output_type": "execute_result"
    },
    {
     "data": {
      "image/png": "[encoded data removed]",
      "text/plain": [
       "<Figure size 640x480 with 1 Axes>"
      ]
     },
     "metadata": {},
     "output_type": "display_data"
    }
   ],
   "source": [
    "df.groupby('요일')['일일사망자'].mean().plot.bar()"
   ]
  },
  {
   "cell_type": "code",
   "execution_count": null,
   "metadata": {},
   "outputs": [],
   "source": []
  }
 ],
 "metadata": {
  "kernelspec": {
   "display_name": "Python 3",
   "language": "python",
   "name": "python3"
  },
  "language_info": {
   "codemirror_mode": {
    "name": "ipython",
    "version": 3
   },
   "file_extension": ".py",
   "mimetype": "text/x-python",
   "name": "python",
   "nbconvert_exporter": "python",
   "pygments_lexer": "ipython3",
   "version": "3.9.6"
  },
  "orig_nbformat": 4
 },
 "nbformat": 4,
 "nbformat_minor": 2
}
