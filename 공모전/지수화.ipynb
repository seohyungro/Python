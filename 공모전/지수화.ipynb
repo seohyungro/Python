{
 "cells": [
  {
   "cell_type": "code",
   "execution_count": null,
   "metadata": {},
   "outputs": [],
   "source": [
    "import pandas as pd\n",
    "import random\n",
    "\n",
    "# 데이터 불러오기\n",
    "total_df = pd.read_csv(\"코스피코스닥데이터.csv\", encoding=\"euc-kr\")\n",
    "\n",
    "# 기업별로 201803부터 202212까지 모든 분기의 데이터가 있는지 확인하는 함수\n",
    "def check_full_year(data):\n",
    "    year_list = ['2018/03', '2018/06', '2018/09', '2018/12', '2019/03', '2019/06',\n",
    "                 '2019/09', '2019/12', '2020/03', '2020/06', '2020/09', '2020/12',\n",
    "                 '2021/03', '2021/06', '2021/09', '2021/12', '2022/03', '2022/06',\n",
    "                 '2022/09', '2022/12']\n",
    "    for year in year_list:\n",
    "        if year not in data.columns:\n",
    "            return False\n",
    "    return True\n",
    "\n",
    "# 코스피와 코스닥에서 모든 분기 데이터가 있는 기업을 랜덤으로 선택하는 함수\n",
    "def select_companies(total_df, market, num):\n",
    "    full_year_companies = []\n",
    "    for i in range(len(total_df)):\n",
    "        if total_df.loc[i, \"시장구분\"] == market:\n",
    "            if check_full_year(total_df.iloc[i]):\n",
    "                full_year_companies.append(total_df.loc[i, \"종목코드\"])\n",
    "\n",
    "    selected_companies = random.sample(full_year_companies, num)\n",
    "    return selected_companies\n",
    "\n",
    "# 코스피에서 10개, 코스닥에서 10개 기업 랜덤으로 선택\n",
    "kospi_companies = select_companies(total_df, \"코스피\", 10)\n",
    "kosdaq_companies = select_companies(total_df, \"코스닥\", 10)\n",
    "\n",
    "print(\"Selected KOSPI companies:\", kospi_companies)\n",
    "print(\"Selected KOSDAQ companies:\", kosdaq_companies)\n"
   ]
  },
  {
   "cell_type": "code",
   "execution_count": null,
   "metadata": {},
   "outputs": [],
   "source": [
    "df1 = pd.read_csv(\"./공모전파일/1분기.csv\", encoding = \"euc-kr\")\n",
    "df2 = pd.read_csv(\"./공모전파일/2분기.csv\", encoding = \"euc-kr\")\n",
    "df3 = pd.read_csv(\"./공모전파일/3분기.csv\", encoding = \"euc-kr\")\n",
    "df4 = pd.read_csv(\"./공모전파일/4분기.csv\", encoding = \"euc-kr\")"
   ]
  },
  {
   "cell_type": "code",
   "execution_count": null,
   "metadata": {},
   "outputs": [],
   "source": [
    "df1.columns = ['회사명', '거래소코드', '회계년도', '유동자산', '총자산', '총자본', '매출액', '부채', '당기순이익', '유동부채', '매출원가', '재고자산', '선급금']\n",
    "df2.columns = ['회사명', '거래소코드', '회계년도', '유동자산', '총자산', '총자본', '매출액', '부채', '당기순이익', '유동부채', '매출원가', '재고자산', '선급금']\n",
    "df3.columns = ['회사명', '거래소코드', '회계년도', '유동자산', '총자산', '총자본', '매출액', '부채', '당기순이익', '유동부채', '매출원가', '재고자산', '선급금']\n",
    "df4.columns = ['회사명', '거래소코드', '회계년도', '유동자산', '총자산', '총자본', '매출액', '부채', '당기순이익', '유동부채', '매출원가', '재고자산', '선급금']"
   ]
  },
  {
   "cell_type": "code",
   "execution_count": null,
   "metadata": {},
   "outputs": [],
   "source": [
    "df_1 = df1[['유동자산', '총자산', '총자본', '매출액', '부채', '당기순이익', '유동부채', '매출원가', '재고자산', '선급금']]\n",
    "df_2 = df2[['유동자산', '총자산', '총자본', '매출액', '부채', '당기순이익', '유동부채', '매출원가', '재고자산', '선급금']]\n",
    "df_3 = df3[['유동자산', '총자산', '총자본', '매출액', '부채', '당기순이익', '유동부채', '매출원가', '재고자산', '선급금']]\n",
    "df_4 = df4[['유동자산', '총자산', '총자본', '매출액', '부채', '당기순이익', '유동부채', '매출원가', '재고자산', '선급금']]"
   ]
  },
  {
   "cell_type": "code",
   "execution_count": null,
   "metadata": {},
   "outputs": [],
   "source": [
    "df_4 = df_4 - df_3\n",
    "df_3 = df_3 - df_2\n",
    "df_2 = df_2 - df_1"
   ]
  },
  {
   "cell_type": "code",
   "execution_count": null,
   "metadata": {},
   "outputs": [],
   "source": [
    "d2 = df2[['회사명', '거래소코드', '회계년도']]\n",
    "d2['유동자산'] = df_2['유동자산']\n",
    "d2['총자산'] = df_2['총자산']\n",
    "d2['총자본'] = df_2['총자본']\n",
    "d2['매출액'] = df_2['매출액']\n",
    "d2['부채'] = df_2['부채']\n",
    "d2['당기순이익'] = df_2['당기순이익']\n",
    "d2['유동부채'] = df_2['유동부채']\n",
    "d2['매출원가'] = df_2['매출원가']\n",
    "d2['재고자산'] = df_2['재고자산']\n",
    "d2['선급금'] = df_2['선급금']"
   ]
  },
  {
   "cell_type": "code",
   "execution_count": null,
   "metadata": {},
   "outputs": [],
   "source": [
    "d3 = df3[['회사명', '거래소코드', '회계년도']]\n",
    "d3['유동자산'] = df_3['유동자산']\n",
    "d3['총자산'] = df_3['총자산']\n",
    "d3['총자본'] = df_3['총자본']\n",
    "d3['매출액'] = df_3['매출액']\n",
    "d3['부채'] = df_3['부채']\n",
    "d3['당기순이익'] = df_3['당기순이익']\n",
    "d3['유동부채'] = df_3['유동부채']\n",
    "d3['매출원가'] = df_3['매출원가']\n",
    "d3['재고자산'] = df_3['재고자산']\n",
    "d3['선급금'] = df_3['선급금']"
   ]
  },
  {
   "cell_type": "code",
   "execution_count": null,
   "metadata": {},
   "outputs": [],
   "source": [
    "d4 = df4[['회사명', '거래소코드', '회계년도']]\n",
    "d4['유동자산'] = df_4['유동자산']\n",
    "d4['총자산'] = df_4['총자산']\n",
    "d4['총자본'] = df_4['총자본']\n",
    "d4['매출액'] = df_4['매출액']\n",
    "d4['부채'] = df_4['부채']\n",
    "d4['당기순이익'] = df_4['당기순이익']\n",
    "d4['유동부채'] = df_4['유동부채']\n",
    "d4['매출원가'] = df_4['매출원가']\n",
    "d4['재고자산'] = df_4['재고자산']\n",
    "d4['선급금'] = df_4['선급금']"
   ]
  },
  {
   "cell_type": "code",
   "execution_count": null,
   "metadata": {},
   "outputs": [],
   "source": [
    "d1 = df1"
   ]
  },
  {
   "cell_type": "code",
   "execution_count": null,
   "metadata": {},
   "outputs": [],
   "source": [
    "d1['유동자산구성비율'] = d1['유동자산'] / d1['총자산'] * 100\n",
    "d1['자기자본구성비율'] = (d1['총자본'] - d1['부채']) / d1['총자산'] * 100\n",
    "d1['총자본투자효율'] = d1['당기순이익'] / d1['총자본'] * 100\n",
    "d1['순운전자본회전률'] = d1['매출액'] / (d1['유동자산'] - d1['유동부채'])\n",
    "d1['당좌자산회전률'] = d1['매출액'] / (d1['유동자산'] - d1['재고자산'] - df1['선급금'])\n",
    "d1['매출액총이익률'] = (d1['매출액'] - d1['매출원가']) / d1['매출액'] * 100"
   ]
  },
  {
   "cell_type": "code",
   "execution_count": null,
   "metadata": {},
   "outputs": [],
   "source": [
    "d1 = d1[['회사명', '거래소코드', '회계년도','유동자산구성비율', '자기자본구성비율', '총자본투자효율', '순운전자본회전률', '당좌자산회전률', '매출액총이익률']]"
   ]
  },
  {
   "cell_type": "code",
   "execution_count": null,
   "metadata": {},
   "outputs": [],
   "source": [
    "d2['유동자산구성비율'] = d2['유동자산'] / d2['총자산'] * 100\n",
    "d2['자기자본구성비율'] = (d2['총자본'] - d2['부채']) / d2['총자산'] * 100\n",
    "d2['총자본투자효율'] = d2['당기순이익'] / d2['총자본'] * 100\n",
    "d2['순운전자본회전률'] = d2['매출액'] / (d2['유동자산'] - d2['유동부채'])\n",
    "d2['당좌자산회전률'] = d2['매출액'] / (d2['유동자산'] - d2['재고자산'] - d2['선급금'])\n",
    "d2['매출액총이익률'] = (d2['매출액'] - d2['매출원가']) / d2['매출액'] * 100"
   ]
  },
  {
   "cell_type": "code",
   "execution_count": null,
   "metadata": {},
   "outputs": [],
   "source": [
    "d2 = d2[['회사명', '거래소코드', '회계년도','유동자산구성비율', '자기자본구성비율', '총자본투자효율', '순운전자본회전률', '당좌자산회전률', '매출액총이익률']]"
   ]
  },
  {
   "cell_type": "code",
   "execution_count": null,
   "metadata": {},
   "outputs": [],
   "source": [
    "d3['유동자산구성비율'] = d3['유동자산'] / d3['총자산'] * 100\n",
    "d3['자기자본구성비율'] = (d3['총자본'] - d3['부채']) / d3['총자산'] * 100\n",
    "d3['총자본투자효율'] = d3['당기순이익'] / d3['총자본'] * 100\n",
    "d3['순운전자본회전률'] = d3['매출액'] / (d3['유동자산'] - d3['유동부채'])\n",
    "d3['당좌자산회전률'] = d3['매출액'] / (d3['유동자산'] - d3['재고자산'] - d3['선급금'])\n",
    "d3['매출액총이익률'] = (d3['매출액'] - d3['매출원가']) / d3['매출액'] * 100"
   ]
  },
  {
   "cell_type": "code",
   "execution_count": null,
   "metadata": {},
   "outputs": [],
   "source": [
    "random_df = pd.concat([kospi_companies, kosdaq_companies], axis = 0)\n",
    "f_201803 = random_df[random_df['회계년도'] == '2018/03']\n",
    "f_201903 = random_df[random_df['회계년도'] == '2019/03']\n",
    "f_202003 = random_df[random_df['회계년도'] == '2020/03']\n",
    "f_202103 = random_df[random_df['회계년도'] == '2021/03']\n",
    "f_202203 = random_df[random_df['회계년도'] == '2022/03']\n",
    "f_201806 = random_df[random_df['회계년도'] == '2018/06']\n",
    "f_201906 = random_df[random_df['회계년도'] == '2019/06']\n",
    "f_202006 = random_df[random_df['회계년도'] == '2020/06']\n",
    "f_202106 = random_df[random_df['회계년도'] == '2021/06']\n",
    "f_202206 = random_df[random_df['회계년도'] == '2022/06']\n",
    "f_201809 = random_df[random_df['회계년도'] == '2018/09']\n",
    "f_201909 = random_df[random_df['회계년도'] == '2019/09']\n",
    "f_202009 = random_df[random_df['회계년도'] == '2020/09']\n",
    "f_202109 = random_df[random_df['회계년도'] == '2021/09']\n",
    "f_202209 = random_df[random_df['회계년도'] == '2022/09']\n",
    "f_201812 = random_df[random_df['회계년도'] == '2018/12']\n",
    "f_201912 = random_df[random_df['회계년도'] == '2019/12']\n",
    "f_202012 = random_df[random_df['회계년도'] == '2020/12']\n",
    "f_202112 = random_df[random_df['회계년도'] == '2021/12']\n",
    "f_202212 = random_df[random_df['회계년도'] == '2022/12']"
   ]
  }
 ],
 "metadata": {
  "language_info": {
   "name": "python"
  },
  "orig_nbformat": 4
 },
 "nbformat": 4,
 "nbformat_minor": 2
}
