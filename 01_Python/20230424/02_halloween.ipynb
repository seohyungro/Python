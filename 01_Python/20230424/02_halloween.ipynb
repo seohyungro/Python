{
 "cells": [
  {
   "cell_type": "code",
   "execution_count": 3,
   "metadata": {},
   "outputs": [],
   "source": [
    "import pandas as pd"
   ]
  },
  {
   "cell_type": "code",
   "execution_count": 346,
   "metadata": {},
   "outputs": [],
   "source": [
    "df = pd.read_csv(\"../csv/AAPL.csv\")"
   ]
  },
  {
   "cell_type": "code",
   "execution_count": 347,
   "metadata": {},
   "outputs": [
    {
     "data": {
      "text/html": [
       "<div>\n",
       "<style scoped>\n",
       "    .dataframe tbody tr th:only-of-type {\n",
       "        vertical-align: middle;\n",
       "    }\n",
       "\n",
       "    .dataframe tbody tr th {\n",
       "        vertical-align: top;\n",
       "    }\n",
       "\n",
       "    .dataframe thead th {\n",
       "        text-align: right;\n",
       "    }\n",
       "</style>\n",
       "<table border=\"1\" class=\"dataframe\">\n",
       "  <thead>\n",
       "    <tr style=\"text-align: right;\">\n",
       "      <th></th>\n",
       "      <th>Date</th>\n",
       "      <th>Open</th>\n",
       "      <th>High</th>\n",
       "      <th>Low</th>\n",
       "      <th>Close</th>\n",
       "      <th>Adj Close</th>\n",
       "      <th>Volume</th>\n",
       "    </tr>\n",
       "  </thead>\n",
       "  <tbody>\n",
       "    <tr>\n",
       "      <th>0</th>\n",
       "      <td>1980-12-12</td>\n",
       "      <td>0.513393</td>\n",
       "      <td>0.515625</td>\n",
       "      <td>0.513393</td>\n",
       "      <td>0.513393</td>\n",
       "      <td>0.410525</td>\n",
       "      <td>117258400.0</td>\n",
       "    </tr>\n",
       "    <tr>\n",
       "      <th>1</th>\n",
       "      <td>1980-12-15</td>\n",
       "      <td>0.488839</td>\n",
       "      <td>0.488839</td>\n",
       "      <td>0.486607</td>\n",
       "      <td>0.486607</td>\n",
       "      <td>0.389106</td>\n",
       "      <td>43971200.0</td>\n",
       "    </tr>\n",
       "    <tr>\n",
       "      <th>2</th>\n",
       "      <td>1980-12-16</td>\n",
       "      <td>0.453125</td>\n",
       "      <td>0.453125</td>\n",
       "      <td>0.450893</td>\n",
       "      <td>0.450893</td>\n",
       "      <td>0.360548</td>\n",
       "      <td>26432000.0</td>\n",
       "    </tr>\n",
       "    <tr>\n",
       "      <th>3</th>\n",
       "      <td>1980-12-17</td>\n",
       "      <td>0.462054</td>\n",
       "      <td>0.464286</td>\n",
       "      <td>0.462054</td>\n",
       "      <td>0.462054</td>\n",
       "      <td>0.369472</td>\n",
       "      <td>21610400.0</td>\n",
       "    </tr>\n",
       "    <tr>\n",
       "      <th>4</th>\n",
       "      <td>1980-12-18</td>\n",
       "      <td>0.475446</td>\n",
       "      <td>0.477679</td>\n",
       "      <td>0.475446</td>\n",
       "      <td>0.475446</td>\n",
       "      <td>0.380182</td>\n",
       "      <td>18362400.0</td>\n",
       "    </tr>\n",
       "  </tbody>\n",
       "</table>\n",
       "</div>"
      ],
      "text/plain": [
       "         Date      Open      High       Low     Close  Adj Close       Volume\n",
       "0  1980-12-12  0.513393  0.515625  0.513393  0.513393   0.410525  117258400.0\n",
       "1  1980-12-15  0.488839  0.488839  0.486607  0.486607   0.389106   43971200.0\n",
       "2  1980-12-16  0.453125  0.453125  0.450893  0.450893   0.360548   26432000.0\n",
       "3  1980-12-17  0.462054  0.464286  0.462054  0.462054   0.369472   21610400.0\n",
       "4  1980-12-18  0.475446  0.477679  0.475446  0.475446   0.380182   18362400.0"
      ]
     },
     "execution_count": 347,
     "metadata": {},
     "output_type": "execute_result"
    }
   ],
   "source": [
    "df.head()"
   ]
  },
  {
   "cell_type": "code",
   "execution_count": 348,
   "metadata": {},
   "outputs": [],
   "source": [
    "# 컬럼의 데이터를 인덱스로 변경\n",
    "# set_index(컬럼명)\n",
    "df.set_index('Date', inplace = True) # df = df.set_index('Date')"
   ]
  },
  {
   "cell_type": "code",
   "execution_count": 349,
   "metadata": {},
   "outputs": [],
   "source": [
    "# 컬럼의 이름을 변경하려면?\n",
    "df.columns = ['시가', '고가', '저가', '종가', '수정종가', '거래량']"
   ]
  },
  {
   "cell_type": "code",
   "execution_count": 350,
   "metadata": {},
   "outputs": [
    {
     "data": {
      "text/html": [
       "<div>\n",
       "<style scoped>\n",
       "    .dataframe tbody tr th:only-of-type {\n",
       "        vertical-align: middle;\n",
       "    }\n",
       "\n",
       "    .dataframe tbody tr th {\n",
       "        vertical-align: top;\n",
       "    }\n",
       "\n",
       "    .dataframe thead th {\n",
       "        text-align: right;\n",
       "    }\n",
       "</style>\n",
       "<table border=\"1\" class=\"dataframe\">\n",
       "  <thead>\n",
       "    <tr style=\"text-align: right;\">\n",
       "      <th></th>\n",
       "      <th>시가</th>\n",
       "      <th>고가</th>\n",
       "      <th>저가</th>\n",
       "      <th>종가</th>\n",
       "      <th>수정종가</th>\n",
       "      <th>거래량</th>\n",
       "    </tr>\n",
       "    <tr>\n",
       "      <th>Date</th>\n",
       "      <th></th>\n",
       "      <th></th>\n",
       "      <th></th>\n",
       "      <th></th>\n",
       "      <th></th>\n",
       "      <th></th>\n",
       "    </tr>\n",
       "  </thead>\n",
       "  <tbody>\n",
       "    <tr>\n",
       "      <th>1980-12-12</th>\n",
       "      <td>0.513393</td>\n",
       "      <td>0.515625</td>\n",
       "      <td>0.513393</td>\n",
       "      <td>0.513393</td>\n",
       "      <td>0.410525</td>\n",
       "      <td>117258400.0</td>\n",
       "    </tr>\n",
       "  </tbody>\n",
       "</table>\n",
       "</div>"
      ],
      "text/plain": [
       "                  시가        고가        저가        종가      수정종가          거래량\n",
       "Date                                                                     \n",
       "1980-12-12  0.513393  0.515625  0.513393  0.513393  0.410525  117258400.0"
      ]
     },
     "execution_count": 350,
     "metadata": {},
     "output_type": "execute_result"
    }
   ],
   "source": [
    "df.head(1)"
   ]
  },
  {
   "cell_type": "code",
   "execution_count": 351,
   "metadata": {},
   "outputs": [],
   "source": [
    "# 위에 Date 이름을 바꾸고싶으면?\n",
    "df.index.name = \"날짜\""
   ]
  },
  {
   "cell_type": "code",
   "execution_count": 352,
   "metadata": {},
   "outputs": [
    {
     "data": {
      "text/html": [
       "<div>\n",
       "<style scoped>\n",
       "    .dataframe tbody tr th:only-of-type {\n",
       "        vertical-align: middle;\n",
       "    }\n",
       "\n",
       "    .dataframe tbody tr th {\n",
       "        vertical-align: top;\n",
       "    }\n",
       "\n",
       "    .dataframe thead th {\n",
       "        text-align: right;\n",
       "    }\n",
       "</style>\n",
       "<table border=\"1\" class=\"dataframe\">\n",
       "  <thead>\n",
       "    <tr style=\"text-align: right;\">\n",
       "      <th></th>\n",
       "      <th>시가</th>\n",
       "      <th>고가</th>\n",
       "      <th>저가</th>\n",
       "      <th>종가</th>\n",
       "      <th>수정종가</th>\n",
       "      <th>거래량</th>\n",
       "    </tr>\n",
       "    <tr>\n",
       "      <th>날짜</th>\n",
       "      <th></th>\n",
       "      <th></th>\n",
       "      <th></th>\n",
       "      <th></th>\n",
       "      <th></th>\n",
       "      <th></th>\n",
       "    </tr>\n",
       "  </thead>\n",
       "  <tbody>\n",
       "    <tr>\n",
       "      <th>1980-12-12</th>\n",
       "      <td>0.513393</td>\n",
       "      <td>0.515625</td>\n",
       "      <td>0.513393</td>\n",
       "      <td>0.513393</td>\n",
       "      <td>0.410525</td>\n",
       "      <td>117258400.0</td>\n",
       "    </tr>\n",
       "  </tbody>\n",
       "</table>\n",
       "</div>"
      ],
      "text/plain": [
       "                  시가        고가        저가        종가      수정종가          거래량\n",
       "날짜                                                                       \n",
       "1980-12-12  0.513393  0.515625  0.513393  0.513393  0.410525  117258400.0"
      ]
     },
     "execution_count": 352,
     "metadata": {},
     "output_type": "execute_result"
    }
   ],
   "source": [
    "df.head(1)"
   ]
  },
  {
   "cell_type": "code",
   "execution_count": 353,
   "metadata": {},
   "outputs": [
    {
     "data": {
      "text/html": [
       "<div>\n",
       "<style scoped>\n",
       "    .dataframe tbody tr th:only-of-type {\n",
       "        vertical-align: middle;\n",
       "    }\n",
       "\n",
       "    .dataframe tbody tr th {\n",
       "        vertical-align: top;\n",
       "    }\n",
       "\n",
       "    .dataframe thead th {\n",
       "        text-align: right;\n",
       "    }\n",
       "</style>\n",
       "<table border=\"1\" class=\"dataframe\">\n",
       "  <thead>\n",
       "    <tr style=\"text-align: right;\">\n",
       "      <th></th>\n",
       "      <th>시가</th>\n",
       "      <th>수정종가</th>\n",
       "    </tr>\n",
       "    <tr>\n",
       "      <th>날짜</th>\n",
       "      <th></th>\n",
       "      <th></th>\n",
       "    </tr>\n",
       "  </thead>\n",
       "  <tbody>\n",
       "    <tr>\n",
       "      <th>1980-12-12</th>\n",
       "      <td>0.513393</td>\n",
       "      <td>0.410525</td>\n",
       "    </tr>\n",
       "    <tr>\n",
       "      <th>1980-12-15</th>\n",
       "      <td>0.488839</td>\n",
       "      <td>0.389106</td>\n",
       "    </tr>\n",
       "    <tr>\n",
       "      <th>1980-12-16</th>\n",
       "      <td>0.453125</td>\n",
       "      <td>0.360548</td>\n",
       "    </tr>\n",
       "    <tr>\n",
       "      <th>1980-12-17</th>\n",
       "      <td>0.462054</td>\n",
       "      <td>0.369472</td>\n",
       "    </tr>\n",
       "    <tr>\n",
       "      <th>1980-12-18</th>\n",
       "      <td>0.475446</td>\n",
       "      <td>0.380182</td>\n",
       "    </tr>\n",
       "    <tr>\n",
       "      <th>...</th>\n",
       "      <td>...</td>\n",
       "      <td>...</td>\n",
       "    </tr>\n",
       "    <tr>\n",
       "      <th>2019-06-18</th>\n",
       "      <td>196.050003</td>\n",
       "      <td>198.449997</td>\n",
       "    </tr>\n",
       "    <tr>\n",
       "      <th>2019-06-19</th>\n",
       "      <td>199.679993</td>\n",
       "      <td>197.869995</td>\n",
       "    </tr>\n",
       "    <tr>\n",
       "      <th>2019-06-20</th>\n",
       "      <td>200.369995</td>\n",
       "      <td>199.460007</td>\n",
       "    </tr>\n",
       "    <tr>\n",
       "      <th>2019-06-21</th>\n",
       "      <td>198.800003</td>\n",
       "      <td>198.779999</td>\n",
       "    </tr>\n",
       "    <tr>\n",
       "      <th>2019-06-24</th>\n",
       "      <td>198.539993</td>\n",
       "      <td>199.169998</td>\n",
       "    </tr>\n",
       "  </tbody>\n",
       "</table>\n",
       "<p>9715 rows × 2 columns</p>\n",
       "</div>"
      ],
      "text/plain": [
       "                    시가        수정종가\n",
       "날짜                                \n",
       "1980-12-12    0.513393    0.410525\n",
       "1980-12-15    0.488839    0.389106\n",
       "1980-12-16    0.453125    0.360548\n",
       "1980-12-17    0.462054    0.369472\n",
       "1980-12-18    0.475446    0.380182\n",
       "...                ...         ...\n",
       "2019-06-18  196.050003  198.449997\n",
       "2019-06-19  199.679993  197.869995\n",
       "2019-06-20  200.369995  199.460007\n",
       "2019-06-21  198.800003  198.779999\n",
       "2019-06-24  198.539993  199.169998\n",
       "\n",
       "[9715 rows x 2 columns]"
      ]
     },
     "execution_count": 353,
     "metadata": {},
     "output_type": "execute_result"
    }
   ],
   "source": [
    "df[['시가', '수정종가']]"
   ]
  },
  {
   "cell_type": "code",
   "execution_count": 354,
   "metadata": {},
   "outputs": [
    {
     "data": {
      "text/html": [
       "<div>\n",
       "<style scoped>\n",
       "    .dataframe tbody tr th:only-of-type {\n",
       "        vertical-align: middle;\n",
       "    }\n",
       "\n",
       "    .dataframe tbody tr th {\n",
       "        vertical-align: top;\n",
       "    }\n",
       "\n",
       "    .dataframe thead th {\n",
       "        text-align: right;\n",
       "    }\n",
       "</style>\n",
       "<table border=\"1\" class=\"dataframe\">\n",
       "  <thead>\n",
       "    <tr style=\"text-align: right;\">\n",
       "      <th></th>\n",
       "      <th>시가</th>\n",
       "      <th>고가</th>\n",
       "      <th>저가</th>\n",
       "      <th>종가</th>\n",
       "      <th>수정종가</th>\n",
       "    </tr>\n",
       "    <tr>\n",
       "      <th>날짜</th>\n",
       "      <th></th>\n",
       "      <th></th>\n",
       "      <th></th>\n",
       "      <th></th>\n",
       "      <th></th>\n",
       "    </tr>\n",
       "  </thead>\n",
       "  <tbody>\n",
       "    <tr>\n",
       "      <th>1980-12-12</th>\n",
       "      <td>0.513393</td>\n",
       "      <td>0.515625</td>\n",
       "      <td>0.513393</td>\n",
       "      <td>0.513393</td>\n",
       "      <td>0.410525</td>\n",
       "    </tr>\n",
       "    <tr>\n",
       "      <th>1980-12-15</th>\n",
       "      <td>0.488839</td>\n",
       "      <td>0.488839</td>\n",
       "      <td>0.486607</td>\n",
       "      <td>0.486607</td>\n",
       "      <td>0.389106</td>\n",
       "    </tr>\n",
       "    <tr>\n",
       "      <th>1980-12-16</th>\n",
       "      <td>0.453125</td>\n",
       "      <td>0.453125</td>\n",
       "      <td>0.450893</td>\n",
       "      <td>0.450893</td>\n",
       "      <td>0.360548</td>\n",
       "    </tr>\n",
       "    <tr>\n",
       "      <th>1980-12-17</th>\n",
       "      <td>0.462054</td>\n",
       "      <td>0.464286</td>\n",
       "      <td>0.462054</td>\n",
       "      <td>0.462054</td>\n",
       "      <td>0.369472</td>\n",
       "    </tr>\n",
       "    <tr>\n",
       "      <th>1980-12-18</th>\n",
       "      <td>0.475446</td>\n",
       "      <td>0.477679</td>\n",
       "      <td>0.475446</td>\n",
       "      <td>0.475446</td>\n",
       "      <td>0.380182</td>\n",
       "    </tr>\n",
       "    <tr>\n",
       "      <th>...</th>\n",
       "      <td>...</td>\n",
       "      <td>...</td>\n",
       "      <td>...</td>\n",
       "      <td>...</td>\n",
       "      <td>...</td>\n",
       "    </tr>\n",
       "    <tr>\n",
       "      <th>2019-06-18</th>\n",
       "      <td>196.050003</td>\n",
       "      <td>200.289993</td>\n",
       "      <td>195.210007</td>\n",
       "      <td>198.449997</td>\n",
       "      <td>198.449997</td>\n",
       "    </tr>\n",
       "    <tr>\n",
       "      <th>2019-06-19</th>\n",
       "      <td>199.679993</td>\n",
       "      <td>199.880005</td>\n",
       "      <td>197.309998</td>\n",
       "      <td>197.869995</td>\n",
       "      <td>197.869995</td>\n",
       "    </tr>\n",
       "    <tr>\n",
       "      <th>2019-06-20</th>\n",
       "      <td>200.369995</td>\n",
       "      <td>200.610001</td>\n",
       "      <td>198.029999</td>\n",
       "      <td>199.460007</td>\n",
       "      <td>199.460007</td>\n",
       "    </tr>\n",
       "    <tr>\n",
       "      <th>2019-06-21</th>\n",
       "      <td>198.800003</td>\n",
       "      <td>200.850006</td>\n",
       "      <td>198.149994</td>\n",
       "      <td>198.779999</td>\n",
       "      <td>198.779999</td>\n",
       "    </tr>\n",
       "    <tr>\n",
       "      <th>2019-06-24</th>\n",
       "      <td>198.539993</td>\n",
       "      <td>200.160004</td>\n",
       "      <td>198.169998</td>\n",
       "      <td>199.169998</td>\n",
       "      <td>199.169998</td>\n",
       "    </tr>\n",
       "  </tbody>\n",
       "</table>\n",
       "<p>9715 rows × 5 columns</p>\n",
       "</div>"
      ],
      "text/plain": [
       "                    시가          고가          저가          종가        수정종가\n",
       "날짜                                                                    \n",
       "1980-12-12    0.513393    0.515625    0.513393    0.513393    0.410525\n",
       "1980-12-15    0.488839    0.488839    0.486607    0.486607    0.389106\n",
       "1980-12-16    0.453125    0.453125    0.450893    0.450893    0.360548\n",
       "1980-12-17    0.462054    0.464286    0.462054    0.462054    0.369472\n",
       "1980-12-18    0.475446    0.477679    0.475446    0.475446    0.380182\n",
       "...                ...         ...         ...         ...         ...\n",
       "2019-06-18  196.050003  200.289993  195.210007  198.449997  198.449997\n",
       "2019-06-19  199.679993  199.880005  197.309998  197.869995  197.869995\n",
       "2019-06-20  200.369995  200.610001  198.029999  199.460007  199.460007\n",
       "2019-06-21  198.800003  200.850006  198.149994  198.779999  198.779999\n",
       "2019-06-24  198.539993  200.160004  198.169998  199.169998  199.169998\n",
       "\n",
       "[9715 rows x 5 columns]"
      ]
     },
     "execution_count": 354,
     "metadata": {},
     "output_type": "execute_result"
    }
   ],
   "source": [
    "# 데이터프레임에서 특정 컬럼으로 필터\n",
    "# df['시가'] # 시리즈\n",
    "# df[['시가']] # 데이터프레임 형태\n",
    "# df[['시가', '수정종가']] # 두개만 데이터 프레임 형태로\n",
    "df.loc[:,'시가' : '수정종가'] # 시가에서 수정종가까지 다"
   ]
  },
  {
   "cell_type": "code",
   "execution_count": 355,
   "metadata": {},
   "outputs": [
    {
     "data": {
      "text/html": [
       "<div>\n",
       "<style scoped>\n",
       "    .dataframe tbody tr th:only-of-type {\n",
       "        vertical-align: middle;\n",
       "    }\n",
       "\n",
       "    .dataframe tbody tr th {\n",
       "        vertical-align: top;\n",
       "    }\n",
       "\n",
       "    .dataframe thead th {\n",
       "        text-align: right;\n",
       "    }\n",
       "</style>\n",
       "<table border=\"1\" class=\"dataframe\">\n",
       "  <thead>\n",
       "    <tr style=\"text-align: right;\">\n",
       "      <th></th>\n",
       "      <th>고가</th>\n",
       "      <th>저가</th>\n",
       "    </tr>\n",
       "    <tr>\n",
       "      <th>날짜</th>\n",
       "      <th></th>\n",
       "      <th></th>\n",
       "    </tr>\n",
       "  </thead>\n",
       "  <tbody>\n",
       "    <tr>\n",
       "      <th>1980-12-12</th>\n",
       "      <td>0.515625</td>\n",
       "      <td>0.513393</td>\n",
       "    </tr>\n",
       "    <tr>\n",
       "      <th>1980-12-15</th>\n",
       "      <td>0.488839</td>\n",
       "      <td>0.486607</td>\n",
       "    </tr>\n",
       "    <tr>\n",
       "      <th>1980-12-16</th>\n",
       "      <td>0.453125</td>\n",
       "      <td>0.450893</td>\n",
       "    </tr>\n",
       "    <tr>\n",
       "      <th>1980-12-17</th>\n",
       "      <td>0.464286</td>\n",
       "      <td>0.462054</td>\n",
       "    </tr>\n",
       "    <tr>\n",
       "      <th>1980-12-18</th>\n",
       "      <td>0.477679</td>\n",
       "      <td>0.475446</td>\n",
       "    </tr>\n",
       "    <tr>\n",
       "      <th>...</th>\n",
       "      <td>...</td>\n",
       "      <td>...</td>\n",
       "    </tr>\n",
       "    <tr>\n",
       "      <th>2019-06-18</th>\n",
       "      <td>200.289993</td>\n",
       "      <td>195.210007</td>\n",
       "    </tr>\n",
       "    <tr>\n",
       "      <th>2019-06-19</th>\n",
       "      <td>199.880005</td>\n",
       "      <td>197.309998</td>\n",
       "    </tr>\n",
       "    <tr>\n",
       "      <th>2019-06-20</th>\n",
       "      <td>200.610001</td>\n",
       "      <td>198.029999</td>\n",
       "    </tr>\n",
       "    <tr>\n",
       "      <th>2019-06-21</th>\n",
       "      <td>200.850006</td>\n",
       "      <td>198.149994</td>\n",
       "    </tr>\n",
       "    <tr>\n",
       "      <th>2019-06-24</th>\n",
       "      <td>200.160004</td>\n",
       "      <td>198.169998</td>\n",
       "    </tr>\n",
       "  </tbody>\n",
       "</table>\n",
       "<p>9715 rows × 2 columns</p>\n",
       "</div>"
      ],
      "text/plain": [
       "                    고가          저가\n",
       "날짜                                \n",
       "1980-12-12    0.515625    0.513393\n",
       "1980-12-15    0.488839    0.486607\n",
       "1980-12-16    0.453125    0.450893\n",
       "1980-12-17    0.464286    0.462054\n",
       "1980-12-18    0.477679    0.475446\n",
       "...                ...         ...\n",
       "2019-06-18  200.289993  195.210007\n",
       "2019-06-19  199.880005  197.309998\n",
       "2019-06-20  200.610001  198.029999\n",
       "2019-06-21  200.850006  198.149994\n",
       "2019-06-24  200.160004  198.169998\n",
       "\n",
       "[9715 rows x 2 columns]"
      ]
     },
     "execution_count": 355,
     "metadata": {},
     "output_type": "execute_result"
    }
   ],
   "source": [
    "df.iloc[:, 1:3]"
   ]
  },
  {
   "cell_type": "code",
   "execution_count": 356,
   "metadata": {},
   "outputs": [
    {
     "data": {
      "text/html": [
       "<div>\n",
       "<style scoped>\n",
       "    .dataframe tbody tr th:only-of-type {\n",
       "        vertical-align: middle;\n",
       "    }\n",
       "\n",
       "    .dataframe tbody tr th {\n",
       "        vertical-align: top;\n",
       "    }\n",
       "\n",
       "    .dataframe thead th {\n",
       "        text-align: right;\n",
       "    }\n",
       "</style>\n",
       "<table border=\"1\" class=\"dataframe\">\n",
       "  <thead>\n",
       "    <tr style=\"text-align: right;\">\n",
       "      <th></th>\n",
       "      <th>시가</th>\n",
       "      <th>고가</th>\n",
       "      <th>저가</th>\n",
       "      <th>종가</th>\n",
       "      <th>수정종가</th>\n",
       "      <th>거래량</th>\n",
       "    </tr>\n",
       "    <tr>\n",
       "      <th>날짜</th>\n",
       "      <th></th>\n",
       "      <th></th>\n",
       "      <th></th>\n",
       "      <th></th>\n",
       "      <th></th>\n",
       "      <th></th>\n",
       "    </tr>\n",
       "  </thead>\n",
       "  <tbody>\n",
       "    <tr>\n",
       "      <th>2012-09-19</th>\n",
       "      <td>100.037140</td>\n",
       "      <td>100.570000</td>\n",
       "      <td>99.938568</td>\n",
       "      <td>100.300003</td>\n",
       "      <td>88.242981</td>\n",
       "      <td>81718700.0</td>\n",
       "    </tr>\n",
       "    <tr>\n",
       "      <th>2012-09-21</th>\n",
       "      <td>100.344284</td>\n",
       "      <td>100.724289</td>\n",
       "      <td>99.908569</td>\n",
       "      <td>100.012856</td>\n",
       "      <td>87.990341</td>\n",
       "      <td>142897300.0</td>\n",
       "    </tr>\n",
       "    <tr>\n",
       "      <th>2014-08-20</th>\n",
       "      <td>100.440002</td>\n",
       "      <td>101.089996</td>\n",
       "      <td>99.949997</td>\n",
       "      <td>100.570000</td>\n",
       "      <td>92.633347</td>\n",
       "      <td>52699000.0</td>\n",
       "    </tr>\n",
       "    <tr>\n",
       "      <th>2014-08-21</th>\n",
       "      <td>100.570000</td>\n",
       "      <td>100.940002</td>\n",
       "      <td>100.110001</td>\n",
       "      <td>100.580002</td>\n",
       "      <td>92.642563</td>\n",
       "      <td>33478000.0</td>\n",
       "    </tr>\n",
       "    <tr>\n",
       "      <th>2014-08-22</th>\n",
       "      <td>100.290001</td>\n",
       "      <td>101.470001</td>\n",
       "      <td>100.190002</td>\n",
       "      <td>101.320000</td>\n",
       "      <td>93.324173</td>\n",
       "      <td>44184000.0</td>\n",
       "    </tr>\n",
       "    <tr>\n",
       "      <th>...</th>\n",
       "      <td>...</td>\n",
       "      <td>...</td>\n",
       "      <td>...</td>\n",
       "      <td>...</td>\n",
       "      <td>...</td>\n",
       "      <td>...</td>\n",
       "    </tr>\n",
       "    <tr>\n",
       "      <th>2019-06-18</th>\n",
       "      <td>196.050003</td>\n",
       "      <td>200.289993</td>\n",
       "      <td>195.210007</td>\n",
       "      <td>198.449997</td>\n",
       "      <td>198.449997</td>\n",
       "      <td>26551000.0</td>\n",
       "    </tr>\n",
       "    <tr>\n",
       "      <th>2019-06-19</th>\n",
       "      <td>199.679993</td>\n",
       "      <td>199.880005</td>\n",
       "      <td>197.309998</td>\n",
       "      <td>197.869995</td>\n",
       "      <td>197.869995</td>\n",
       "      <td>21124200.0</td>\n",
       "    </tr>\n",
       "    <tr>\n",
       "      <th>2019-06-20</th>\n",
       "      <td>200.369995</td>\n",
       "      <td>200.610001</td>\n",
       "      <td>198.029999</td>\n",
       "      <td>199.460007</td>\n",
       "      <td>199.460007</td>\n",
       "      <td>21514000.0</td>\n",
       "    </tr>\n",
       "    <tr>\n",
       "      <th>2019-06-21</th>\n",
       "      <td>198.800003</td>\n",
       "      <td>200.850006</td>\n",
       "      <td>198.149994</td>\n",
       "      <td>198.779999</td>\n",
       "      <td>198.779999</td>\n",
       "      <td>47735300.0</td>\n",
       "    </tr>\n",
       "    <tr>\n",
       "      <th>2019-06-24</th>\n",
       "      <td>198.539993</td>\n",
       "      <td>200.160004</td>\n",
       "      <td>198.169998</td>\n",
       "      <td>199.169998</td>\n",
       "      <td>199.169998</td>\n",
       "      <td>9025362.0</td>\n",
       "    </tr>\n",
       "  </tbody>\n",
       "</table>\n",
       "<p>1107 rows × 6 columns</p>\n",
       "</div>"
      ],
      "text/plain": [
       "                    시가          고가          저가          종가        수정종가   \n",
       "날짜                                                                       \n",
       "2012-09-19  100.037140  100.570000   99.938568  100.300003   88.242981  \\\n",
       "2012-09-21  100.344284  100.724289   99.908569  100.012856   87.990341   \n",
       "2014-08-20  100.440002  101.089996   99.949997  100.570000   92.633347   \n",
       "2014-08-21  100.570000  100.940002  100.110001  100.580002   92.642563   \n",
       "2014-08-22  100.290001  101.470001  100.190002  101.320000   93.324173   \n",
       "...                ...         ...         ...         ...         ...   \n",
       "2019-06-18  196.050003  200.289993  195.210007  198.449997  198.449997   \n",
       "2019-06-19  199.679993  199.880005  197.309998  197.869995  197.869995   \n",
       "2019-06-20  200.369995  200.610001  198.029999  199.460007  199.460007   \n",
       "2019-06-21  198.800003  200.850006  198.149994  198.779999  198.779999   \n",
       "2019-06-24  198.539993  200.160004  198.169998  199.169998  199.169998   \n",
       "\n",
       "                    거래량  \n",
       "날짜                       \n",
       "2012-09-19   81718700.0  \n",
       "2012-09-21  142897300.0  \n",
       "2014-08-20   52699000.0  \n",
       "2014-08-21   33478000.0  \n",
       "2014-08-22   44184000.0  \n",
       "...                 ...  \n",
       "2019-06-18   26551000.0  \n",
       "2019-06-19   21124200.0  \n",
       "2019-06-20   21514000.0  \n",
       "2019-06-21   47735300.0  \n",
       "2019-06-24    9025362.0  \n",
       "\n",
       "[1107 rows x 6 columns]"
      ]
     },
     "execution_count": 356,
     "metadata": {},
     "output_type": "execute_result"
    }
   ],
   "source": [
    "# 시가가 100달러 이상인 경우\n",
    "df.loc[df['시가'] >= 100]"
   ]
  },
  {
   "cell_type": "code",
   "execution_count": 357,
   "metadata": {},
   "outputs": [
    {
     "data": {
      "text/html": [
       "<div>\n",
       "<style scoped>\n",
       "    .dataframe tbody tr th:only-of-type {\n",
       "        vertical-align: middle;\n",
       "    }\n",
       "\n",
       "    .dataframe tbody tr th {\n",
       "        vertical-align: top;\n",
       "    }\n",
       "\n",
       "    .dataframe thead th {\n",
       "        text-align: right;\n",
       "    }\n",
       "</style>\n",
       "<table border=\"1\" class=\"dataframe\">\n",
       "  <thead>\n",
       "    <tr style=\"text-align: right;\">\n",
       "      <th></th>\n",
       "      <th>시가</th>\n",
       "      <th>고가</th>\n",
       "      <th>저가</th>\n",
       "      <th>종가</th>\n",
       "      <th>수정종가</th>\n",
       "      <th>거래량</th>\n",
       "    </tr>\n",
       "    <tr>\n",
       "      <th>날짜</th>\n",
       "      <th></th>\n",
       "      <th></th>\n",
       "      <th></th>\n",
       "      <th></th>\n",
       "      <th></th>\n",
       "      <th></th>\n",
       "    </tr>\n",
       "  </thead>\n",
       "  <tbody>\n",
       "    <tr>\n",
       "      <th>2012-09-19</th>\n",
       "      <td>100.037140</td>\n",
       "      <td>100.570000</td>\n",
       "      <td>99.938568</td>\n",
       "      <td>100.300003</td>\n",
       "      <td>88.242981</td>\n",
       "      <td>81718700.0</td>\n",
       "    </tr>\n",
       "    <tr>\n",
       "      <th>2012-09-21</th>\n",
       "      <td>100.344284</td>\n",
       "      <td>100.724289</td>\n",
       "      <td>99.908569</td>\n",
       "      <td>100.012856</td>\n",
       "      <td>87.990341</td>\n",
       "      <td>142897300.0</td>\n",
       "    </tr>\n",
       "    <tr>\n",
       "      <th>2014-08-20</th>\n",
       "      <td>100.440002</td>\n",
       "      <td>101.089996</td>\n",
       "      <td>99.949997</td>\n",
       "      <td>100.570000</td>\n",
       "      <td>92.633347</td>\n",
       "      <td>52699000.0</td>\n",
       "    </tr>\n",
       "    <tr>\n",
       "      <th>2014-08-21</th>\n",
       "      <td>100.570000</td>\n",
       "      <td>100.940002</td>\n",
       "      <td>100.110001</td>\n",
       "      <td>100.580002</td>\n",
       "      <td>92.642563</td>\n",
       "      <td>33478000.0</td>\n",
       "    </tr>\n",
       "    <tr>\n",
       "      <th>2014-08-22</th>\n",
       "      <td>100.290001</td>\n",
       "      <td>101.470001</td>\n",
       "      <td>100.190002</td>\n",
       "      <td>101.320000</td>\n",
       "      <td>93.324173</td>\n",
       "      <td>44184000.0</td>\n",
       "    </tr>\n",
       "    <tr>\n",
       "      <th>...</th>\n",
       "      <td>...</td>\n",
       "      <td>...</td>\n",
       "      <td>...</td>\n",
       "      <td>...</td>\n",
       "      <td>...</td>\n",
       "      <td>...</td>\n",
       "    </tr>\n",
       "    <tr>\n",
       "      <th>2017-07-13</th>\n",
       "      <td>145.500000</td>\n",
       "      <td>148.490005</td>\n",
       "      <td>145.440002</td>\n",
       "      <td>147.770004</td>\n",
       "      <td>143.326370</td>\n",
       "      <td>25199400.0</td>\n",
       "    </tr>\n",
       "    <tr>\n",
       "      <th>2017-07-14</th>\n",
       "      <td>147.970001</td>\n",
       "      <td>149.330002</td>\n",
       "      <td>147.330002</td>\n",
       "      <td>149.039993</td>\n",
       "      <td>144.558197</td>\n",
       "      <td>20132100.0</td>\n",
       "    </tr>\n",
       "    <tr>\n",
       "      <th>2019-01-03</th>\n",
       "      <td>143.979996</td>\n",
       "      <td>145.720001</td>\n",
       "      <td>142.000000</td>\n",
       "      <td>142.190002</td>\n",
       "      <td>141.039642</td>\n",
       "      <td>91244100.0</td>\n",
       "    </tr>\n",
       "    <tr>\n",
       "      <th>2019-01-04</th>\n",
       "      <td>144.529999</td>\n",
       "      <td>148.550003</td>\n",
       "      <td>143.800003</td>\n",
       "      <td>148.259995</td>\n",
       "      <td>147.060516</td>\n",
       "      <td>58607100.0</td>\n",
       "    </tr>\n",
       "    <tr>\n",
       "      <th>2019-01-07</th>\n",
       "      <td>148.699997</td>\n",
       "      <td>148.830002</td>\n",
       "      <td>145.899994</td>\n",
       "      <td>147.929993</td>\n",
       "      <td>146.733185</td>\n",
       "      <td>54777800.0</td>\n",
       "    </tr>\n",
       "  </tbody>\n",
       "</table>\n",
       "<p>598 rows × 6 columns</p>\n",
       "</div>"
      ],
      "text/plain": [
       "                    시가          고가          저가          종가        수정종가   \n",
       "날짜                                                                       \n",
       "2012-09-19  100.037140  100.570000   99.938568  100.300003   88.242981  \\\n",
       "2012-09-21  100.344284  100.724289   99.908569  100.012856   87.990341   \n",
       "2014-08-20  100.440002  101.089996   99.949997  100.570000   92.633347   \n",
       "2014-08-21  100.570000  100.940002  100.110001  100.580002   92.642563   \n",
       "2014-08-22  100.290001  101.470001  100.190002  101.320000   93.324173   \n",
       "...                ...         ...         ...         ...         ...   \n",
       "2017-07-13  145.500000  148.490005  145.440002  147.770004  143.326370   \n",
       "2017-07-14  147.970001  149.330002  147.330002  149.039993  144.558197   \n",
       "2019-01-03  143.979996  145.720001  142.000000  142.190002  141.039642   \n",
       "2019-01-04  144.529999  148.550003  143.800003  148.259995  147.060516   \n",
       "2019-01-07  148.699997  148.830002  145.899994  147.929993  146.733185   \n",
       "\n",
       "                    거래량  \n",
       "날짜                       \n",
       "2012-09-19   81718700.0  \n",
       "2012-09-21  142897300.0  \n",
       "2014-08-20   52699000.0  \n",
       "2014-08-21   33478000.0  \n",
       "2014-08-22   44184000.0  \n",
       "...                 ...  \n",
       "2017-07-13   25199400.0  \n",
       "2017-07-14   20132100.0  \n",
       "2019-01-03   91244100.0  \n",
       "2019-01-04   58607100.0  \n",
       "2019-01-07   54777800.0  \n",
       "\n",
       "[598 rows x 6 columns]"
      ]
     },
     "execution_count": 357,
     "metadata": {},
     "output_type": "execute_result"
    }
   ],
   "source": [
    "# query() 함수\n",
    "# query(조건식)\n",
    "df.query(\"시가 >= 100 & 고가 < 150\")"
   ]
  },
  {
   "cell_type": "code",
   "execution_count": 358,
   "metadata": {},
   "outputs": [],
   "source": [
    "data = [\n",
    "    [100, 900, 800, 700],\n",
    "    [1200, 1400, 900, 800]\n",
    "]\n",
    "columns = [\n",
    "    ['영업이익', '영업이익', '당기순이익', '당기순이익'],\n",
    "    ['컨센서스', '잠정치', '컨센서스', '잠정치']\n",
    "]\n",
    "\n",
    "df = pd.DataFrame(data, columns=columns)"
   ]
  },
  {
   "cell_type": "code",
   "execution_count": 359,
   "metadata": {},
   "outputs": [
    {
     "data": {
      "text/html": [
       "<div>\n",
       "<style scoped>\n",
       "    .dataframe tbody tr th:only-of-type {\n",
       "        vertical-align: middle;\n",
       "    }\n",
       "\n",
       "    .dataframe tbody tr th {\n",
       "        vertical-align: top;\n",
       "    }\n",
       "\n",
       "    .dataframe thead tr th {\n",
       "        text-align: left;\n",
       "    }\n",
       "</style>\n",
       "<table border=\"1\" class=\"dataframe\">\n",
       "  <thead>\n",
       "    <tr>\n",
       "      <th></th>\n",
       "      <th colspan=\"2\" halign=\"left\">영업이익</th>\n",
       "      <th colspan=\"2\" halign=\"left\">당기순이익</th>\n",
       "    </tr>\n",
       "    <tr>\n",
       "      <th></th>\n",
       "      <th>컨센서스</th>\n",
       "      <th>잠정치</th>\n",
       "      <th>컨센서스</th>\n",
       "      <th>잠정치</th>\n",
       "    </tr>\n",
       "  </thead>\n",
       "  <tbody>\n",
       "    <tr>\n",
       "      <th>0</th>\n",
       "      <td>100</td>\n",
       "      <td>900</td>\n",
       "      <td>800</td>\n",
       "      <td>700</td>\n",
       "    </tr>\n",
       "    <tr>\n",
       "      <th>1</th>\n",
       "      <td>1200</td>\n",
       "      <td>1400</td>\n",
       "      <td>900</td>\n",
       "      <td>800</td>\n",
       "    </tr>\n",
       "  </tbody>\n",
       "</table>\n",
       "</div>"
      ],
      "text/plain": [
       "   영업이익       당기순이익     \n",
       "   컨센서스   잠정치  컨센서스  잠정치\n",
       "0   100   900   800  700\n",
       "1  1200  1400   900  800"
      ]
     },
     "execution_count": 359,
     "metadata": {},
     "output_type": "execute_result"
    }
   ],
   "source": [
    "df"
   ]
  },
  {
   "cell_type": "code",
   "execution_count": 360,
   "metadata": {},
   "outputs": [],
   "source": [
    "# stack() 함수 - 컬럼에 있던 값이 인덱스로 내려옴\n",
    "# unstack() 함수 - 인덱스에 있던 값이 컬럼으로 올라감\n",
    "stack_df = df.stack()"
   ]
  },
  {
   "cell_type": "code",
   "execution_count": 361,
   "metadata": {},
   "outputs": [
    {
     "data": {
      "text/plain": [
       "0  잠정치   당기순이익     700\n",
       "         영업이익      900\n",
       "   컨센서스  당기순이익     800\n",
       "         영업이익      100\n",
       "1  잠정치   당기순이익     800\n",
       "         영업이익     1400\n",
       "   컨센서스  당기순이익     900\n",
       "         영업이익     1200\n",
       "dtype: int64"
      ]
     },
     "execution_count": 361,
     "metadata": {},
     "output_type": "execute_result"
    }
   ],
   "source": [
    "stack_df.stack() # 시리즈로 나옴"
   ]
  },
  {
   "cell_type": "code",
   "execution_count": 362,
   "metadata": {},
   "outputs": [
    {
     "data": {
      "text/html": [
       "<div>\n",
       "<style scoped>\n",
       "    .dataframe tbody tr th:only-of-type {\n",
       "        vertical-align: middle;\n",
       "    }\n",
       "\n",
       "    .dataframe tbody tr th {\n",
       "        vertical-align: top;\n",
       "    }\n",
       "\n",
       "    .dataframe thead tr th {\n",
       "        text-align: left;\n",
       "    }\n",
       "</style>\n",
       "<table border=\"1\" class=\"dataframe\">\n",
       "  <thead>\n",
       "    <tr>\n",
       "      <th></th>\n",
       "      <th colspan=\"2\" halign=\"left\">당기순이익</th>\n",
       "      <th colspan=\"2\" halign=\"left\">영업이익</th>\n",
       "    </tr>\n",
       "    <tr>\n",
       "      <th></th>\n",
       "      <th>잠정치</th>\n",
       "      <th>컨센서스</th>\n",
       "      <th>잠정치</th>\n",
       "      <th>컨센서스</th>\n",
       "    </tr>\n",
       "  </thead>\n",
       "  <tbody>\n",
       "    <tr>\n",
       "      <th>0</th>\n",
       "      <td>700</td>\n",
       "      <td>800</td>\n",
       "      <td>900</td>\n",
       "      <td>100</td>\n",
       "    </tr>\n",
       "    <tr>\n",
       "      <th>1</th>\n",
       "      <td>800</td>\n",
       "      <td>900</td>\n",
       "      <td>1400</td>\n",
       "      <td>1200</td>\n",
       "    </tr>\n",
       "  </tbody>\n",
       "</table>\n",
       "</div>"
      ],
      "text/plain": [
       "  당기순이익       영업이익      \n",
       "    잠정치 컨센서스   잠정치  컨센서스\n",
       "0   700  800   900   100\n",
       "1   800  900  1400  1200"
      ]
     },
     "execution_count": 362,
     "metadata": {},
     "output_type": "execute_result"
    }
   ],
   "source": [
    "stack_df.unstack()"
   ]
  },
  {
   "cell_type": "code",
   "execution_count": 363,
   "metadata": {},
   "outputs": [
    {
     "data": {
      "text/html": [
       "<div>\n",
       "<style scoped>\n",
       "    .dataframe tbody tr th:only-of-type {\n",
       "        vertical-align: middle;\n",
       "    }\n",
       "\n",
       "    .dataframe tbody tr th {\n",
       "        vertical-align: top;\n",
       "    }\n",
       "\n",
       "    .dataframe thead th {\n",
       "        text-align: right;\n",
       "    }\n",
       "</style>\n",
       "<table border=\"1\" class=\"dataframe\">\n",
       "  <thead>\n",
       "    <tr style=\"text-align: right;\">\n",
       "      <th></th>\n",
       "      <th></th>\n",
       "      <th>잠정치</th>\n",
       "      <th>컨센서스</th>\n",
       "    </tr>\n",
       "  </thead>\n",
       "  <tbody>\n",
       "    <tr>\n",
       "      <th rowspan=\"2\" valign=\"top\">0</th>\n",
       "      <th>당기순이익</th>\n",
       "      <td>700</td>\n",
       "      <td>800</td>\n",
       "    </tr>\n",
       "    <tr>\n",
       "      <th>영업이익</th>\n",
       "      <td>900</td>\n",
       "      <td>100</td>\n",
       "    </tr>\n",
       "    <tr>\n",
       "      <th rowspan=\"2\" valign=\"top\">1</th>\n",
       "      <th>당기순이익</th>\n",
       "      <td>800</td>\n",
       "      <td>900</td>\n",
       "    </tr>\n",
       "    <tr>\n",
       "      <th>영업이익</th>\n",
       "      <td>1400</td>\n",
       "      <td>1200</td>\n",
       "    </tr>\n",
       "  </tbody>\n",
       "</table>\n",
       "</div>"
      ],
      "text/plain": [
       "          잠정치  컨센서스\n",
       "0 당기순이익   700   800\n",
       "  영업이익    900   100\n",
       "1 당기순이익   800   900\n",
       "  영업이익   1400  1200"
      ]
     },
     "execution_count": 363,
     "metadata": {},
     "output_type": "execute_result"
    }
   ],
   "source": [
    "df.stack(level=0) # 컬럼에서 밑에값이 인덱스로 내려오기때문에 level = 0 지정해주면 위에 있는값이 인덱스로 내려옴"
   ]
  },
  {
   "attachments": {},
   "cell_type": "markdown",
   "metadata": {},
   "source": [
    "## 할로윈 투자 전략\n",
    "1. 11월 1일에 구매 -> 6개월간 유지 4월 말일에 판매\n",
    "2. 11월 첫날의 시가로 구매\n",
    "3. 4월 마지막 날의 종가로 판매\n",
    "4. 수익률 = (3번과정 - 2번과정) / 2번과정\n",
    "5. AMZN 데이터로 2000년부터 2019년까지 데이터로 백테스팅"
   ]
  },
  {
   "cell_type": "code",
   "execution_count": 364,
   "metadata": {},
   "outputs": [],
   "source": [
    "df = pd.read_csv(\"../csv/AMZN.csv\")"
   ]
  },
  {
   "cell_type": "code",
   "execution_count": 365,
   "metadata": {},
   "outputs": [
    {
     "data": {
      "text/html": [
       "<div>\n",
       "<style scoped>\n",
       "    .dataframe tbody tr th:only-of-type {\n",
       "        vertical-align: middle;\n",
       "    }\n",
       "\n",
       "    .dataframe tbody tr th {\n",
       "        vertical-align: top;\n",
       "    }\n",
       "\n",
       "    .dataframe thead th {\n",
       "        text-align: right;\n",
       "    }\n",
       "</style>\n",
       "<table border=\"1\" class=\"dataframe\">\n",
       "  <thead>\n",
       "    <tr style=\"text-align: right;\">\n",
       "      <th></th>\n",
       "      <th>Date</th>\n",
       "      <th>Open</th>\n",
       "      <th>High</th>\n",
       "      <th>Low</th>\n",
       "      <th>Close</th>\n",
       "      <th>Adj Close</th>\n",
       "      <th>Volume</th>\n",
       "    </tr>\n",
       "  </thead>\n",
       "  <tbody>\n",
       "    <tr>\n",
       "      <th>0</th>\n",
       "      <td>1997-05-15</td>\n",
       "      <td>2.437500</td>\n",
       "      <td>2.500000</td>\n",
       "      <td>1.927083</td>\n",
       "      <td>1.958333</td>\n",
       "      <td>1.958333</td>\n",
       "      <td>72156000</td>\n",
       "    </tr>\n",
       "    <tr>\n",
       "      <th>1</th>\n",
       "      <td>1997-05-16</td>\n",
       "      <td>1.968750</td>\n",
       "      <td>1.979167</td>\n",
       "      <td>1.708333</td>\n",
       "      <td>1.729167</td>\n",
       "      <td>1.729167</td>\n",
       "      <td>14700000</td>\n",
       "    </tr>\n",
       "    <tr>\n",
       "      <th>2</th>\n",
       "      <td>1997-05-19</td>\n",
       "      <td>1.760417</td>\n",
       "      <td>1.770833</td>\n",
       "      <td>1.625000</td>\n",
       "      <td>1.708333</td>\n",
       "      <td>1.708333</td>\n",
       "      <td>6106800</td>\n",
       "    </tr>\n",
       "    <tr>\n",
       "      <th>3</th>\n",
       "      <td>1997-05-20</td>\n",
       "      <td>1.729167</td>\n",
       "      <td>1.750000</td>\n",
       "      <td>1.635417</td>\n",
       "      <td>1.635417</td>\n",
       "      <td>1.635417</td>\n",
       "      <td>5467200</td>\n",
       "    </tr>\n",
       "    <tr>\n",
       "      <th>4</th>\n",
       "      <td>1997-05-21</td>\n",
       "      <td>1.635417</td>\n",
       "      <td>1.645833</td>\n",
       "      <td>1.375000</td>\n",
       "      <td>1.427083</td>\n",
       "      <td>1.427083</td>\n",
       "      <td>18853200</td>\n",
       "    </tr>\n",
       "    <tr>\n",
       "      <th>...</th>\n",
       "      <td>...</td>\n",
       "      <td>...</td>\n",
       "      <td>...</td>\n",
       "      <td>...</td>\n",
       "      <td>...</td>\n",
       "      <td>...</td>\n",
       "      <td>...</td>\n",
       "    </tr>\n",
       "    <tr>\n",
       "      <th>5558</th>\n",
       "      <td>2019-06-18</td>\n",
       "      <td>1901.349976</td>\n",
       "      <td>1921.670044</td>\n",
       "      <td>1899.790039</td>\n",
       "      <td>1901.369995</td>\n",
       "      <td>1901.369995</td>\n",
       "      <td>3895700</td>\n",
       "    </tr>\n",
       "    <tr>\n",
       "      <th>5559</th>\n",
       "      <td>2019-06-19</td>\n",
       "      <td>1907.839966</td>\n",
       "      <td>1919.579956</td>\n",
       "      <td>1892.469971</td>\n",
       "      <td>1908.790039</td>\n",
       "      <td>1908.790039</td>\n",
       "      <td>2895300</td>\n",
       "    </tr>\n",
       "    <tr>\n",
       "      <th>5560</th>\n",
       "      <td>2019-06-20</td>\n",
       "      <td>1933.329956</td>\n",
       "      <td>1935.199951</td>\n",
       "      <td>1905.800049</td>\n",
       "      <td>1918.189941</td>\n",
       "      <td>1918.189941</td>\n",
       "      <td>3217200</td>\n",
       "    </tr>\n",
       "    <tr>\n",
       "      <th>5561</th>\n",
       "      <td>2019-06-21</td>\n",
       "      <td>1916.099976</td>\n",
       "      <td>1925.949951</td>\n",
       "      <td>1907.579956</td>\n",
       "      <td>1911.300049</td>\n",
       "      <td>1911.300049</td>\n",
       "      <td>3920300</td>\n",
       "    </tr>\n",
       "    <tr>\n",
       "      <th>5562</th>\n",
       "      <td>2019-06-24</td>\n",
       "      <td>1912.660034</td>\n",
       "      <td>1916.859985</td>\n",
       "      <td>1901.329956</td>\n",
       "      <td>1907.953857</td>\n",
       "      <td>1907.953857</td>\n",
       "      <td>1243601</td>\n",
       "    </tr>\n",
       "  </tbody>\n",
       "</table>\n",
       "<p>5563 rows × 7 columns</p>\n",
       "</div>"
      ],
      "text/plain": [
       "            Date         Open         High          Low        Close   \n",
       "0     1997-05-15     2.437500     2.500000     1.927083     1.958333  \\\n",
       "1     1997-05-16     1.968750     1.979167     1.708333     1.729167   \n",
       "2     1997-05-19     1.760417     1.770833     1.625000     1.708333   \n",
       "3     1997-05-20     1.729167     1.750000     1.635417     1.635417   \n",
       "4     1997-05-21     1.635417     1.645833     1.375000     1.427083   \n",
       "...          ...          ...          ...          ...          ...   \n",
       "5558  2019-06-18  1901.349976  1921.670044  1899.790039  1901.369995   \n",
       "5559  2019-06-19  1907.839966  1919.579956  1892.469971  1908.790039   \n",
       "5560  2019-06-20  1933.329956  1935.199951  1905.800049  1918.189941   \n",
       "5561  2019-06-21  1916.099976  1925.949951  1907.579956  1911.300049   \n",
       "5562  2019-06-24  1912.660034  1916.859985  1901.329956  1907.953857   \n",
       "\n",
       "        Adj Close    Volume  \n",
       "0        1.958333  72156000  \n",
       "1        1.729167  14700000  \n",
       "2        1.708333   6106800  \n",
       "3        1.635417   5467200  \n",
       "4        1.427083  18853200  \n",
       "...           ...       ...  \n",
       "5558  1901.369995   3895700  \n",
       "5559  1908.790039   2895300  \n",
       "5560  1918.189941   3217200  \n",
       "5561  1911.300049   3920300  \n",
       "5562  1907.953857   1243601  \n",
       "\n",
       "[5563 rows x 7 columns]"
      ]
     },
     "execution_count": 365,
     "metadata": {},
     "output_type": "execute_result"
    }
   ],
   "source": [
    "df"
   ]
  },
  {
   "cell_type": "code",
   "execution_count": 366,
   "metadata": {},
   "outputs": [],
   "source": [
    "df['Date'] = pd.to_datetime(df['Date'], format='%Y-%m-%d')"
   ]
  },
  {
   "cell_type": "code",
   "execution_count": 367,
   "metadata": {},
   "outputs": [],
   "source": [
    "# Date 컬럼을 인덱스로 변환\n",
    "df.set_index('Date', inplace = True)"
   ]
  },
  {
   "cell_type": "code",
   "execution_count": 368,
   "metadata": {},
   "outputs": [
    {
     "data": {
      "text/plain": [
       "35.8125"
      ]
     },
     "execution_count": 368,
     "metadata": {},
     "output_type": "execute_result"
    }
   ],
   "source": [
    "df.loc['2000-11'].iloc[0]['Open']"
   ]
  },
  {
   "cell_type": "code",
   "execution_count": 369,
   "metadata": {},
   "outputs": [
    {
     "data": {
      "text/plain": [
       "15.78"
      ]
     },
     "execution_count": 369,
     "metadata": {},
     "output_type": "execute_result"
    }
   ],
   "source": [
    "df.loc['2001-04'].iloc[-1]['Close']"
   ]
  },
  {
   "cell_type": "code",
   "execution_count": 370,
   "metadata": {},
   "outputs": [
    {
     "name": "stdout",
     "output_type": "stream",
     "text": [
      "2000-11 2001-04\n",
      "2001-11 2002-04\n",
      "2002-11 2003-04\n",
      "2003-11 2004-04\n",
      "2004-11 2005-04\n",
      "2005-11 2006-04\n",
      "2006-11 2007-04\n",
      "2007-11 2008-04\n",
      "2008-11 2009-04\n",
      "2009-11 2010-04\n",
      "2010-11 2011-04\n",
      "2011-11 2012-04\n",
      "2012-11 2013-04\n",
      "2013-11 2014-04\n",
      "2014-11 2015-04\n",
      "2015-11 2016-04\n",
      "2016-11 2017-04\n",
      "2017-11 2018-04\n",
      "2018-11 2019-04\n"
     ]
    }
   ],
   "source": [
    "for i in range(2000, 2019, 1):\n",
    "    buy_mon = str(i) + \"-11\"\n",
    "    sell_mon = str(i + 1) + \"-04\"\n",
    "    print(buy_mon, sell_mon)"
   ]
  },
  {
   "cell_type": "code",
   "execution_count": 371,
   "metadata": {},
   "outputs": [],
   "source": [
    "acc_rtn = 1 # 누적수익률\n",
    "for i in range(2000, 2019, 1):\n",
    "    buy_mon = str(i) + \"-11\"\n",
    "    sell_mon = str(i + 1) + \"-04\"\n",
    "\n",
    "    # 구입가 저장\n",
    "    buy = df.loc[buy_mon].iloc[0]['Open']\n",
    "    sell = df.loc[sell_mon].iloc[-1]['Close']\n",
    "\n",
    "    # 수익률\n",
    "    rtn = (sell - buy) / buy + 1\n",
    "\n",
    "    # 누적 수익률\n",
    "    acc_rtn *= rtn\n"
   ]
  },
  {
   "cell_type": "code",
   "execution_count": 372,
   "metadata": {},
   "outputs": [
    {
     "data": {
      "text/plain": [
       "8.244683980501206"
      ]
     },
     "execution_count": 372,
     "metadata": {},
     "output_type": "execute_result"
    }
   ],
   "source": [
    "acc_rtn"
   ]
  },
  {
   "cell_type": "code",
   "execution_count": 373,
   "metadata": {},
   "outputs": [
    {
     "data": {
      "text/plain": [
       "53.794625340314134"
      ]
     },
     "execution_count": 373,
     "metadata": {},
     "output_type": "execute_result"
    }
   ],
   "source": [
    "# buyandhold 인 경우\n",
    "buy = df.loc[\"2000-11\"].iloc[0]['Open']\n",
    "sell = df.loc[\"2019-04\"].iloc[-1]['Close']\n",
    "\n",
    "rtn = (sell - buy)/buy + 1\n",
    "\n",
    "rtn"
   ]
  },
  {
   "cell_type": "code",
   "execution_count": 374,
   "metadata": {},
   "outputs": [
    {
     "name": "stdout",
     "output_type": "stream",
     "text": [
      "11.124213625243007\n"
     ]
    }
   ],
   "source": [
    "# CAGR(연복리수익률)\n",
    "# (수익률**(1/투자기간)) -1\n",
    "\n",
    "# 할로윈 CAGR\n",
    "CAGR = (acc_rtn ** (1/20)) -1\n",
    "print(CAGR * 100)"
   ]
  },
  {
   "cell_type": "code",
   "execution_count": 375,
   "metadata": {},
   "outputs": [
    {
     "name": "stdout",
     "output_type": "stream",
     "text": [
      "22.04976410456394\n"
     ]
    }
   ],
   "source": [
    "# buyandhold CAGR\n",
    "CAGR = (rtn ** (1/20)) -1\n",
    "print(CAGR * 100)"
   ]
  },
  {
   "cell_type": "code",
   "execution_count": 376,
   "metadata": {},
   "outputs": [],
   "source": [
    "from datetime import datetime\n",
    "from dateutil.relativedelta import relativedelta"
   ]
  },
  {
   "cell_type": "code",
   "execution_count": 377,
   "metadata": {},
   "outputs": [
    {
     "data": {
      "text/plain": [
       "datetime.datetime(2000, 11, 1, 0, 0)"
      ]
     },
     "execution_count": 377,
     "metadata": {},
     "output_type": "execute_result"
    }
   ],
   "source": [
    "start =  datetime(year=2000, month=11, day=1)\n",
    "start"
   ]
  },
  {
   "cell_type": "code",
   "execution_count": 378,
   "metadata": {},
   "outputs": [
    {
     "data": {
      "text/plain": [
       "datetime.datetime(2001, 4, 1, 0, 0)"
      ]
     },
     "execution_count": 378,
     "metadata": {},
     "output_type": "execute_result"
    }
   ],
   "source": [
    "end = start + relativedelta(months=5)\n",
    "end"
   ]
  },
  {
   "cell_type": "code",
   "execution_count": 379,
   "metadata": {},
   "outputs": [
    {
     "name": "stdout",
     "output_type": "stream",
     "text": [
      "2000-11 2001-04\n"
     ]
    }
   ],
   "source": [
    "print(start.strftime('%Y-%m'), end.strftime('%Y-%m'))"
   ]
  },
  {
   "cell_type": "code",
   "execution_count": 380,
   "metadata": {},
   "outputs": [],
   "source": [
    "def six_month(df, start = 2000, end = 2019, month = 11):\n",
    "    if 'Date' in df.columns:\n",
    "        df['Date'] = pd.to_datetime(df['Date'], format = '%Y-%m-%d')\n",
    "        df.set_index('Date', inplace = True)\n",
    "\n",
    "    # 누적수익률 변수를 생성\n",
    "    acc_rtn = 1\n",
    "\n",
    "    for i in range(start, end):\n",
    "        start_ = datetime(year=i, month=month, day=1)\n",
    "        end_ = start_ + relativedelta(months = 5)\n",
    "\n",
    "        buy_mon = start_.strftime(\"%Y-%m\")\n",
    "        sell_mon = end_.strftime(\"%Y-%m\")\n",
    "\n",
    "        buy = df.loc[buy_mon].iloc[0]['Open']\n",
    "        sell = df.loc[sell_mon].iloc[-1]['Close']\n",
    "\n",
    "        rtn = (sell - buy) / buy + 1\n",
    "\n",
    "        acc_rtn *=  rtn\n",
    "    return acc_rtn"
   ]
  },
  {
   "cell_type": "code",
   "execution_count": 381,
   "metadata": {},
   "outputs": [
    {
     "data": {
      "text/plain": [
       "8.244683980501206"
      ]
     },
     "execution_count": 381,
     "metadata": {},
     "output_type": "execute_result"
    }
   ],
   "source": [
    "# 확인\n",
    "data = pd.read_csv('../csv/AMZN.csv')\n",
    "six_month(data)"
   ]
  },
  {
   "cell_type": "code",
   "execution_count": 382,
   "metadata": {},
   "outputs": [
    {
     "name": "stdout",
     "output_type": "stream",
     "text": [
      "1월 : 4.470910943811504\n",
      "2월 : 4.408415564523263\n",
      "3월 : 18.50624959809526\n",
      "4월 : 13.582616833702685\n",
      "5월 : 4.304179383672146\n",
      "6월 : 5.111566986774566\n",
      "7월 : 3.589575312504607\n",
      "8월 : 6.418767529470167\n",
      "9월 : 1.3058661611037958\n",
      "10월 : 1.9960729229032756\n",
      "11월 : 8.244683980501206\n",
      "12월 : 6.23900557812782\n"
     ]
    }
   ],
   "source": [
    "for i in range(1, 13, 1):\n",
    "    print(f\"{i}월 :\", six_month(data, month = i))"
   ]
  },
  {
   "cell_type": "code",
   "execution_count": 39,
   "metadata": {},
   "outputs": [
    {
     "data": {
      "text/plain": [
       "<module 'Halloween' from '/Users/noseohyeong/Desktop/유비온/파이썬 실습/20230424/Halloween/__init__.py'>"
      ]
     },
     "execution_count": 39,
     "metadata": {},
     "output_type": "execute_result"
    }
   ],
   "source": [
    "import Halloween as hw\n",
    "import imp\n",
    "imp.reload(hw)"
   ]
  },
  {
   "cell_type": "code",
   "execution_count": 40,
   "metadata": {},
   "outputs": [],
   "source": [
    "df = pd.read_csv(\"../csv/AMZN.csv\")"
   ]
  },
  {
   "cell_type": "code",
   "execution_count": 41,
   "metadata": {},
   "outputs": [],
   "source": [
    "test = hw.halloween(df, 2000, 2019)"
   ]
  },
  {
   "cell_type": "code",
   "execution_count": 42,
   "metadata": {},
   "outputs": [
    {
     "data": {
      "text/plain": [
       "8.244683980501206"
      ]
     },
     "execution_count": 42,
     "metadata": {},
     "output_type": "execute_result"
    }
   ],
   "source": [
    "test.accrtn()"
   ]
  },
  {
   "cell_type": "code",
   "execution_count": 43,
   "metadata": {},
   "outputs": [
    {
     "data": {
      "text/plain": [
       "11.742834843522832"
      ]
     },
     "execution_count": 43,
     "metadata": {},
     "output_type": "execute_result"
    }
   ],
   "source": [
    "test.cagr()"
   ]
  },
  {
   "cell_type": "code",
   "execution_count": null,
   "metadata": {},
   "outputs": [],
   "source": [
    "모듈(안에 클래스) 라이브러리 프레임워크 차이"
   ]
  },
  {
   "cell_type": "code",
   "execution_count": null,
   "metadata": {},
   "outputs": [],
   "source": [
    "source ~/venv/bin/activate "
   ]
  }
 ],
 "metadata": {
  "kernelspec": {
   "display_name": "Python 3",
   "language": "python",
   "name": "python3"
  },
  "language_info": {
   "codemirror_mode": {
    "name": "ipython",
    "version": 3
   },
   "file_extension": ".py",
   "mimetype": "text/x-python",
   "name": "python",
   "nbconvert_exporter": "python",
   "pygments_lexer": "ipython3",
   "version": "3.9.6"
  },
  "orig_nbformat": 4
 },
 "nbformat": 4,
 "nbformat_minor": 2
}
