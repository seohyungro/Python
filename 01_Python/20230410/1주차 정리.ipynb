{
 "cells": [
  {
   "attachments": {},
   "cell_type": "markdown",
   "metadata": {},
   "source": [
    "# 변수\n",
    "1. 메모리에 데이터를 저장하는 공간의 이름\n",
    "2. 데이터들의 종류\n",
    "    - string\n",
    "    - int\n",
    "    - float\n",
    "    - bool\n",
    "    - tuple\n",
    "    - list\n",
    "    - dict\n",
    "3. python의 특징 -> 변수를 생성할 때 데이터 타입을 미리 지정하지 않아도 된다\n",
    "    - python에서 자동으로 데이터의 타입을 지정"
   ]
  },
  {
   "cell_type": "code",
   "execution_count": 46,
   "metadata": {},
   "outputs": [
    {
     "name": "stdout",
     "output_type": "stream",
     "text": [
      "<class 'str'>\n",
      "<class 'int'>\n"
     ]
    }
   ],
   "source": [
    "# 3번 예시\n",
    "a = \"test\"\n",
    "b = 10\n",
    "print(type(a))\n",
    "print(type(b))"
   ]
  },
  {
   "cell_type": "code",
   "execution_count": 47,
   "metadata": {},
   "outputs": [
    {
     "name": "stdout",
     "output_type": "stream",
     "text": [
      "test\n",
      "1234\n"
     ]
    }
   ],
   "source": [
    "c = \"test\"\n",
    "print(c)\n",
    "c = 1234\n",
    "print(c)\n",
    "# 한번 바꾸면 그 전에 있던 데이터 찾을 수 없다"
   ]
  },
  {
   "attachments": {},
   "cell_type": "markdown",
   "metadata": {},
   "source": [
    "# 연산자\n",
    "1. 일반적인 사칙연산\n",
    "    - +(덧셈), -(뺄셈), *(곱셈), /(나눗셈), //(몫), %(나머지), **(제곱)\n",
    "2. 대입 연산자\n",
    "    - +=, -=, *=, /=, %=, **=\n",
    "    - ex) a += 1 --> a = a + 1\n",
    "3. 비교 연산자\n",
    "    - 두 개의 값을 비교하여 참/거짓의 형태로 출력\n",
    "    - 주로 사용되는 곳은 조건문, 반복문에서 사용\n",
    "    - ==(두 값이 같다), !=(두 값이 다르다), >(값이 더 큰 경우), >=, <, <=\n",
    "    - 비교를 해야되는 조건이 2개 이상인 경우\n",
    "        - 두 조건이 모두 참이여야함 : and(&)\n",
    "        - 두 조건 중 하나만 참이여도 됨 : or(|)\n",
    "    - not : 부정의 표현으로 참을 거짓으로 거짓을 참으로 출력(!, ~)"
   ]
  },
  {
   "cell_type": "code",
   "execution_count": 48,
   "metadata": {},
   "outputs": [
    {
     "name": "stdout",
     "output_type": "stream",
     "text": [
      "False\n",
      "True\n",
      "True\n",
      "False\n"
     ]
    }
   ],
   "source": [
    "x = 10\n",
    "y = 7\n",
    "print(x == y)\n",
    "print(x != y)\n",
    "print(x > y)\n",
    "print(x < y)"
   ]
  },
  {
   "cell_type": "code",
   "execution_count": 49,
   "metadata": {},
   "outputs": [
    {
     "name": "stdout",
     "output_type": "stream",
     "text": [
      "True\n",
      "False\n",
      "True\n",
      "False\n"
     ]
    }
   ],
   "source": [
    "print(True and True)\n",
    "print(True and False)\n",
    "print(True or False)\n",
    "print(not(True))"
   ]
  },
  {
   "attachments": {},
   "cell_type": "markdown",
   "metadata": {},
   "source": [
    "# 조건문\n",
    "1. 특정한 조건에 맞춰서 컴퓨터에게 지시를 내리기 위한 방법\n",
    "2. 조건식이 참인 경우 실행 할 코드를 작성\n",
    "3. 조건식이 거짓인 경우 실행 할 코드를 작성\n",
    "4. python 특징 : 일반적인 프로그래밍 언어에서는 ()이용하여 실행 할 코드를 작성하는데 python에서는 들여쓰기를 이용하여 실행 할 코드를 작성"
   ]
  },
  {
   "cell_type": "code",
   "execution_count": 50,
   "metadata": {},
   "outputs": [
    {
     "name": "stdout",
     "output_type": "stream",
     "text": [
      "x는 20보다 작거나 같다\n"
     ]
    }
   ],
   "source": [
    "x = 10\n",
    "\n",
    "if x > 20:\n",
    "    print(\"x는 20보다 크다\")\n",
    "else:\n",
    "    print(\"x는 20보다 작거나 같다\")"
   ]
  },
  {
   "attachments": {},
   "cell_type": "markdown",
   "metadata": {},
   "source": [
    "# 반복문\n",
    "1. for문\n",
    "    - for 변수명 in range(시작값, 종료값, 증가값)\n",
    "    - for 변수명 in (list형태의 데이터)\n",
    "    - 리스트의 길이만큼 반복\n",
    "    - 리스트의 항목 하나 하나씩 변수에 담아서 아래의 코드를 실행\n",
    "2. while문\n",
    "    - 초기 값을 미리 지정\n",
    "    - while 조건식을 지정하여 조건식이 거짓이 될때까지 반복 실행\n",
    "3. 반복문은 무한반복이 되지 않도록 조건을 맞춰서 사용하여야 한다"
   ]
  },
  {
   "cell_type": "code",
   "execution_count": 51,
   "metadata": {},
   "outputs": [
    {
     "name": "stdout",
     "output_type": "stream",
     "text": [
      "1\n",
      "2\n",
      "3\n",
      "4\n",
      "5\n",
      "6\n",
      "7\n",
      "8\n",
      "9\n"
     ]
    }
   ],
   "source": [
    "for i in range(1, 10, 1):\n",
    "    print(i)"
   ]
  },
  {
   "cell_type": "code",
   "execution_count": 52,
   "metadata": {},
   "outputs": [
    {
     "name": "stdout",
     "output_type": "stream",
     "text": [
      "a\n",
      "b\n",
      "c\n",
      "d\n"
     ]
    }
   ],
   "source": [
    "_list = ['a', 'b', 'c', 'd']\n",
    "for i in _list:\n",
    "    print(i)"
   ]
  },
  {
   "cell_type": "code",
   "execution_count": 53,
   "metadata": {},
   "outputs": [
    {
     "name": "stdout",
     "output_type": "stream",
     "text": [
      "0\n",
      "1\n",
      "2\n",
      "3\n",
      "4\n",
      "5\n",
      "6\n",
      "7\n",
      "8\n",
      "9\n"
     ]
    }
   ],
   "source": [
    "# while문\n",
    "i = 0 # 초기값 지정\n",
    "while i < 10:\n",
    "    print(i)\n",
    "    i += 1"
   ]
  },
  {
   "attachments": {},
   "cell_type": "markdown",
   "metadata": {},
   "source": [
    "1. tuple\n",
    "    - 여러 형태의 데이터를 담아두는 데이터 형태\n",
    "    - 가장 기본적인 형태\n",
    "    -  각 항목을 추가, 수정, 삭제가 불가능\n",
    "    - ()로 묶어서 표시\n",
    "2. list\n",
    "    - tuple과 매우 흡사\n",
    "    - 항목들을 추가, 수정, 삭제가 가능(list에 있는 내장함수를 이용해서)\n",
    "    - []로 묶어서 표시\n",
    "3. dict\n",
    "    - 사전형 데이터를 의미\n",
    "    - key : value의 쌍으로 이루어지는 데이터의 형태\n",
    "    - list와는 달리 위치의 상관없이 원하는 데이터를 key값을 이용하여 출력이 가능"
   ]
  },
  {
   "cell_type": "code",
   "execution_count": 54,
   "metadata": {},
   "outputs": [
    {
     "name": "stdout",
     "output_type": "stream",
     "text": [
      "<class 'tuple'>\n",
      "(1, 2, 3)\n"
     ]
    }
   ],
   "source": [
    "# 튜플\n",
    "a = (1, 2)\n",
    "print(type(a))\n",
    "a = (1,2,3) # 이거는 수정이 아니라 그냥 다시 넣은거다\n",
    "print(a)\n"
   ]
  },
  {
   "cell_type": "code",
   "execution_count": 55,
   "metadata": {},
   "outputs": [
    {
     "name": "stdout",
     "output_type": "stream",
     "text": [
      "[1, 2, 3]\n"
     ]
    }
   ],
   "source": [
    "list_a = [1,2,3]\n",
    "print(list_a)"
   ]
  },
  {
   "cell_type": "code",
   "execution_count": 56,
   "metadata": {},
   "outputs": [
    {
     "name": "stdout",
     "output_type": "stream",
     "text": [
      "[1, 2, 3, 4]\n"
     ]
    }
   ],
   "source": [
    "list_a.append(4) # append 함수는 추가하는거\n",
    "print(list_a)"
   ]
  },
  {
   "cell_type": "code",
   "execution_count": 57,
   "metadata": {},
   "outputs": [
    {
     "name": "stdout",
     "output_type": "stream",
     "text": [
      "True\n"
     ]
    }
   ],
   "source": [
    "# list의 항목들 중에 3이라는 숫자가 존재하는가? 확인하는법\n",
    "if 3 in list_a :\n",
    "    print('True')\n",
    "else:\n",
    "    print('False')"
   ]
  },
  {
   "cell_type": "code",
   "execution_count": 58,
   "metadata": {},
   "outputs": [
    {
     "data": {
      "text/plain": [
       "True"
      ]
     },
     "execution_count": 58,
     "metadata": {},
     "output_type": "execute_result"
    }
   ],
   "source": [
    "3 in list_a"
   ]
  },
  {
   "cell_type": "code",
   "execution_count": 59,
   "metadata": {},
   "outputs": [
    {
     "name": "stdout",
     "output_type": "stream",
     "text": [
      "True\n"
     ]
    }
   ],
   "source": [
    "result = False\n",
    "\n",
    "for i in list_a:\n",
    "    if i == 3:\n",
    "        result = True\n",
    "print(result)"
   ]
  },
  {
   "cell_type": "code",
   "execution_count": 60,
   "metadata": {},
   "outputs": [
    {
     "data": {
      "text/plain": [
       "2"
      ]
     },
     "execution_count": 60,
     "metadata": {},
     "output_type": "execute_result"
    }
   ],
   "source": [
    "list_a.index(3) # 3이 있는 것의 위치를 찾아라\n",
    "# count로도 해보기"
   ]
  },
  {
   "attachments": {},
   "cell_type": "markdown",
   "metadata": {},
   "source": [
    "# 함수\n",
    "1. 고정된 데이터를 저장하는게 변수라면 함수는 행동을 저장한다\n",
    "2. def 키워드를 이용하여 함수 생성\n",
    "3. 함수를 호출하는 경우에는 함수명(인자)\n",
    "4. 일반적인 경우에는 함수의 매개변수의 개수와 인자의 개수가 같아야한다"
   ]
  },
  {
   "cell_type": "code",
   "execution_count": 61,
   "metadata": {},
   "outputs": [
    {
     "name": "stdout",
     "output_type": "stream",
     "text": [
      "9\n",
      "25\n"
     ]
    }
   ],
   "source": [
    "def func_1(x):\n",
    "    result = x**2\n",
    "    return result\n",
    "print(func_1(3))\n",
    "print(func_1(5))"
   ]
  },
  {
   "attachments": {},
   "cell_type": "markdown",
   "metadata": {},
   "source": [
    "### 연습 문제\n",
    "1. 비어있는 리스트를 하나 생성\n",
    "2. 함수 생성\n",
    "    - 매개변수 1개\n",
    "    - 받아온 인자값을 비어있는 리스트에 추가\n",
    "    - 조건 : 리스트안에 인자값이 존재하면 추가하지 않는다, 존재하지않으면 추가\n",
    "3. input()함수를 이용하여 2번 과정에 만든 함수를 호출 인자값으로 input에서 받아온 데이터를 사용"
   ]
  },
  {
   "cell_type": "code",
   "execution_count": 62,
   "metadata": {},
   "outputs": [],
   "source": [
    "# 비어있는 리스트 생성\n",
    "list_A = []\n",
    "\n",
    "# 함수 생성\n",
    "def func_2(x):\n",
    "    if x not in list_A:\n",
    "        list_A.append(x)\n",
    "    else:\n",
    "        print(\"리스트에 값이 존재한다\")\n",
    "    return \"함수 종료\""
   ]
  },
  {
   "cell_type": "code",
   "execution_count": 63,
   "metadata": {},
   "outputs": [
    {
     "data": {
      "text/plain": [
       "'함수 종료'"
      ]
     },
     "execution_count": 63,
     "metadata": {},
     "output_type": "execute_result"
    }
   ],
   "source": [
    "a = input()\n",
    "\n",
    "func_2(a) # 여기에 넣어보기 숫자"
   ]
  },
  {
   "cell_type": "code",
   "execution_count": 64,
   "metadata": {},
   "outputs": [
    {
     "name": "stdout",
     "output_type": "stream",
     "text": [
      "['1,2']\n"
     ]
    }
   ],
   "source": [
    "print(list_A)"
   ]
  },
  {
   "attachments": {},
   "cell_type": "markdown",
   "metadata": {},
   "source": [
    "# 외부 라이브러리\n",
    "1. 함수, 클래스들의 집합체\n",
    "2. 라이브러리 설치\n",
    "    - !pip3 install 라이브러리명\n",
    "3. 라이브러리 로드\n",
    "    - import 라이브러리명 as 별칭\n",
    "    - import 라이브러리명, 기능명(함수 or 클래스) as 별칭\n",
    "    - from 라이브러리명 import (라이브러리 내부의 기능)"
   ]
  },
  {
   "attachments": {},
   "cell_type": "markdown",
   "metadata": {},
   "source": [
    "# pandas\n",
    "1. 외부의 파일을 가지고 오는 함수?\n",
    "    - read_csv, read_json, read_excel\n",
    "    - read_csv(파일의 경로, encoding=\"인코더 종류(utf-8, euc-kr, CP949)\"-한국어일때)\n",
    "2. 데이터프레임에서 컬럼의 이름을 변경하는 방법?\n",
    "    - 데이터프레임명.columns = [변경할 컬럼들의 리스트 항목]\n",
    "3. 데이터프레임에서 특정 컬럼을 추출하는 방법?\n",
    "    - 단일 컬럼을 추출 : 데이터프레임명[컬럼명] -> 데이터의 형태는? -> 스리즈\n",
    "    - 여러 개의 컬럼을 추출 : 데이터프레임명[['컬럼1', '컬럼2']] -> 데이터의 형태는? -> 데이터프레임\n",
    "4. 스리즈 형태의 데이터를 리스트형태로 변환?\n",
    "    - 스리즈명.tolist()\n",
    "5. 컬럼의 값을 기준으로 정렬을 변경하는 함수?\n",
    "    - sort_values(기준이 되는 컬럼)\n",
    "    - ascending : 오름차순(기본값), 내림차순 지정\n",
    "    - inplace : 기준이 되는 데이터프레임을 변경 할지 지정(기본값 : False) - 저장\n",
    "6. 인덱스를 재지정하는 함수?\n",
    "    - reset_index()\n",
    "    - drop : 기존의 인덱스를 삭제할지 지정(기본값 : False)\n",
    "    - inplace가 존재\n",
    "7. 결측치를 유뮤 판단\n",
    "    - isna() : 결측치인가를 판단하여 참/거짓을 형태로 출력\n",
    "    - isna().sum() : 컬럼별 결측치의 개수를 확인\n",
    "    - 결측치에 값을 치환 : fillna(n) -> n의 값으로 결측치를 치환\n",
    "8. 그룹화 함수\n",
    "    - groupby(그룹화할 컬럼명)\n",
    "    - sum() : 그룹화 한 데이터들의 합계\n",
    "    - mean() : 그룹화 한 데이터들의 평균\n",
    "    - min(), max() : 그룹화 한 데이터들의 최솟값, 최댓값\n",
    "    - count() : 데이터의 개수\n",
    "    - agg() : 데이터들의 연산을 한줄로 처리하기 위한 함수\n",
    "9. 데이터프레임에 통계 요약 정보를 출력하는 함수?\n",
    "    - describe()\n",
    "10. 데이터 간의 차이를 구하는 함수\n",
    "    - diff(n) : 현재의 행의 데이터와 n만큼 이동한 데이터간의 차이를 출력\n",
    "11. 행을 이동하는 함수?\n",
    "    - shift(n) : 행을 n만큼 이동한 데이터의 값을 출력\n",
    "12. 데이터프레임간의 결합 함수\n",
    "    - concat() : 단순하게 행이나 열을 결합하는 함수\n",
    "         - axis : concat에서 행을 결합할지 열을 결합할지 지정\n",
    "    - merge()\n",
    "         - 특정한 조건에 맞춰서 열을 추가해주는 함수\n",
    "         - SQL 에 있는 join과 흡사\n",
    "         - on : 특정한 조건\n",
    "         - how : 기준이 되는 데이터프레임을 지정(left, right, inner, outer)\n",
    "13. apply()\n",
    "    - 데이터프레임에 있는 각 원소들을 ()안에 함수에 대입하여 실행\n",
    "    - ex) apply(일반함수), apply(lambda함수)\n",
    "14. 시계열 변환\n",
    "    - to_datetime(변경할 데이터, format=\"\")\n",
    "    - format : 변경할 데이터의 형태\n",
    "    - format ex)\n",
    "         - 201901 데이터를 시계열 변경 -> format = \"%Y%m\"\n",
    "         - 01-2019 데이터를 시계열 변경 -> format = \"%m-%Y\"\n",
    "15. loc 함수 iloc 함수\n",
    "16. array()\n",
    "17. round함수\n",
    "18. any()\n",
    "19. ptime이 문자열형태를 시계열 타입으로 바꾸기\n",
    "20. ftime은 시계열타입을 문자열 형태로 바꾸기\n",
    "21. isoformat()\n",
    "22. f함수(f string?)\n",
    "23. 타입 바꾸기 astype()\n",
    "24. 맥함수 - 가장 많이 사용\n",
    "25. map 함수 - lanbda 함수랑 대부분 사용\n",
    "26. shift \n",
    "27. unique함수\n",
    "28. [] 리스트 형태 - 리스트로 시리즈와 데이터 프레임을 만듦\n"
   ]
  },
  {
   "attachments": {},
   "cell_type": "markdown",
   "metadata": {},
   "source": [
    "# 터미널 들어가는 법\n",
    "1. cd Desktop\n",
    "2. cd 유비온\n",
    "3. cd 파이썬치고 탭\n",
    "4. ls\n",
    "5. cd server\n",
    "6. python3 app.py"
   ]
  },
  {
   "cell_type": "code",
   "execution_count": 1,
   "metadata": {},
   "outputs": [],
   "source": [
    "# 개인 공부\n",
    "# 인덱스 데이터 프레임 차이\n",
    "# 파이썬에서 시리즈인지 리스트인지 데이터프레임인지 구분하는 법\n",
    "# 시리즈안에 value랑 또 뭐있지? (시리즈는 값과 인덱스로 이루어져있다)\n",
    "# 컬럼은?\n",
    "# 데이터프레임이 뭐야?\n",
    "# 튜플 딕셔너리랑 하나 뭐지?\n",
    "# 파이썬에서 키값이 뭐야\n",
    "# 파이썬에서 index와 columns의 차이\n",
    "# 파이썬에서 파생변수가 뭐야\n",
    "# 순위 확인하는 법\n",
    "# loc가 뭐야\n",
    "# 판다스 저장 해놓은 사이트 보기\n",
    "# sudo는 관리자로 실행하는거\n",
    "# to ...\n"
   ]
  },
  {
   "cell_type": "code",
   "execution_count": null,
   "metadata": {},
   "outputs": [],
   "source": []
  }
 ],
 "metadata": {
  "kernelspec": {
   "display_name": "Python 3",
   "language": "python",
   "name": "python3"
  },
  "language_info": {
   "codemirror_mode": {
    "name": "ipython",
    "version": 3
   },
   "file_extension": ".py",
   "mimetype": "text/x-python",
   "name": "python",
   "nbconvert_exporter": "python",
   "pygments_lexer": "ipython3",
   "version": "3.9.6"
  },
  "orig_nbformat": 4
 },
 "nbformat": 4,
 "nbformat_minor": 2
}
