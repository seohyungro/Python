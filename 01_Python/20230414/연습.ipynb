{
 "cells": [
  {
   "attachments": {},
   "cell_type": "markdown",
   "metadata": {},
   "source": [
    "0. 함수를 정의할때 무조건 ()에 매개변수를 넣어서 활용\n",
    "    - 매개변수는 함수 내부에 전달되는 값\n",
    "    - 함수 사용할때 변경할때는 괄호안에 넣는게 아니라. 또는 []로 사용하고 변경이 아니라 길이를 알거나 범위를 지정하고 싶을때는 ()안에 넣기\n",
    "    - 함수를 정의할때 반환할 값이 있으면 return함수 사용 return은 호출이라 () 생략 가능\n",
    "    - 밑의 함수들은 내장함수 def는 함수를 정의하는것\n"
   ]
  },
  {
   "attachments": {},
   "cell_type": "markdown",
   "metadata": {},
   "source": [
    "1. input() 함수 - 키보드로 입력받은 값을 문자열로 반환 : 따라서 숫자로 받을려면 int 형태로 바꿔줘야함"
   ]
  },
  {
   "cell_type": "code",
   "execution_count": 64,
   "metadata": {},
   "outputs": [
    {
     "name": "stdout",
     "output_type": "stream",
     "text": [
      "F\n",
      "프로그램 종료\n"
     ]
    }
   ],
   "source": [
    "# 예시\n",
    "score = int(input(\"점수를 입력하시오 \"))  # input 함수는 문자열로 반환하기때문에 \"\" 필요함\n",
    "\n",
    "if score >= 90:\n",
    "    print('A')\n",
    "elif score >= 80:\n",
    "    print(\"B\")\n",
    "elif score >= 70:\n",
    "    print(\"C\")\n",
    "else : \n",
    "    print(\"F\")\n",
    "\n",
    "print(\"프로그램 종료\")"
   ]
  },
  {
   "attachments": {},
   "cell_type": "markdown",
   "metadata": {},
   "source": [
    "2. range() 함수\n",
    "   - range(시작값, 종료값, 증가값) : 정수\n",
    "   - range(반복횟수)\n",
    "   - 0부터 반복\n"
   ]
  },
  {
   "attachments": {},
   "cell_type": "markdown",
   "metadata": {},
   "source": [
    "3. 순서\n",
    "- a.sort() 순서를 오름차순으로 변경\n",
    "- b.reverse() 순서를 역순으로 변경\n",
    "    - 리스트에서만 사용가능\n",
    "        - 튜플은 리스트로 변경후 사용\n",
    "        - 딕셔너리는 sorted()함수 사용 : 리스트에서도 사용가능"
   ]
  },
  {
   "attachments": {},
   "cell_type": "markdown",
   "metadata": {},
   "source": [
    "4. 항목 추가 및 삭제\n",
    "- a.pop() : a 리스트에서 마지막 항목 삭제\n",
    "- b.append(22) :# b 리스트에는 22라는 항목을 마지막 항에 추가 \n",
    "- dict['area'] = 'seoul' : dict이라는 딕셔너리에서 추가 : 딕셔너리에서\n",
    "- del(dict['phone']) dict이라는 딕셔너리에서 키 값을 삭제 : 딕셔너리에서"
   ]
  },
  {
   "attachments": {},
   "cell_type": "markdown",
   "metadata": {},
   "source": [
    "5. len()함수 : 길이를 알고싶을때\n",
    "    - 리스트, 딕셔너리, 튜플 다 사용가능"
   ]
  },
  {
   "attachments": {},
   "cell_type": "markdown",
   "metadata": {},
   "source": [
    "6. 대소문자 변경 함수\n",
    "- upper() 함수 : 문자를 모두 대문자로 변경\n",
    "- lower() 함수 : 문자를 모두 소문자로 변경\n",
    "- title() 함수 : 문자의 첫글자만 대문자로 변경(띄어쓰기마다)"
   ]
  },
  {
   "cell_type": "code",
   "execution_count": 2,
   "metadata": {},
   "outputs": [
    {
     "ename": "NameError",
     "evalue": "name 'uriage' is not defined",
     "output_type": "error",
     "traceback": [
      "\u001b[0;31m---------------------------------------------------------------------------\u001b[0m",
      "\u001b[0;31mNameError\u001b[0m                                 Traceback (most recent call last)",
      "Cell \u001b[0;32mIn[2], line 2\u001b[0m\n\u001b[1;32m      1\u001b[0m \u001b[39m# str.upper()를 사용하여 문자열을 대문자로 변경하는 방식\u001b[39;00m\n\u001b[0;32m----> 2\u001b[0m uriage[\u001b[39m'\u001b[39m\u001b[39mitem_name\u001b[39m\u001b[39m'\u001b[39m] \u001b[39m=\u001b[39m uriage[\u001b[39m'\u001b[39m\u001b[39mitem_name\u001b[39m\u001b[39m'\u001b[39m]\u001b[39m.\u001b[39mstr\u001b[39m.\u001b[39mupper()\n",
      "\u001b[0;31mNameError\u001b[0m: name 'uriage' is not defined"
     ]
    }
   ],
   "source": [
    "# str.upper()를 사용하여 문자열을 대문자로 변경하는 방식\n",
    "uriage['item_name'] = uriage['item_name'].str.upper()"
   ]
  },
  {
   "attachments": {},
   "cell_type": "markdown",
   "metadata": {},
   "source": [
    "7. 공백 삭제 함수\n",
    "    - strip() : 양끝 좌우 모두 공백 삭제\n",
    "    - lstrip() : 좌측 공백만 제거\n",
    "    - rstrip() : 우측 공백만 제거\n"
   ]
  },
  {
   "cell_type": "code",
   "execution_count": 65,
   "metadata": {},
   "outputs": [
    {
     "data": {
      "text/plain": [
       "'2.$11'"
      ]
     },
     "execution_count": 65,
     "metadata": {},
     "output_type": "execute_result"
    }
   ],
   "source": [
    "# b라는 변수에 있는 '$' 표시를 제거\n",
    "b = \"$2.$11$\"\n",
    "b.strip('$')"
   ]
  },
  {
   "attachments": {},
   "cell_type": "markdown",
   "metadata": {},
   "source": [
    "8. replace() : 특정단어를 대체하는 함수\n",
    "    - strip()은 가운데값은 못없애기때문에 replace 사용"
   ]
  },
  {
   "cell_type": "code",
   "execution_count": 66,
   "metadata": {},
   "outputs": [
    {
     "data": {
      "text/plain": [
       "'2.11'"
      ]
     },
     "execution_count": 66,
     "metadata": {},
     "output_type": "execute_result"
    }
   ],
   "source": [
    "# b 변수의 '$' 표기를 없애기\n",
    "b.replace('$', '')"
   ]
  },
  {
   "cell_type": "code",
   "execution_count": 67,
   "metadata": {},
   "outputs": [
    {
     "data": {
      "text/plain": [
       "'$2.$11$'"
      ]
     },
     "execution_count": 67,
     "metadata": {},
     "output_type": "execute_result"
    }
   ],
   "source": [
    "# a 변수에 공백을 모두 삭제\n",
    "b.replace(\" \", \"\")"
   ]
  },
  {
   "attachments": {},
   "cell_type": "markdown",
   "metadata": {},
   "source": [
    "9. split(특정한 값) : 문자열을 특정한 값을 기준으로 나눠주는 함수\n",
    "    - split(특정한 값)-> 인자 값을 아무것도 넣지 않으면 \" \"을 기준으로 나눠준다"
   ]
  },
  {
   "cell_type": "code",
   "execution_count": 68,
   "metadata": {},
   "outputs": [
    {
     "name": "stdout",
     "output_type": "stream",
     "text": [
      "['1', '2', '3', '4', '5']\n",
      "['1,', ',3,4,5']\n",
      "['1 2 3 4 5']\n"
     ]
    }
   ],
   "source": [
    "a = \"1,2,3,4,5\"\n",
    "b = \"1 2 3 4 5\"\n",
    "\n",
    "print(a.split(','))\n",
    "print(a.split('2'))\n",
    "print(b.split(','))"
   ]
  },
  {
   "attachments": {},
   "cell_type": "markdown",
   "metadata": {},
   "source": [
    "9. 가장 크고 작은 숫자 출력\n",
    "    - max() -> 인자값들 중에 가장 큰 숫자를 출력\n",
    "    - min() -> 인자 값들 중에 가장 작은 숫자를 출력"
   ]
  },
  {
   "attachments": {},
   "cell_type": "markdown",
   "metadata": {},
   "source": [
    "## 판다스 "
   ]
  },
  {
   "attachments": {},
   "cell_type": "markdown",
   "metadata": {},
   "source": [
    "### 20230404-01_pandas 파일"
   ]
  },
  {
   "attachments": {},
   "cell_type": "markdown",
   "metadata": {},
   "source": [
    "1. Series()와 DataFrame()은 판다스에서만 사용가능\n",
    "2. 데이터프레임은 행과 열로 이루어져있고 각 열은 시리즈로 이루어짐. 시리즈는 인덱스와 값으로 이루어져있음\n",
    "    - 행은 index 열은 columns 안은 values"
   ]
  },
  {
   "cell_type": "code",
   "execution_count": 69,
   "metadata": {},
   "outputs": [
    {
     "data": {
      "text/html": [
       "<div>\n",
       "<style scoped>\n",
       "    .dataframe tbody tr th:only-of-type {\n",
       "        vertical-align: middle;\n",
       "    }\n",
       "\n",
       "    .dataframe tbody tr th {\n",
       "        vertical-align: top;\n",
       "    }\n",
       "\n",
       "    .dataframe thead th {\n",
       "        text-align: right;\n",
       "    }\n",
       "</style>\n",
       "<table border=\"1\" class=\"dataframe\">\n",
       "  <thead>\n",
       "    <tr style=\"text-align: right;\">\n",
       "      <th></th>\n",
       "      <th>A</th>\n",
       "      <th>B</th>\n",
       "      <th>C</th>\n",
       "    </tr>\n",
       "  </thead>\n",
       "  <tbody>\n",
       "    <tr>\n",
       "      <th>a</th>\n",
       "      <td>1</td>\n",
       "      <td>2</td>\n",
       "      <td>3</td>\n",
       "    </tr>\n",
       "    <tr>\n",
       "      <th>b</th>\n",
       "      <td>4</td>\n",
       "      <td>5</td>\n",
       "      <td>6</td>\n",
       "    </tr>\n",
       "    <tr>\n",
       "      <th>c</th>\n",
       "      <td>7</td>\n",
       "      <td>8</td>\n",
       "      <td>9</td>\n",
       "    </tr>\n",
       "  </tbody>\n",
       "</table>\n",
       "</div>"
      ],
      "text/plain": [
       "   A  B  C\n",
       "a  1  2  3\n",
       "b  4  5  6\n",
       "c  7  8  9"
      ]
     },
     "execution_count": 69,
     "metadata": {},
     "output_type": "execute_result"
    }
   ],
   "source": [
    "import pandas as pd\n",
    "_value = [[1,2,3], [4,5,6], [7,8,9]]\n",
    "_index = ['a', 'b', 'c']\n",
    "_column = ['A', 'B', 'C']\n",
    "\n",
    "df = pd.DataFrame(_value, index = _index, columns = _column)\n",
    "df"
   ]
  },
  {
   "cell_type": "code",
   "execution_count": 70,
   "metadata": {},
   "outputs": [
    {
     "data": {
      "text/plain": [
       "Index(['a', 'b', 'c'], dtype='object')"
      ]
     },
     "execution_count": 70,
     "metadata": {},
     "output_type": "execute_result"
    }
   ],
   "source": [
    "df.index"
   ]
  },
  {
   "cell_type": "code",
   "execution_count": 71,
   "metadata": {},
   "outputs": [
    {
     "data": {
      "text/plain": [
       "Index(['A', 'B', 'C'], dtype='object')"
      ]
     },
     "execution_count": 71,
     "metadata": {},
     "output_type": "execute_result"
    }
   ],
   "source": [
    "df.columns"
   ]
  },
  {
   "cell_type": "code",
   "execution_count": 72,
   "metadata": {},
   "outputs": [
    {
     "data": {
      "text/plain": [
       "array([[1, 2, 3],\n",
       "       [4, 5, 6],\n",
       "       [7, 8, 9]])"
      ]
     },
     "execution_count": 72,
     "metadata": {},
     "output_type": "execute_result"
    }
   ],
   "source": [
    "df.values"
   ]
  },
  {
   "attachments": {},
   "cell_type": "markdown",
   "metadata": {},
   "source": [
    "3. 딕셔너리\n",
    "    - 딕셔너리는 키와 값으로 이루어져있고 키는 열의 이름들을 나타냄"
   ]
  },
  {
   "cell_type": "code",
   "execution_count": 73,
   "metadata": {},
   "outputs": [
    {
     "data": {
      "text/html": [
       "<div>\n",
       "<style scoped>\n",
       "    .dataframe tbody tr th:only-of-type {\n",
       "        vertical-align: middle;\n",
       "    }\n",
       "\n",
       "    .dataframe tbody tr th {\n",
       "        vertical-align: top;\n",
       "    }\n",
       "\n",
       "    .dataframe thead th {\n",
       "        text-align: right;\n",
       "    }\n",
       "</style>\n",
       "<table border=\"1\" class=\"dataframe\">\n",
       "  <thead>\n",
       "    <tr style=\"text-align: right;\">\n",
       "      <th></th>\n",
       "      <th>name</th>\n",
       "      <th>age</th>\n",
       "      <th>phone</th>\n",
       "    </tr>\n",
       "  </thead>\n",
       "  <tbody>\n",
       "    <tr>\n",
       "      <th>0</th>\n",
       "      <td>test</td>\n",
       "      <td>20</td>\n",
       "      <td>01012345678</td>\n",
       "    </tr>\n",
       "    <tr>\n",
       "      <th>1</th>\n",
       "      <td>test2</td>\n",
       "      <td>30</td>\n",
       "      <td>01098765432</td>\n",
       "    </tr>\n",
       "    <tr>\n",
       "      <th>2</th>\n",
       "      <td>test3</td>\n",
       "      <td>25</td>\n",
       "      <td>01011112222</td>\n",
       "    </tr>\n",
       "  </tbody>\n",
       "</table>\n",
       "</div>"
      ],
      "text/plain": [
       "    name  age        phone\n",
       "0   test   20  01012345678\n",
       "1  test2   30  01098765432\n",
       "2  test3   25  01011112222"
      ]
     },
     "execution_count": 73,
     "metadata": {},
     "output_type": "execute_result"
    }
   ],
   "source": [
    "# 딕셔너리 형태의 데이터를 가지고 dataframe 생성\n",
    "_value = {\n",
    "    \"name\" : [\"test\", \"test2\", \"test3\"], \n",
    "    \"age\" : [20, 30, 25], \n",
    "    \"phone\" : [\"01012345678\", \"01098765432\", \"01011112222\"]\n",
    "}\n",
    "df2 = pd.DataFrame(_value)\n",
    "df2"
   ]
  },
  {
   "cell_type": "code",
   "execution_count": 74,
   "metadata": {},
   "outputs": [
    {
     "data": {
      "text/plain": [
       "RangeIndex(start=0, stop=3, step=1)"
      ]
     },
     "execution_count": 74,
     "metadata": {},
     "output_type": "execute_result"
    }
   ],
   "source": [
    "df2.index"
   ]
  },
  {
   "cell_type": "code",
   "execution_count": 75,
   "metadata": {},
   "outputs": [
    {
     "data": {
      "text/plain": [
       "Index(['name', 'age', 'phone'], dtype='object')"
      ]
     },
     "execution_count": 75,
     "metadata": {},
     "output_type": "execute_result"
    }
   ],
   "source": [
    "df2.columns"
   ]
  },
  {
   "cell_type": "code",
   "execution_count": 76,
   "metadata": {},
   "outputs": [
    {
     "data": {
      "text/plain": [
       "array([['test', 20, '01012345678'],\n",
       "       ['test2', 30, '01098765432'],\n",
       "       ['test3', 25, '01011112222']], dtype=object)"
      ]
     },
     "execution_count": 76,
     "metadata": {},
     "output_type": "execute_result"
    }
   ],
   "source": [
    "df2.values"
   ]
  },
  {
   "attachments": {},
   "cell_type": "markdown",
   "metadata": {},
   "source": [
    "4. 판다스에서 경로\n",
    "    1. 절대 경로\n",
    "    - 절대적인 경로\n",
    "    - 환경이 변하더라도 같은 위치를 지정\n",
    "    - ex) c:/users/user/document/a.txt, 인터넷 url \n",
    "    2. 상대 경로\n",
    "    - 상대적인 경로\n",
    "    - 환경에 따라 위치가 달라진다. \n",
    "    - ./ : 현재 파일의 경로\n",
    "    - ../ : 현재 경로에서 상위 폴더로 이동\n",
    "    - 폴더명/ : 해당하는 하위 폴더로 이동\n",
    "    - ex) pd.read_csv(\"../csv/corona.csv\")"
   ]
  },
  {
   "attachments": {},
   "cell_type": "markdown",
   "metadata": {},
   "source": [
    "경로에서 sep=\"\\t\" 는???"
   ]
  },
  {
   "attachments": {},
   "cell_type": "markdown",
   "metadata": {},
   "source": [
    "5. isna() 결측값 확인"
   ]
  },
  {
   "cell_type": "code",
   "execution_count": 77,
   "metadata": {},
   "outputs": [
    {
     "data": {
      "text/html": [
       "<div>\n",
       "<style scoped>\n",
       "    .dataframe tbody tr th:only-of-type {\n",
       "        vertical-align: middle;\n",
       "    }\n",
       "\n",
       "    .dataframe tbody tr th {\n",
       "        vertical-align: top;\n",
       "    }\n",
       "\n",
       "    .dataframe thead th {\n",
       "        text-align: right;\n",
       "    }\n",
       "</style>\n",
       "<table border=\"1\" class=\"dataframe\">\n",
       "  <thead>\n",
       "    <tr style=\"text-align: right;\">\n",
       "      <th></th>\n",
       "      <th>0</th>\n",
       "      <th>1</th>\n",
       "      <th>2</th>\n",
       "    </tr>\n",
       "  </thead>\n",
       "  <tbody>\n",
       "    <tr>\n",
       "      <th>0</th>\n",
       "      <td>1</td>\n",
       "      <td>2.0</td>\n",
       "      <td>3.0</td>\n",
       "    </tr>\n",
       "    <tr>\n",
       "      <th>1</th>\n",
       "      <td>4</td>\n",
       "      <td>NaN</td>\n",
       "      <td>6.0</td>\n",
       "    </tr>\n",
       "    <tr>\n",
       "      <th>2</th>\n",
       "      <td>7</td>\n",
       "      <td>8.0</td>\n",
       "      <td>NaN</td>\n",
       "    </tr>\n",
       "  </tbody>\n",
       "</table>\n",
       "</div>"
      ],
      "text/plain": [
       "   0    1    2\n",
       "0  1  2.0  3.0\n",
       "1  4  NaN  6.0\n",
       "2  7  8.0  NaN"
      ]
     },
     "execution_count": 77,
     "metadata": {},
     "output_type": "execute_result"
    }
   ],
   "source": [
    "import numpy as np\n",
    "_value = [\n",
    "    [1,2,3], \n",
    "    [4,np.nan,6],\n",
    "    [7,8,np.nan]\n",
    "]\n",
    "df = pd.DataFrame(_value)\n",
    "\n",
    "df"
   ]
  },
  {
   "cell_type": "code",
   "execution_count": 78,
   "metadata": {},
   "outputs": [
    {
     "data": {
      "text/plain": [
       "0    0\n",
       "1    1\n",
       "2    1\n",
       "dtype: int64"
      ]
     },
     "execution_count": 78,
     "metadata": {},
     "output_type": "execute_result"
    }
   ],
   "source": [
    "df.isna().sum() # 결측치 개수"
   ]
  },
  {
   "attachments": {},
   "cell_type": "markdown",
   "metadata": {},
   "source": [
    "6. dropna() - 결측치 제거하는 함수\n",
    "    - 매개변수 axis : 0, 'rows' 을 대입하면 해당하는 행을 삭제\n",
    "    -               1, 'columns' 대입하면 해당하는 열을 삭제"
   ]
  },
  {
   "cell_type": "code",
   "execution_count": 79,
   "metadata": {},
   "outputs": [
    {
     "data": {
      "text/html": [
       "<div>\n",
       "<style scoped>\n",
       "    .dataframe tbody tr th:only-of-type {\n",
       "        vertical-align: middle;\n",
       "    }\n",
       "\n",
       "    .dataframe tbody tr th {\n",
       "        vertical-align: top;\n",
       "    }\n",
       "\n",
       "    .dataframe thead th {\n",
       "        text-align: right;\n",
       "    }\n",
       "</style>\n",
       "<table border=\"1\" class=\"dataframe\">\n",
       "  <thead>\n",
       "    <tr style=\"text-align: right;\">\n",
       "      <th></th>\n",
       "      <th>0</th>\n",
       "    </tr>\n",
       "  </thead>\n",
       "  <tbody>\n",
       "    <tr>\n",
       "      <th>0</th>\n",
       "      <td>1</td>\n",
       "    </tr>\n",
       "    <tr>\n",
       "      <th>1</th>\n",
       "      <td>4</td>\n",
       "    </tr>\n",
       "    <tr>\n",
       "      <th>2</th>\n",
       "      <td>7</td>\n",
       "    </tr>\n",
       "  </tbody>\n",
       "</table>\n",
       "</div>"
      ],
      "text/plain": [
       "   0\n",
       "0  1\n",
       "1  4\n",
       "2  7"
      ]
     },
     "execution_count": 79,
     "metadata": {},
     "output_type": "execute_result"
    }
   ],
   "source": [
    "df.dropna(axis = 1)"
   ]
  },
  {
   "attachments": {},
   "cell_type": "markdown",
   "metadata": {},
   "source": [
    "6. sort_values(): pandas 데이터프레임에서 정렬을 위해 사용하는 함수, 주어진 열(column)을 기준으로 데이터를 오름차순 또는 내림차순으로 정렬"
   ]
  },
  {
   "attachments": {},
   "cell_type": "markdown",
   "metadata": {},
   "source": [
    "7. ascending : 오름차순 내림차순 정렬 : 매개변수라서 ()안에서 사용\n",
    "    - ascending=True, ascending=False"
   ]
  },
  {
   "attachments": {},
   "cell_type": "markdown",
   "metadata": {},
   "source": [
    "8. inplace=True : 저장하는거 :: 매개변수라서 ()안에서 사용"
   ]
  },
  {
   "attachments": {},
   "cell_type": "markdown",
   "metadata": {},
   "source": [
    "9. loc, iloc\n",
    "    - loc[행의 조건, 열의 조건] : 데이터프레임에서 특정 행과 열을 이름으로 선택\n",
    "    - iloc[행의 위치, 열의 위치] : 숫자로 선택\n"
   ]
  },
  {
   "cell_type": "code",
   "execution_count": 80,
   "metadata": {},
   "outputs": [
    {
     "data": {
      "text/html": [
       "<div>\n",
       "<style scoped>\n",
       "    .dataframe tbody tr th:only-of-type {\n",
       "        vertical-align: middle;\n",
       "    }\n",
       "\n",
       "    .dataframe tbody tr th {\n",
       "        vertical-align: top;\n",
       "    }\n",
       "\n",
       "    .dataframe thead th {\n",
       "        text-align: right;\n",
       "    }\n",
       "</style>\n",
       "<table border=\"1\" class=\"dataframe\">\n",
       "  <thead>\n",
       "    <tr style=\"text-align: right;\">\n",
       "      <th></th>\n",
       "      <th>Region</th>\n",
       "    </tr>\n",
       "  </thead>\n",
       "  <tbody>\n",
       "    <tr>\n",
       "      <th>0</th>\n",
       "      <td>Sub-Saharan Africa</td>\n",
       "    </tr>\n",
       "    <tr>\n",
       "      <th>1</th>\n",
       "      <td>Europe</td>\n",
       "    </tr>\n",
       "    <tr>\n",
       "      <th>2</th>\n",
       "      <td>Middle East and North Africa</td>\n",
       "    </tr>\n",
       "    <tr>\n",
       "      <th>3</th>\n",
       "      <td>Sub-Saharan Africa</td>\n",
       "    </tr>\n",
       "    <tr>\n",
       "      <th>4</th>\n",
       "      <td>Europe</td>\n",
       "    </tr>\n",
       "    <tr>\n",
       "      <th>...</th>\n",
       "      <td>...</td>\n",
       "    </tr>\n",
       "    <tr>\n",
       "      <th>9995</th>\n",
       "      <td>Asia</td>\n",
       "    </tr>\n",
       "    <tr>\n",
       "      <th>9996</th>\n",
       "      <td>Europe</td>\n",
       "    </tr>\n",
       "    <tr>\n",
       "      <th>9997</th>\n",
       "      <td>Sub-Saharan Africa</td>\n",
       "    </tr>\n",
       "    <tr>\n",
       "      <th>9998</th>\n",
       "      <td>Sub-Saharan Africa</td>\n",
       "    </tr>\n",
       "    <tr>\n",
       "      <th>9999</th>\n",
       "      <td>Asia</td>\n",
       "    </tr>\n",
       "  </tbody>\n",
       "</table>\n",
       "<p>10000 rows × 1 columns</p>\n",
       "</div>"
      ],
      "text/plain": [
       "                            Region\n",
       "0               Sub-Saharan Africa\n",
       "1                           Europe\n",
       "2     Middle East and North Africa\n",
       "3               Sub-Saharan Africa\n",
       "4                           Europe\n",
       "...                            ...\n",
       "9995                          Asia\n",
       "9996                        Europe\n",
       "9997            Sub-Saharan Africa\n",
       "9998            Sub-Saharan Africa\n",
       "9999                          Asia\n",
       "\n",
       "[10000 rows x 1 columns]"
      ]
     },
     "execution_count": 80,
     "metadata": {},
     "output_type": "execute_result"
    }
   ],
   "source": [
    "sales = pd.read_csv(\"../csv/Sales Records.csv\")\n",
    "sales[['Region']]"
   ]
  },
  {
   "cell_type": "code",
   "execution_count": 81,
   "metadata": {},
   "outputs": [
    {
     "data": {
      "text/html": [
       "<div>\n",
       "<style scoped>\n",
       "    .dataframe tbody tr th:only-of-type {\n",
       "        vertical-align: middle;\n",
       "    }\n",
       "\n",
       "    .dataframe tbody tr th {\n",
       "        vertical-align: top;\n",
       "    }\n",
       "\n",
       "    .dataframe thead th {\n",
       "        text-align: right;\n",
       "    }\n",
       "</style>\n",
       "<table border=\"1\" class=\"dataframe\">\n",
       "  <thead>\n",
       "    <tr style=\"text-align: right;\">\n",
       "      <th></th>\n",
       "      <th>Region</th>\n",
       "    </tr>\n",
       "  </thead>\n",
       "  <tbody>\n",
       "    <tr>\n",
       "      <th>6</th>\n",
       "      <td>Asia</td>\n",
       "    </tr>\n",
       "    <tr>\n",
       "      <th>7</th>\n",
       "      <td>Asia</td>\n",
       "    </tr>\n",
       "    <tr>\n",
       "      <th>13</th>\n",
       "      <td>Asia</td>\n",
       "    </tr>\n",
       "    <tr>\n",
       "      <th>23</th>\n",
       "      <td>Asia</td>\n",
       "    </tr>\n",
       "    <tr>\n",
       "      <th>36</th>\n",
       "      <td>Asia</td>\n",
       "    </tr>\n",
       "    <tr>\n",
       "      <th>...</th>\n",
       "      <td>...</td>\n",
       "    </tr>\n",
       "    <tr>\n",
       "      <th>9981</th>\n",
       "      <td>Asia</td>\n",
       "    </tr>\n",
       "    <tr>\n",
       "      <th>9985</th>\n",
       "      <td>Asia</td>\n",
       "    </tr>\n",
       "    <tr>\n",
       "      <th>9990</th>\n",
       "      <td>Asia</td>\n",
       "    </tr>\n",
       "    <tr>\n",
       "      <th>9995</th>\n",
       "      <td>Asia</td>\n",
       "    </tr>\n",
       "    <tr>\n",
       "      <th>9999</th>\n",
       "      <td>Asia</td>\n",
       "    </tr>\n",
       "  </tbody>\n",
       "</table>\n",
       "<p>1469 rows × 1 columns</p>\n",
       "</div>"
      ],
      "text/plain": [
       "     Region\n",
       "6      Asia\n",
       "7      Asia\n",
       "13     Asia\n",
       "23     Asia\n",
       "36     Asia\n",
       "...     ...\n",
       "9981   Asia\n",
       "9985   Asia\n",
       "9990   Asia\n",
       "9995   Asia\n",
       "9999   Asia\n",
       "\n",
       "[1469 rows x 1 columns]"
      ]
     },
     "execution_count": 81,
     "metadata": {},
     "output_type": "execute_result"
    }
   ],
   "source": [
    "flg = sales['Region'] == 'Asia'\n",
    "sales.loc[flg, ['Region']]"
   ]
  },
  {
   "cell_type": "code",
   "execution_count": 82,
   "metadata": {},
   "outputs": [
    {
     "data": {
      "text/html": [
       "<div>\n",
       "<style scoped>\n",
       "    .dataframe tbody tr th:only-of-type {\n",
       "        vertical-align: middle;\n",
       "    }\n",
       "\n",
       "    .dataframe tbody tr th {\n",
       "        vertical-align: top;\n",
       "    }\n",
       "\n",
       "    .dataframe thead th {\n",
       "        text-align: right;\n",
       "    }\n",
       "</style>\n",
       "<table border=\"1\" class=\"dataframe\">\n",
       "  <thead>\n",
       "    <tr style=\"text-align: right;\">\n",
       "      <th></th>\n",
       "      <th>Country</th>\n",
       "      <th>Item Type</th>\n",
       "    </tr>\n",
       "  </thead>\n",
       "  <tbody>\n",
       "    <tr>\n",
       "      <th>1</th>\n",
       "      <td>Latvia</td>\n",
       "      <td>Beverages</td>\n",
       "    </tr>\n",
       "    <tr>\n",
       "      <th>2</th>\n",
       "      <td>Pakistan</td>\n",
       "      <td>Vegetables</td>\n",
       "    </tr>\n",
       "  </tbody>\n",
       "</table>\n",
       "</div>"
      ],
      "text/plain": [
       "    Country   Item Type\n",
       "1    Latvia   Beverages\n",
       "2  Pakistan  Vegetables"
      ]
     },
     "execution_count": 82,
     "metadata": {},
     "output_type": "execute_result"
    }
   ],
   "source": [
    "sales.iloc[1:3, 1:3]"
   ]
  },
  {
   "attachments": {},
   "cell_type": "markdown",
   "metadata": {},
   "source": [
    "10. any()함수 : 하나 이상의 요소가 True인지 여부를 판단해주는 함수\n",
    "    - isna().any() 이렇게 사용하면 결측치가 포함된 데이터만 필터"
   ]
  },
  {
   "cell_type": "code",
   "execution_count": 83,
   "metadata": {},
   "outputs": [],
   "source": [
    "flg_na = df.isna().any(axis=1)"
   ]
  },
  {
   "cell_type": "code",
   "execution_count": 84,
   "metadata": {},
   "outputs": [
    {
     "data": {
      "text/plain": [
       "0    False\n",
       "1     True\n",
       "2     True\n",
       "dtype: bool"
      ]
     },
     "execution_count": 84,
     "metadata": {},
     "output_type": "execute_result"
    }
   ],
   "source": [
    "flg_na"
   ]
  },
  {
   "cell_type": "code",
   "execution_count": 85,
   "metadata": {},
   "outputs": [
    {
     "data": {
      "text/html": [
       "<div>\n",
       "<style scoped>\n",
       "    .dataframe tbody tr th:only-of-type {\n",
       "        vertical-align: middle;\n",
       "    }\n",
       "\n",
       "    .dataframe tbody tr th {\n",
       "        vertical-align: top;\n",
       "    }\n",
       "\n",
       "    .dataframe thead th {\n",
       "        text-align: right;\n",
       "    }\n",
       "</style>\n",
       "<table border=\"1\" class=\"dataframe\">\n",
       "  <thead>\n",
       "    <tr style=\"text-align: right;\">\n",
       "      <th></th>\n",
       "      <th>0</th>\n",
       "      <th>1</th>\n",
       "      <th>2</th>\n",
       "    </tr>\n",
       "  </thead>\n",
       "  <tbody>\n",
       "    <tr>\n",
       "      <th>0</th>\n",
       "      <td>1</td>\n",
       "      <td>2.0</td>\n",
       "      <td>3.0</td>\n",
       "    </tr>\n",
       "  </tbody>\n",
       "</table>\n",
       "</div>"
      ],
      "text/plain": [
       "   0    1    2\n",
       "0  1  2.0  3.0"
      ]
     },
     "execution_count": 85,
     "metadata": {},
     "output_type": "execute_result"
    }
   ],
   "source": [
    "df.loc[~flg_na] # 결측치가 없는것만 나옴"
   ]
  },
  {
   "attachments": {},
   "cell_type": "markdown",
   "metadata": {},
   "source": [
    "11. describe() : 통계 요약 정보 출력하는 함수"
   ]
  },
  {
   "attachments": {},
   "cell_type": "markdown",
   "metadata": {},
   "source": [
    "### 20230404 02_corona 파일"
   ]
  },
  {
   "attachments": {},
   "cell_type": "markdown",
   "metadata": {},
   "source": [
    "12. drop() : 데이터프레임에서 하나 이상의 행 또는 열을 제거하는 함수\n",
    "    - drop('이름', axis = 0 or 1)\n",
    "    - 여러개 지울때 drop(['이름1', '이름2'], axis =)"
   ]
  },
  {
   "attachments": {},
   "cell_type": "markdown",
   "metadata": {},
   "source": [
    "13. .columns : 컬럼의 이름 변경\n",
    "    -  ex) corona.columns = [\"등록일시\", \"누적사망자\", \"누적확진자\", \"게시글번호\", \"기준일\", \"기준시간\", \"수정일시\", \"누적의심자\", \"누적확진률\"]"
   ]
  },
  {
   "attachments": {},
   "cell_type": "markdown",
   "metadata": {},
   "source": [
    "14. sort_values() 데이터프레임에 차순정렬을 변경하는 함수 \n",
    "    - 매개변수 ascending : True(기본값)(오름차순), False(내림차순)\n",
    "    - 매개변수 inplace : 기준이 되는 데이터프레임을 수정할것인가를 지정\n",
    "                        기본값은 False"
   ]
  },
  {
   "attachments": {},
   "cell_type": "markdown",
   "metadata": {},
   "source": [
    "15. reset_index() : DataFrame의 인덱스를 재설정\n",
    "    - 매개변수 drop : 기본값(False) -> 기존의 인덱스의 값을 삭제할지 지정\n",
    "    - 매개변수 inplace : 기준이 되는 데이터프레임을 수정할지 지정 \n",
    "        - 이전 인덱스가 필요하지 않은 경우 drop=True 매개변수를 사용하여 제거\n",
    "        - drop = False 로 두면 기존의 인덱스가 옆에 나타남"
   ]
  },
  {
   "attachments": {},
   "cell_type": "markdown",
   "metadata": {},
   "source": [
    "16. diff(n) : 데이터간의 차이를 출력하는 함수 \n",
    "    - n의 기본값은 1 -> 1 전 인덱스 데이터를 선택\n",
    "    - ex) corona[\"일일확진자\"] = corona.누적확진자.diff() : 누적확진자 열에서 서로 차이값"
   ]
  },
  {
   "attachments": {},
   "cell_type": "markdown",
   "metadata": {},
   "source": [
    "17. shift() : 이동한 값을 출력\n",
    "    - shift(1) : 값이 한칸씩 내려감"
   ]
  },
  {
   "attachments": {},
   "cell_type": "markdown",
   "metadata": {},
   "source": [
    "### 20230405 - 01_sales 파일"
   ]
  },
  {
   "attachments": {},
   "cell_type": "markdown",
   "metadata": {},
   "source": [
    "1. value_counts() : 항목들의 카운트를 출력하는 함수, 빈도수 높은것부터 표시\n",
    "    - ex) sales['국가'].value_counts().index : 국가 컬럼의 데이터를 카운트가 높은순으로 인덱스 이름으로 표시"
   ]
  },
  {
   "attachments": {},
   "cell_type": "markdown",
   "metadata": {},
   "source": [
    "2. unique() : 중복을 제외한 값들의 리스트가 반환"
   ]
  },
  {
   "attachments": {},
   "cell_type": "markdown",
   "metadata": {},
   "source": [
    "3. pd.to_datetime(변경할 데이터, format = \"\")"
   ]
  },
  {
   "attachments": {},
   "cell_type": "markdown",
   "metadata": {},
   "source": [
    "4. 잘못했을때 copy()\n",
    "    - origin_data = uriage.copy() : 안바뀌는 데이터 만들어놓기"
   ]
  },
  {
   "attachments": {},
   "cell_type": "markdown",
   "metadata": {},
   "source": [
    "5. apply() : DataFrame과 Series에 적용, 람다와 함께 많이 사용\n",
    "- DataFrame이나 Series의 각 원소에 함수를 적용한 결과를 반환\n",
    "- 람다와 같이 사용 많이함\n",
    "    - 예시)함수를 이용하여 글자를 모두 소문자로 변경\n",
    "    - apply()는 스리즈형태데이터.apply(함수) --> \n",
    "    - 스리즈의 데이터들을 하나씩 함수안에 넣어서 결과값으로 \n",
    "    - 새로운 스리즈형태의 데이터를 생성 "
   ]
  },
  {
   "attachments": {},
   "cell_type": "markdown",
   "metadata": {},
   "source": [
    "6. 파생변수 생성\n",
    "    - ex) 총단가 --> 판매단위 * 단가 : sales['총단가'] = sales['판매단위'] * sales['단가']"
   ]
  },
  {
   "attachments": {},
   "cell_type": "markdown",
   "metadata": {},
   "source": [
    "7. 시계열 함수\n",
    "    - to_datetime(원하는 컬럼, format=\"%m-%d-%y\")"
   ]
  },
  {
   "attachments": {},
   "cell_type": "markdown",
   "metadata": {},
   "source": [
    "8. 원본 데이터 생성 : 안바뀌는 데이터 만들어놓기\n",
    "    - ex) origin_data = 데이터.copy()"
   ]
  },
  {
   "attachments": {},
   "cell_type": "markdown",
   "metadata": {},
   "source": [
    "9. 수정된 데이터를 다시 로드 \n",
    "    - 예를 들어 mm 파일일때\n",
    "    - import imp\n",
    "    - imp.reload(mm) "
   ]
  },
  {
   "attachments": {},
   "cell_type": "markdown",
   "metadata": {},
   "source": [
    "10. lambda :함수 내부에서 간단한 연산을 수행하거나, 함수를 인자로 받는 함수에서 사용, apply와 함께 많이 사용\n",
    "    - ex) even_numbers = list(filter(lambda x : x % 2 == 0, numbers))"
   ]
  },
  {
   "attachments": {},
   "cell_type": "markdown",
   "metadata": {},
   "source": [
    "11. flg_null :데이터에서 결측값이 존재하는지 여부를 나타내는 플래그(Flag) 변수\n",
    "    - ~(flg_null) = 결측치가 아닌값"
   ]
  },
  {
   "attachments": {},
   "cell_type": "markdown",
   "metadata": {},
   "source": [
    "8. sql 터미널에서 열기\n",
    "    - mysql -u root -p"
   ]
  },
  {
   "attachments": {},
   "cell_type": "markdown",
   "metadata": {},
   "source": [
    "9. 한글이 표시될수 있도록 폰트 변경\n",
    "    - import matplotlib.pyplot as plt\n",
    "    - plt.rc('font', family = 'AppleGothic')"
   ]
  },
  {
   "cell_type": "code",
   "execution_count": 1,
   "metadata": {},
   "outputs": [],
   "source": [
    "# read_csv() 안에 들어가는 인자값을 생성\n",
    "# 상대경로 : ../csv/2017/파일명 -> 12개 출력\n",
    "# 비어있는 데이터프레임을 하나 생성\n",
    "# 경로에 있는 파일들을 pandas를 이용하여 데이터프레임으로 불러온다\n",
    "# concat을 이용하여 단순하게 행을 추가하는 결합\n",
    "# 결합을 하려면 기준이 되는 데이터프레임이 존재하여야한다\n",
    "\n",
    "\n"
   ]
  },
  {
   "attachments": {},
   "cell_type": "markdown",
   "metadata": {},
   "source": [
    "## 20230405 uriage파일"
   ]
  },
  {
   "attachments": {},
   "cell_type": "markdown",
   "metadata": {},
   "source": [
    "1. flg_null"
   ]
  },
  {
   "attachments": {},
   "cell_type": "markdown",
   "metadata": {},
   "source": [
    "2. value_counts() "
   ]
  },
  {
   "attachments": {},
   "cell_type": "markdown",
   "metadata": {},
   "source": [
    "3. fillna(n) : n의 값으로 결측치를 채운다"
   ]
  },
  {
   "attachments": {},
   "cell_type": "markdown",
   "metadata": {},
   "source": [
    "## 20230406 data 파일"
   ]
  },
  {
   "attachments": {},
   "cell_type": "markdown",
   "metadata": {},
   "source": [
    "1. concat() : 데이터프레임을 결합 - 유니언결합 : 단순하게 행을 추가하거나, 열을 추가하여 데이터프레임을 결합\n",
    "    - 매개변수 axis : 행을 결합할것인지 열을 결합할것인지 지정\n",
    "    - 매개변수 ignore_index : 데이터프레임을 결합한 뒤 인덱스를 초기화 할것인지 지정"
   ]
  },
  {
   "attachments": {},
   "cell_type": "markdown",
   "metadata": {},
   "source": [
    "2. merge() : 특정한 조건에 맞춰서 열을 추가하는 함수\n",
    "- 특정 조건에 맞게 데이터를 결합 (조인 결합)\n",
    "    - 데이터프레임 특정한 조건이 참이면 데이터를 결합하는 형태\n",
    "    - 열을 추가하는 함수로 merge()\n",
    "    - 매개변수 on : 특정한 조건 지정\n",
    "    - 매개변수 how : (left, right, inner, outer) 데이터프레임의 기준을 지정"
   ]
  },
  {
   "attachments": {},
   "cell_type": "markdown",
   "metadata": {},
   "source": [
    "3. agg() : DataFrame이나 Series의 열(columns)에 대해 집계(aggregation) 함수를 적용하여 그룹화된 데이터를 반환\n",
    "    - 한번에 여러개 해줄수 있게 하는 함수"
   ]
  },
  {
   "attachments": {},
   "cell_type": "markdown",
   "metadata": {},
   "source": [
    "4. strftime"
   ]
  },
  {
   "attachments": {},
   "cell_type": "markdown",
   "metadata": {},
   "source": [
    "5. tolist()  #tolist()는 리스트로 바꾸겠다는 뚯"
   ]
  },
  {
   "attachments": {},
   "cell_type": "markdown",
   "metadata": {},
   "source": [
    "plot.bar()\n",
    "pivot.plot.bar()\n",
    "set_index"
   ]
  },
  {
   "attachments": {},
   "cell_type": "markdown",
   "metadata": {},
   "source": [
    "## 크롤링 : 20230414 test"
   ]
  },
  {
   "attachments": {},
   "cell_type": "markdown",
   "metadata": {},
   "source": [
    "- 태그의 이름을 사용해서 검색\n",
    "    - soup[태그명] : 해당 태그의 첫번째 정보를 출력\n",
    "    - soup[태그명][속성] : 해당 태그의 첫번째 속성에 대한 값을 출력"
   ]
  },
  {
   "attachments": {},
   "cell_type": "markdown",
   "metadata": {},
   "source": [
    "append\n",
    "find(), find_all\n",
    "attrs"
   ]
  },
  {
   "attachments": {},
   "cell_type": "markdown",
   "metadata": {},
   "source": [
    "## 20230412 tips"
   ]
  },
  {
   "attachments": {},
   "cell_type": "markdown",
   "metadata": {},
   "source": [
    "1. round : 반올림하는 함수"
   ]
  },
  {
   "attachments": {},
   "cell_type": "markdown",
   "metadata": {},
   "source": [
    "plt.legend()"
   ]
  },
  {
   "attachments": {},
   "cell_type": "markdown",
   "metadata": {},
   "source": [
    "pd.pivot_table"
   ]
  },
  {
   "attachments": {},
   "cell_type": "markdown",
   "metadata": {},
   "source": [
    "any() : 인자값의 일부라도 트루면 트루 모두 펄스면 펄스\n",
    "any(axis= 'columns') 트루값 찾아줌"
   ]
  },
  {
   "attachments": {},
   "cell_type": "markdown",
   "metadata": {},
   "source": [
    "isin : 이 함수는 Series나 DataFrame 객체에서 원하는 값이 있는지 여부를 불리언(Boolean) 형태(T, F)로 반환"
   ]
  },
  {
   "attachments": {},
   "cell_type": "markdown",
   "metadata": {},
   "source": [
    "dropna :  DataFrame에서 결측치가 포함된 행(row)이나 열(column)을 제거합니다\n",
    "isna: isna()는 DataFrame에서 결측치(missing values)인 위치를 찾습니다."
   ]
  },
  {
   "attachments": {},
   "cell_type": "markdown",
   "metadata": {},
   "source": [
    "cumprod() :# 누적곱을 해주는 함수"
   ]
  },
  {
   "attachments": {},
   "cell_type": "markdown",
   "metadata": {},
   "source": [
    "pct_change()"
   ]
  },
  {
   "attachments": {},
   "cell_type": "markdown",
   "metadata": {},
   "source": [
    "np.nan, np.inf, -np.inf : 결측치와 무한대"
   ]
  },
  {
   "attachments": {},
   "cell_type": "markdown",
   "metadata": {},
   "source": [
    "~ 와 ! 구분 : ~ : 비트 반전 연산자\n",
    "! : 논리 부정 연산자\n",
    "~ 연산자는 피연산자의 모든 비트를 반전시킵니다. 따라서, 정수형 변수의 모든 비트를 뒤집어서 부호를 반대로 만들거나, 이진수에서 비트값을 뒤집을 때 사용됩니다.\n",
    "\n",
    "python\n",
    "Copy code\n",
    "x = 0b1101  # 13\n",
    "y = ~x      # -14\n",
    "print(y)    # -14\n",
    "! 연산자는 논리값을 반대로 만듭니다. 즉, True는 False로, False는 True로 바꿉니다. 이러한 논리 부정 연산자는 조건문에서 특정 조건이 아닌 경우를 검사할 때나, 불리언(Boolean) 변수를 반대로 만들어야 할 때 사용됩니다."
   ]
  },
  {
   "attachments": {},
   "cell_type": "markdown",
   "metadata": {},
   "source": [
    "rolling(20).std()"
   ]
  },
  {
   "attachments": {},
   "cell_type": "markdown",
   "metadata": {},
   "source": [
    "isoformat()"
   ]
  },
  {
   "attachments": {},
   "cell_type": "markdown",
   "metadata": {},
   "source": [
    "# class 선언\n",
    "class User:\n",
    "    # 생성자 함수 생성 : 매개변수는 4개 (self포함해서)\n",
    "    def __init__(self, name, phone, birth):\n",
    "        self.name = name\n",
    "        self.phone = phone\n",
    "        self.birth = birth\n",
    "    \n",
    "    def info(self):\n",
    "        return(self.name, self.phone, self.birth)"
   ]
  },
  {
   "attachments": {},
   "cell_type": "markdown",
   "metadata": {},
   "source": [
    "astype(str)"
   ]
  },
  {
   "attachments": {},
   "cell_type": "markdown",
   "metadata": {},
   "source": [
    ".str"
   ]
  },
  {
   "attachments": {},
   "cell_type": "markdown",
   "metadata": {},
   "source": [
    "맥함수 제일 많이 사용 특히 여러개일때 편함\n",
    "\n",
    "맵함수?"
   ]
  },
  {
   "attachments": {},
   "cell_type": "markdown",
   "metadata": {},
   "source": [
    "astype('float') : 데이터 형태 변환"
   ]
  },
  {
   "cell_type": "markdown",
   "metadata": {},
   "source": []
  }
 ],
 "metadata": {
  "kernelspec": {
   "display_name": "Python 3",
   "language": "python",
   "name": "python3"
  },
  "language_info": {
   "codemirror_mode": {
    "name": "ipython",
    "version": 3
   },
   "file_extension": ".py",
   "mimetype": "text/x-python",
   "name": "python",
   "nbconvert_exporter": "python",
   "pygments_lexer": "ipython3",
   "version": "3.9.6"
  },
  "orig_nbformat": 4
 },
 "nbformat": 4,
 "nbformat_minor": 2
}
