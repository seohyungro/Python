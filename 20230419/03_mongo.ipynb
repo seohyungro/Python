{
 "cells": [
  {
   "attachments": {},
   "cell_type": "markdown",
   "metadata": {},
   "source": [
    "# mongodb\n",
    "1. 라이브러리 설치\n",
    "2. 라이브러리 로드\n",
    "3. CRUD\n",
    "    - create : insertOne() 또는 insertMany()\n",
    "    - read : find()\n",
    "    - update : updateOne(), updateMany(), replaceOne() 등\n",
    "    -  delete : deleteOne(), deleteMany()\n",
    "4. 터미널에 brew services start mongodb-community 를 쳐야 시작됨"
   ]
  },
  {
   "cell_type": "code",
   "execution_count": 1,
   "metadata": {},
   "outputs": [
    {
     "name": "stdout",
     "output_type": "stream",
     "text": [
      "Defaulting to user installation because normal site-packages is not writeable\n",
      "Collecting pymongo\n",
      "  Downloading pymongo-4.3.3-cp39-cp39-macosx_10_9_universal2.whl (413 kB)\n",
      "\u001b[K     |████████████████████████████████| 413 kB 1.3 MB/s eta 0:00:01\n",
      "\u001b[?25hCollecting dnspython<3.0.0,>=1.16.0\n",
      "  Downloading dnspython-2.3.0-py3-none-any.whl (283 kB)\n",
      "\u001b[K     |████████████████████████████████| 283 kB 24.4 MB/s eta 0:00:01\n",
      "\u001b[?25hInstalling collected packages: dnspython, pymongo\n",
      "Successfully installed dnspython-2.3.0 pymongo-4.3.3\n",
      "\u001b[33mWARNING: You are using pip version 21.2.4; however, version 23.1 is available.\n",
      "You should consider upgrading via the '/Library/Developer/CommandLineTools/usr/bin/python3 -m pip install --upgrade pip' command.\u001b[0m\n"
     ]
    }
   ],
   "source": [
    "!pip3 install pymongo"
   ]
  },
  {
   "cell_type": "code",
   "execution_count": 2,
   "metadata": {},
   "outputs": [],
   "source": [
    "from pymongo import MongoClient"
   ]
  },
  {
   "cell_type": "code",
   "execution_count": 8,
   "metadata": {},
   "outputs": [],
   "source": [
    "client = MongoClient(\n",
    "    host = 'localhost',\n",
    "    port = 27017\n",
    ")"
   ]
  },
  {
   "cell_type": "code",
   "execution_count": 19,
   "metadata": {},
   "outputs": [
    {
     "data": {
      "text/plain": [
       "['admin', 'config', 'local', 'ubion']"
      ]
     },
     "execution_count": 19,
     "metadata": {},
     "output_type": "execute_result"
    }
   ],
   "source": [
    "# mongodb에 있는 데이터베이스의 목록 출력\n",
    "client.list_database_names()"
   ]
  },
  {
   "cell_type": "code",
   "execution_count": 10,
   "metadata": {},
   "outputs": [],
   "source": [
    "# 데이터베이스를 선택\n",
    "db = client['ubion']"
   ]
  },
  {
   "cell_type": "code",
   "execution_count": 11,
   "metadata": {},
   "outputs": [],
   "source": [
    "# collection 접근 (collection은 sql에서 table과 같은 의미)\n",
    "collection = db['test']"
   ]
  },
  {
   "cell_type": "code",
   "execution_count": 12,
   "metadata": {},
   "outputs": [
    {
     "data": {
      "text/plain": [
       "<pymongo.results.InsertOneResult at 0x109649340>"
      ]
     },
     "execution_count": 12,
     "metadata": {},
     "output_type": "execute_result"
    }
   ],
   "source": [
    "# CRUD -> C\n",
    "# create -> insert()\n",
    "# insert_one() / insert_many()\n",
    "data ={\n",
    "    'id' : 'test',\n",
    "    'pass' : '1234'\n",
    "}\n",
    "collection.insert_one(data)"
   ]
  },
  {
   "cell_type": "code",
   "execution_count": 14,
   "metadata": {},
   "outputs": [
    {
     "data": {
      "text/plain": [
       "{'_id': ObjectId('643f8af75a0ff4f119cc82c5'), 'id': 'test', 'pass': '1234'}"
      ]
     },
     "execution_count": 14,
     "metadata": {},
     "output_type": "execute_result"
    }
   ],
   "source": [
    "collection.find_one()\n",
    "# 이거 결과값의 첫번째꺼가 프라이머리 키로 자동 인식됨"
   ]
  },
  {
   "cell_type": "code",
   "execution_count": 17,
   "metadata": {},
   "outputs": [
    {
     "data": {
      "text/plain": [
       "<pymongo.results.InsertManyResult at 0x10965fc70>"
      ]
     },
     "execution_count": 17,
     "metadata": {},
     "output_type": "execute_result"
    }
   ],
   "source": [
    "data = [\n",
    "    {\n",
    "    'name' : 'test1',\n",
    "    'phone' : '010111122222',\n",
    "    'gender' : 'male'\n",
    "    },\n",
    "    {\n",
    "    'loc' :'seoul'\n",
    "    }\n",
    "]\n",
    "collection.insert_many(data)"
   ]
  },
  {
   "cell_type": "code",
   "execution_count": 18,
   "metadata": {},
   "outputs": [
    {
     "data": {
      "text/plain": [
       "[{'_id': ObjectId('643f8af75a0ff4f119cc82c5'), 'id': 'test', 'pass': '1234'},\n",
       " {'_id': ObjectId('643f8d5f5a0ff4f119cc82c6'),\n",
       "  'name': 'test1',\n",
       "  'phone': '010111122222',\n",
       "  'gender': 'male'},\n",
       " {'_id': ObjectId('643f8d5f5a0ff4f119cc82c7'), 'loc': 'seoul'}]"
      ]
     },
     "execution_count": 18,
     "metadata": {},
     "output_type": "execute_result"
    }
   ],
   "source": [
    "list(collection.find())"
   ]
  },
  {
   "attachments": {},
   "cell_type": "markdown",
   "metadata": {},
   "source": [
    "1. sql에서 name이 test1인 경우의 데이터를 출력\n",
    "    - select * from test where name = 'test1'"
   ]
  },
  {
   "cell_type": "code",
   "execution_count": 20,
   "metadata": {},
   "outputs": [
    {
     "data": {
      "text/plain": [
       "[{'_id': ObjectId('643f8d5f5a0ff4f119cc82c6'),\n",
       "  'name': 'test1',\n",
       "  'phone': '010111122222',\n",
       "  'gender': 'male'}]"
      ]
     },
     "execution_count": 20,
     "metadata": {},
     "output_type": "execute_result"
    }
   ],
   "source": [
    "# 위에 있는 쿼리를 똑같이 만든거\n",
    "list(collection.find({'name' : 'test1'}))"
   ]
  },
  {
   "attachments": {},
   "cell_type": "markdown",
   "metadata": {},
   "source": [
    "1. 해당하는 컬럼의 데이터만 출력하려면\n",
    "    - select name from test"
   ]
  },
  {
   "cell_type": "code",
   "execution_count": 21,
   "metadata": {},
   "outputs": [
    {
     "data": {
      "text/plain": [
       "[{'_id': ObjectId('643f8af75a0ff4f119cc82c5')},\n",
       " {'_id': ObjectId('643f8d5f5a0ff4f119cc82c6'), 'name': 'test1'},\n",
       " {'_id': ObjectId('643f8d5f5a0ff4f119cc82c7')}]"
      ]
     },
     "execution_count": 21,
     "metadata": {},
     "output_type": "execute_result"
    }
   ],
   "source": [
    "list(collection.find({},{'name' : 1}))"
   ]
  },
  {
   "attachments": {},
   "cell_type": "markdown",
   "metadata": {},
   "source": [
    "1. 데이터의 수정\n",
    "    - update test set pass ='0000' where id = 'test' (sql)\n",
    "    - test 테이블에 id가 test인 데이터에서 pass의 값을 0000으로 수정하겠다"
   ]
  },
  {
   "cell_type": "code",
   "execution_count": 23,
   "metadata": {},
   "outputs": [
    {
     "data": {
      "text/plain": [
       "<pymongo.results.UpdateResult at 0x1096e8280>"
      ]
     },
     "execution_count": 23,
     "metadata": {},
     "output_type": "execute_result"
    }
   ],
   "source": [
    "collection.update_one(\n",
    "    {\n",
    "        'id' : 'test'\n",
    "    },\n",
    "    {\n",
    "        \"$set\" :{\n",
    "            'pass' : '0000'\n",
    "        }\n",
    "    }\n",
    ")"
   ]
  },
  {
   "cell_type": "code",
   "execution_count": 25,
   "metadata": {},
   "outputs": [
    {
     "data": {
      "text/plain": [
       "{'_id': ObjectId('643f8af75a0ff4f119cc82c5'), 'id': 'test', 'pass': '0000'}"
      ]
     },
     "execution_count": 25,
     "metadata": {},
     "output_type": "execute_result"
    }
   ],
   "source": [
    "collection.find_one()"
   ]
  },
  {
   "attachments": {},
   "cell_type": "markdown",
   "metadata": {},
   "source": [
    "1. 데이터의 삭제\n",
    "    - delete from test where id = 'test'\n",
    "    - test 테이블에서 id가 'test'인 데이터를 삭제"
   ]
  },
  {
   "cell_type": "code",
   "execution_count": 26,
   "metadata": {},
   "outputs": [
    {
     "data": {
      "text/plain": [
       "<pymongo.results.DeleteResult at 0x1096abe80>"
      ]
     },
     "execution_count": 26,
     "metadata": {},
     "output_type": "execute_result"
    }
   ],
   "source": [
    "collection.delete_one(\n",
    "    {\n",
    "        'id' : 'test'\n",
    "    }\n",
    ")"
   ]
  },
  {
   "cell_type": "code",
   "execution_count": 31,
   "metadata": {},
   "outputs": [
    {
     "data": {
      "text/plain": [
       "[{'_id': ObjectId('643f8d5f5a0ff4f119cc82c6'),\n",
       "  'name': 'test1',\n",
       "  'phone': '010111122222',\n",
       "  'gender': 'male'},\n",
       " {'_id': ObjectId('643f8d5f5a0ff4f119cc82c7'), 'loc': 'seoul'}]"
      ]
     },
     "execution_count": 31,
     "metadata": {},
     "output_type": "execute_result"
    }
   ],
   "source": [
    "list(collection.find())"
   ]
  },
  {
   "cell_type": "code",
   "execution_count": 35,
   "metadata": {},
   "outputs": [
    {
     "data": {
      "text/plain": [
       "[{'_id': ObjectId('643f8d5f5a0ff4f119cc82c6'),\n",
       "  'name': 'test1',\n",
       "  'phone': '010111122222',\n",
       "  'gender': 'male'},\n",
       " {'_id': ObjectId('643f8d5f5a0ff4f119cc82c7'), 'loc': 'seoul'}]"
      ]
     },
     "execution_count": 35,
     "metadata": {},
     "output_type": "execute_result"
    }
   ],
   "source": [
    "# 위에랑 똑같은데 collection으로 안묶고 하기\n",
    "list(client['ubion']['test'].find())"
   ]
  },
  {
   "attachments": {},
   "cell_type": "markdown",
   "metadata": {},
   "source": [
    "### mongodb select 조건식\n",
    "\n",
    "- find(옵션1, 옵션2, 옵션2, ...., 컬럼 선택)\n",
    "\n",
    "    1. db.collection.find() -> select * from TABLE\n",
    "    2. db.collection.find({}, {'id' : 1, 'pass' : 1}) -> select id, pass from TABLE\n",
    "    3. db.collection.find({}, {'id' : 1, 'pass' : 1, 'id' : 0}) ->  2번과정과 같은 sql 문이지만 _id를 보여주지않겠다\n",
    "    4. db.collection.find({'id' : 'test'}) -> select * from TABLE where id = 'test'\n",
    "    5. db.collection.find({'id' : 1, 'pass' : '1234'}) -> select * from TABLE where id = 'test' and pass = '1234'\n",
    "    6. db.collection.find({'id' : 1}, {'pass' : 1}) -> select * from TABLE where id = 'test' or pass ='1234'\n",
    "    7. db.collection.find({\"age\" : {\"$gt\" : 25}}) -> select * from TABLE where age > 25\n",
    "    8. db.collection.find({\"age\" : {\"$lt\" : 25}}) -> select * from TABLE where age < 25\n",
    "    9. db.collection.find({\"id\" : {/bc/}}) -> select * from TABLE where id like '%bc%'\n",
    "    10. db.collection.find().sort({\"id\" : 1}) ->select * from TABLE order by id ASC\n",
    "    11. db.collection.find().sort({\"id\" : -1}) ->select * from TABLE order by id DESC\n",
    "    12.  db.collection.find().limit(10) -> select * from TABLE limit 10"
   ]
  }
 ],
 "metadata": {
  "kernelspec": {
   "display_name": "Python 3",
   "language": "python",
   "name": "python3"
  },
  "language_info": {
   "codemirror_mode": {
    "name": "ipython",
    "version": 3
   },
   "file_extension": ".py",
   "mimetype": "text/x-python",
   "name": "python",
   "nbconvert_exporter": "python",
   "pygments_lexer": "ipython3",
   "version": "3.9.6"
  },
  "orig_nbformat": 4
 },
 "nbformat": 4,
 "nbformat_minor": 2
}
