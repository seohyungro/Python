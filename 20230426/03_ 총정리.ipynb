{
 "cells": [
  {
   "attachments": {},
   "cell_type": "markdown",
   "metadata": {},
   "source": [
    "> 함수\n",
    "- 정의할때 무조건 ()에 매개변수를 넣어서 활용\n",
    "- 매개변수는 함수 내부에 전달되는 값\n",
    "- 함수 사용할때 변경할때는 괄호안에 넣는게 아니라. 또는 []로 사용하고 변경이 아니라 길이를 알거나 범위를 지정하고 싶을때는 ()안에 넣기\n",
    "- 함수를 정의할때 반환할 값이 있으면 return함수 사용 return은 호출이라 () 생략 가능\n",
    "- 밑의 함수들은 내장함수 def는 함수를 정의하는것"
   ]
  },
  {
   "attachments": {},
   "cell_type": "markdown",
   "metadata": {},
   "source": [
    "> input() : 키보드로 입력받은 값을 문자열로 반환 \n",
    "- 따라서 숫자로 받을려면 int 형태로 바꿔줘야함\n",
    "- ex) int(input(\" \"))"
   ]
  },
  {
   "attachments": {},
   "cell_type": "markdown",
   "metadata": {},
   "source": [
    "> range() 함수\n",
    "- range(시작값, 종료값, 증가값) : 정수\n",
    "- range(반복횟수)\n",
    "- 0부터 반복"
   ]
  },
  {
   "cell_type": "markdown",
   "metadata": {},
   "source": []
  },
  {
   "attachments": {},
   "cell_type": "markdown",
   "metadata": {},
   "source": [
    "> 순서\n",
    "- a.sort() 순서를 오름차순으로 변경\n",
    "- b.reverse() 순서를 역순으로 변경\n",
    "    - 리스트에서만 사용가능\n",
    "    - 튜플은 리스트로 변경후 사용\n",
    "    - 딕셔너리는 sorted()함수 사용 : 리스트에서도 사용가능"
   ]
  },
  {
   "attachments": {},
   "cell_type": "markdown",
   "metadata": {},
   "source": [
    "> 항목 추가 및 삭제\n",
    "- a.pop() : a 리스트에서 마지막 항목 삭제\n",
    "- b.append(22) :# b 리스트에는 22라는 항목을 마지막 항에 추가 \n",
    "- dict['area'] = 'seoul' : dict이라는 딕셔너리에서 추가 : 딕셔너리에서\n",
    "- del(dict['phone']) dict이라는 딕셔너리에서 키 값을 삭제 : 딕셔너리에서"
   ]
  },
  {
   "attachments": {},
   "cell_type": "markdown",
   "metadata": {},
   "source": [
    "> len()함수 : 길이를 알고싶을때\n",
    "- 리스트, 딕셔너리, 튜플 다 사용가능"
   ]
  },
  {
   "attachments": {},
   "cell_type": "markdown",
   "metadata": {},
   "source": [
    "> 대소문자 변경 함수\n",
    "- upper() 함수 : 문자를 모두 대문자로 변경\n",
    "- lower() 함수 : 문자를 모두 소문자로 변경\n",
    "- title() 함수 : 문자의 첫글자만 대문자로 변경(띄어쓰기마다)\n",
    "- ex) str.upper()를 사용하여 문자열을 대문자로 변경하는 방식\n",
    "    - uriage['item_name'].str.upper()"
   ]
  },
  {
   "attachments": {},
   "cell_type": "markdown",
   "metadata": {},
   "source": [
    "> 공백 삭제 함수\n",
    "- strip() : 양끝 좌우 모두 공백 삭제\n",
    "- lstrip() : 좌측 공백만 제거\n",
    "- rstrip() : 우측 공백만 제거\n"
   ]
  },
  {
   "attachments": {},
   "cell_type": "markdown",
   "metadata": {},
   "source": [
    "> replace() : 특정단어를 대체하는 함수\n",
    "- strip()은 가운데값은 못없애기때문에 replace 사용"
   ]
  },
  {
   "attachments": {},
   "cell_type": "markdown",
   "metadata": {},
   "source": [
    "> split(특정한 값) : 문자열을 특정한 값을 기준으로 나눠주는 함수\n",
    "- split(특정한 값)-> 인자 값을 아무것도 넣지 않으면 \" \"을 기준으로 나눠준다"
   ]
  },
  {
   "attachments": {},
   "cell_type": "markdown",
   "metadata": {},
   "source": [
    "> 가장 크고 작은 숫자 출력\n",
    "- max() -> 인자값들 중에 가장 큰 숫자를 출력\n",
    "- min() -> 인자 값들 중에 가장 작은 숫자를 출력"
   ]
  },
  {
   "cell_type": "markdown",
   "metadata": {},
   "source": []
  }
 ],
 "metadata": {
  "kernelspec": {
   "display_name": "Python 3",
   "language": "python",
   "name": "python3"
  },
  "language_info": {
   "codemirror_mode": {
    "name": "ipython",
    "version": 3
   },
   "file_extension": ".py",
   "mimetype": "text/x-python",
   "name": "python",
   "nbconvert_exporter": "python",
   "pygments_lexer": "ipython3",
   "version": "3.9.6"
  },
  "orig_nbformat": 4
 },
 "nbformat": 4,
 "nbformat_minor": 2
}
