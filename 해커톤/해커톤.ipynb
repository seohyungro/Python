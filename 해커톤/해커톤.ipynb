{
 "cells": [
  {
   "cell_type": "code",
   "execution_count": 319,
   "metadata": {},
   "outputs": [],
   "source": [
    "import pandas as pd"
   ]
  },
  {
   "cell_type": "code",
   "execution_count": 320,
   "metadata": {},
   "outputs": [],
   "source": [
    "kospi1 = pd.read_csv(\"./코스피200연결.csv\", encoding = \"euc-kr\")\n",
    "kospi2 = pd.read_csv(\"./코스피200개별.csv\", encoding = \"euc-kr\")\n",
    "st13 = pd.read_csv(\"./코스피주식(2013).csv\", encoding = \"euc-kr\")\n",
    "st14 = pd.read_csv(\"./코스피주식(2014).csv\", encoding = \"euc-kr\")\n",
    "st15 = pd.read_csv(\"./코스피주식(2015).csv\", encoding = \"euc-kr\")\n",
    "st16 = pd.read_csv(\"./코스피주식(2016).csv\", encoding = \"euc-kr\")\n",
    "st17 = pd.read_csv(\"./코스피주식(2017).csv\", encoding = \"euc-kr\")\n",
    "st18 = pd.read_csv(\"./코스피주식(2018).csv\", encoding = \"euc-kr\")\n",
    "st19 = pd.read_csv(\"./코스피주식(2019).csv\", encoding = \"euc-kr\")\n",
    "st20 = pd.read_csv(\"./코스피주식(2020).csv\", encoding = \"euc-kr\")\n",
    "st21 = pd.read_csv(\"./코스피주식(2021).csv\", encoding = \"euc-kr\")\n",
    "st22 = pd.read_csv(\"./코스피주식(2022).csv\", encoding = \"euc-kr\")\n"
   ]
  },
  {
   "cell_type": "code",
   "execution_count": 321,
   "metadata": {},
   "outputs": [],
   "source": [
    "kospi1.columns = ['회사명', '종목코드', '회계년도', '거래월', '종가', '자산', '부채', '당기순이익', '현금흐름', '매출액', '비유동자산', '매출총이익', '법인세비용', '이자비용', '감가상각비', '유동자산',\n",
    "       '유동부채', '현금및현금성자산']\n",
    "kospi2.columns = ['회사명', '종목코드', '회계년도', '거래월', '종가', '자산', '부채', '당기순이익', '현금흐름', '매출액', '비유동자산', '매출총이익', '법인세비용', '이자비용', '감가상각비', '유동자산',\n",
    "       '유동부채', '현금및현금성자산']"
   ]
  },
  {
   "cell_type": "code",
   "execution_count": 323,
   "metadata": {},
   "outputs": [],
   "source": [
    "st13['회계년도'] = '2013/12'\n",
    "st14['회계년도'] = '2014/12'\n",
    "st15['회계년도'] = '2015/12'\n",
    "st16['회계년도'] = '2016/12'\n",
    "st17['회계년도'] = '2017/12'\n",
    "st18['회계년도'] = '2018/12'\n",
    "st19['회계년도'] = '2019/12'\n",
    "st20['회계년도'] = '2020/12'\n",
    "st21['회계년도'] = '2021/12'\n",
    "st22['회계년도'] = '2022/12'\n"
   ]
  },
  {
   "cell_type": "code",
   "execution_count": 325,
   "metadata": {},
   "outputs": [],
   "source": [
    "df = pd.concat([st13, st14, st15, st16, st17, st18, st19, st20, st21, st22], axis=0)"
   ]
  },
  {
   "cell_type": "code",
   "execution_count": 326,
   "metadata": {},
   "outputs": [],
   "source": [
    "df['종목코드'] = df['종목코드'].apply(lambda x: x.lstrip('0'))"
   ]
  },
  {
   "cell_type": "code",
   "execution_count": 332,
   "metadata": {},
   "outputs": [],
   "source": [
    "kospi = kospi1.fillna(kospi2)"
   ]
  },
  {
   "cell_type": "code",
   "execution_count": 334,
   "metadata": {},
   "outputs": [],
   "source": [
    "kospi['종목코드'] = kospi['종목코드'].astype(str)"
   ]
  },
  {
   "cell_type": "code",
   "execution_count": 335,
   "metadata": {},
   "outputs": [],
   "source": [
    "kospi = pd.merge(kospi, df[['종목코드', '회계년도', '상장주식수', '시가총액']], on=['종목코드', '회계년도'], how='left')"
   ]
  },
  {
   "cell_type": "code",
   "execution_count": 337,
   "metadata": {},
   "outputs": [],
   "source": [
    "kospi['pbr'] = (kospi['종가']*kospi['상장주식수'])/(kospi['자산']-kospi['부채'])\n",
    "kospi['per'] = kospi['종가']/(kospi['당기순이익']/kospi['상장주식수'])\n",
    "kospi['pcr'] = kospi['종가']/(kospi['현금흐름']/kospi['상장주식수'])\n",
    "kospi['psr'] = kospi['종가']/(kospi['매출액']/kospi['상장주식수'])\n",
    "kospi['roe'] = kospi['당기순이익']/(kospi['자산']-kospi['부채'])\n",
    "kospi['roa'] = kospi['당기순이익']/kospi['자산']\n",
    "kospi['roic'] = kospi['당기순이익']/(kospi['자산']-kospi['비유동자산'])\n",
    "kospi['gpa'] = kospi['매출총이익']/kospi['자산']"
   ]
  },
  {
   "cell_type": "code",
   "execution_count": 339,
   "metadata": {},
   "outputs": [],
   "source": [
    "# 분자(EBIT)\n",
    "magic_ebit = kospi['당기순이익'] + kospi['법인세비용'] + kospi['이자비용']\n",
    "\n",
    "# 분모\n",
    "magic_cap = kospi['시가총액']\n",
    "magic_debt = kospi['부채']\n",
    "\n",
    "## 분모: 여유자금\n",
    "magic_excess_cash = kospi['유동부채'] - kospi['유동자산'] + kospi[\n",
    "    '현금및현금성자산']\n",
    "magic_excess_cash[magic_excess_cash < 0] = 0\n",
    "magic_excess_cash_final = kospi['현금및현금성자산'] - magic_excess_cash\n",
    "\n",
    "magic_ev = magic_cap + magic_debt - magic_excess_cash_final\n",
    "\n",
    "# 이익수익률\n",
    "magic_ey = magic_ebit / magic_ev\n",
    "kospi['매직'] = magic_ey"
   ]
  },
  {
   "cell_type": "code",
   "execution_count": 340,
   "metadata": {},
   "outputs": [],
   "source": [
    "kospi = kospi.dropna()"
   ]
  },
  {
   "cell_type": "code",
   "execution_count": 341,
   "metadata": {},
   "outputs": [
    {
     "data": {
      "text/plain": [
       "179"
      ]
     },
     "execution_count": 341,
     "metadata": {},
     "output_type": "execute_result"
    }
   ],
   "source": [
    "len(kospi['회사명'].unique())"
   ]
  },
  {
   "cell_type": "code",
   "execution_count": null,
   "metadata": {},
   "outputs": [],
   "source": []
  }
 ],
 "metadata": {
  "kernelspec": {
   "display_name": "Python 3",
   "language": "python",
   "name": "python3"
  },
  "language_info": {
   "codemirror_mode": {
    "name": "ipython",
    "version": 3
   },
   "file_extension": ".py",
   "mimetype": "text/x-python",
   "name": "python",
   "nbconvert_exporter": "python",
   "pygments_lexer": "ipython3",
   "version": "3.9.6"
  },
  "orig_nbformat": 4
 },
 "nbformat": 4,
 "nbformat_minor": 2
}
