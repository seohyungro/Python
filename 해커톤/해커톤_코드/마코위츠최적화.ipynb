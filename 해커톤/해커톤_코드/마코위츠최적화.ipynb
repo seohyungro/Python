{
 "cells": [
  {
   "cell_type": "code",
   "execution_count": null,
   "metadata": {},
   "outputs": [],
   "source": [
    "import pandas as pd\n",
    "import numpy as np\n",
    "import cvxpy as cp"
   ]
  },
  {
   "cell_type": "code",
   "execution_count": null,
   "metadata": {},
   "outputs": [],
   "source": [
    "returns = df.pct_change().dropna()\n",
    "\n",
    "def calculate_portfolio_return(weights, returns):\n",
    "    portfolio_return = returns.mean().dot(weights)\n",
    "    return portfolio_return\n",
    "\n",
    "n_assets = len(df.columns)\n",
    "weights = cp.Variable(n_assets)\n",
    "objective = cp.Maximize(calculate_portfolio_return(weights, returns))\n",
    "constraints = [cp.sum(weights) == 1, weights >= 0]\n",
    "problem = cp.Problem(objective, constraints)\n",
    "problem.solve()\n",
    "\n",
    "optimal_weights = weights.value\n",
    "\n",
    "for i, asset in enumerate(df.columns):\n",
    "    print(f'{asset}: {optimal_weights[i]}')"
   ]
  }
 ],
 "metadata": {
  "language_info": {
   "name": "python"
  },
  "orig_nbformat": 4
 },
 "nbformat": 4,
 "nbformat_minor": 2
}
